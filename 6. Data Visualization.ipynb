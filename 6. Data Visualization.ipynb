{
 "cells": [
  {
   "cell_type": "markdown",
   "metadata": {},
   "source": [
    "# Data Visualization\n",
    "We'll take a look at two different libraries for data visulization:\n",
    "* **Matplotlib**: this is probably the most commonly used data visualization package for Python. There are many examples in the [Matplotlib documentation](https://matplotlib.org/). For the examples here, I'll use the `pyplot` module. There are more advanced plotting options (similar to MATLAB) that are well documented in the link above.\n",
    "* **Seaborn**: this library is actually built on top of Matplotlib with a focus on more statistically oriented plotting. Here is a link to the [Seaborn documentation](https://seaborn.pydata.org/).\n",
    "\n",
    "Here's a nice [link to a graphic](https://www.slideshare.net/continuumio/taming-the-python-data-visualization-jungle) showing many of the different libraries associated with visualizations for Python."
   ]
  },
  {
   "cell_type": "code",
   "execution_count": 34,
   "metadata": {
    "slideshow": {
     "slide_type": "slide"
    }
   },
   "outputs": [],
   "source": [
    "# import necessary libraries\n",
    "import pandas as pd # for data frames, reading and writing data\n",
    "from matplotlib import pyplot as plt\n",
    "import matplotlib.dates as mdates\n",
    "import seaborn as sns\n",
    "\n",
    "import numpy as np\n",
    "from math import sqrt\n",
    "\n",
    "# the next line is so that the matplot lib plots show up in the notebook cell\n",
    "%matplotlib inline"
   ]
  },
  {
   "cell_type": "markdown",
   "metadata": {},
   "source": [
    "## Load Data\n",
    "Let's use the same sample data that we used before in the Pandas section. We'll load the user data, since that has the most fields and potential for \"dirty\" data."
   ]
  },
  {
   "cell_type": "code",
   "execution_count": 3,
   "metadata": {},
   "outputs": [
    {
     "data": {
      "text/html": [
       "<div>\n",
       "<style scoped>\n",
       "    .dataframe tbody tr th:only-of-type {\n",
       "        vertical-align: middle;\n",
       "    }\n",
       "\n",
       "    .dataframe tbody tr th {\n",
       "        vertical-align: top;\n",
       "    }\n",
       "\n",
       "    .dataframe thead th {\n",
       "        text-align: right;\n",
       "    }\n",
       "</style>\n",
       "<table border=\"1\" class=\"dataframe\">\n",
       "  <thead>\n",
       "    <tr style=\"text-align: right;\">\n",
       "      <th></th>\n",
       "      <th>id</th>\n",
       "      <th>id_str</th>\n",
       "      <th>name</th>\n",
       "      <th>screen_name</th>\n",
       "      <th>location</th>\n",
       "      <th>followers_count</th>\n",
       "      <th>friends_count</th>\n",
       "      <th>favourites_count</th>\n",
       "      <th>description</th>\n",
       "      <th>geo_enabled</th>\n",
       "      <th>...</th>\n",
       "      <th>statuses_count</th>\n",
       "      <th>time_zone</th>\n",
       "      <th>created_at</th>\n",
       "      <th>verified</th>\n",
       "      <th>utc_offset</th>\n",
       "      <th>contributors_enabled</th>\n",
       "      <th>listed_count</th>\n",
       "      <th>protected</th>\n",
       "      <th>url</th>\n",
       "      <th>state</th>\n",
       "    </tr>\n",
       "  </thead>\n",
       "  <tbody>\n",
       "    <tr>\n",
       "      <th>0</th>\n",
       "      <td>8192222</td>\n",
       "      <td>8192222</td>\n",
       "      <td>Jezebel</td>\n",
       "      <td>Jezebel</td>\n",
       "      <td>NaN</td>\n",
       "      <td>318516</td>\n",
       "      <td>29</td>\n",
       "      <td>94</td>\n",
       "      <td>All the news you need. Without airbrushing.</td>\n",
       "      <td>0</td>\n",
       "      <td>...</td>\n",
       "      <td>81056</td>\n",
       "      <td>Eastern Time (US &amp; Canada)</td>\n",
       "      <td>2007-08-14 22:57:34</td>\n",
       "      <td>1</td>\n",
       "      <td>-14400.0</td>\n",
       "      <td>0</td>\n",
       "      <td>6709</td>\n",
       "      <td>0</td>\n",
       "      <td>http://jezebel.com</td>\n",
       "      <td>NaN</td>\n",
       "    </tr>\n",
       "    <tr>\n",
       "      <th>1</th>\n",
       "      <td>11801852</td>\n",
       "      <td>11801852</td>\n",
       "      <td>Jenna Hatfield</td>\n",
       "      <td>JennaHatfield</td>\n",
       "      <td>Cambridge  OH</td>\n",
       "      <td>10024</td>\n",
       "      <td>6808</td>\n",
       "      <td>21156</td>\n",
       "      <td>Award winning writer. Editor. Wife. Mom. Dog l...</td>\n",
       "      <td>0</td>\n",
       "      <td>...</td>\n",
       "      <td>106425</td>\n",
       "      <td>Eastern Time (US &amp; Canada)</td>\n",
       "      <td>2008-01-03 15:51:49</td>\n",
       "      <td>0</td>\n",
       "      <td>-14400.0</td>\n",
       "      <td>0</td>\n",
       "      <td>577</td>\n",
       "      <td>0</td>\n",
       "      <td>http://stopdropandblog.com</td>\n",
       "      <td>Ohio</td>\n",
       "    </tr>\n",
       "    <tr>\n",
       "      <th>2</th>\n",
       "      <td>12366342</td>\n",
       "      <td>12366342</td>\n",
       "      <td>King County Library</td>\n",
       "      <td>KCLS</td>\n",
       "      <td>King County  WA</td>\n",
       "      <td>10442</td>\n",
       "      <td>235</td>\n",
       "      <td>4417</td>\n",
       "      <td>King County Library System (KCLS) is your comm...</td>\n",
       "      <td>1</td>\n",
       "      <td>...</td>\n",
       "      <td>17786</td>\n",
       "      <td>Pacific Time (US &amp; Canada)</td>\n",
       "      <td>2008-01-17 17:51:28</td>\n",
       "      <td>0</td>\n",
       "      <td>-28800.0</td>\n",
       "      <td>0</td>\n",
       "      <td>548</td>\n",
       "      <td>0</td>\n",
       "      <td>http://www.kcls.org</td>\n",
       "      <td>Washington</td>\n",
       "    </tr>\n",
       "    <tr>\n",
       "      <th>3</th>\n",
       "      <td>14362996</td>\n",
       "      <td>14362996</td>\n",
       "      <td>Alanna Banks</td>\n",
       "      <td>fridaysoffshop</td>\n",
       "      <td>Toronto</td>\n",
       "      <td>765</td>\n",
       "      <td>850</td>\n",
       "      <td>32</td>\n",
       "      <td>Shop Owner at fridaysoff.ca an online source o...</td>\n",
       "      <td>0</td>\n",
       "      <td>...</td>\n",
       "      <td>1946</td>\n",
       "      <td>Quito</td>\n",
       "      <td>2008-04-11 17:49:07</td>\n",
       "      <td>0</td>\n",
       "      <td>-18000.0</td>\n",
       "      <td>0</td>\n",
       "      <td>48</td>\n",
       "      <td>0</td>\n",
       "      <td>http://fridaysoff.ca</td>\n",
       "      <td>NaN</td>\n",
       "    </tr>\n",
       "    <tr>\n",
       "      <th>4</th>\n",
       "      <td>15430687</td>\n",
       "      <td>15430687</td>\n",
       "      <td>C.B. Cebulski</td>\n",
       "      <td>CBCebulski</td>\n",
       "      <td>Shanghai  China</td>\n",
       "      <td>55961</td>\n",
       "      <td>869</td>\n",
       "      <td>11642</td>\n",
       "      <td>Just a guy lucky enough to work for Marvel. Tr...</td>\n",
       "      <td>0</td>\n",
       "      <td>...</td>\n",
       "      <td>22157</td>\n",
       "      <td>Eastern Time (US &amp; Canada)</td>\n",
       "      <td>2008-07-14 19:04:35</td>\n",
       "      <td>1</td>\n",
       "      <td>-14400.0</td>\n",
       "      <td>0</td>\n",
       "      <td>1889</td>\n",
       "      <td>0</td>\n",
       "      <td>http://www.eataku.tumblr.com</td>\n",
       "      <td>NaN</td>\n",
       "    </tr>\n",
       "  </tbody>\n",
       "</table>\n",
       "<p>5 rows × 21 columns</p>\n",
       "</div>"
      ],
      "text/plain": [
       "         id    id_str                 name     screen_name         location  \\\n",
       "0   8192222   8192222              Jezebel         Jezebel              NaN   \n",
       "1  11801852  11801852       Jenna Hatfield   JennaHatfield    Cambridge  OH   \n",
       "2  12366342  12366342  King County Library            KCLS  King County  WA   \n",
       "3  14362996  14362996         Alanna Banks  fridaysoffshop          Toronto   \n",
       "4  15430687  15430687        C.B. Cebulski      CBCebulski  Shanghai  China   \n",
       "\n",
       "   followers_count  friends_count  favourites_count  \\\n",
       "0           318516             29                94   \n",
       "1            10024           6808             21156   \n",
       "2            10442            235              4417   \n",
       "3              765            850                32   \n",
       "4            55961            869             11642   \n",
       "\n",
       "                                         description  geo_enabled     ...      \\\n",
       "0        All the news you need. Without airbrushing.            0     ...       \n",
       "1  Award winning writer. Editor. Wife. Mom. Dog l...            0     ...       \n",
       "2  King County Library System (KCLS) is your comm...            1     ...       \n",
       "3  Shop Owner at fridaysoff.ca an online source o...            0     ...       \n",
       "4  Just a guy lucky enough to work for Marvel. Tr...            0     ...       \n",
       "\n",
       "  statuses_count                   time_zone          created_at verified  \\\n",
       "0          81056  Eastern Time (US & Canada) 2007-08-14 22:57:34        1   \n",
       "1         106425  Eastern Time (US & Canada) 2008-01-03 15:51:49        0   \n",
       "2          17786  Pacific Time (US & Canada) 2008-01-17 17:51:28        0   \n",
       "3           1946                       Quito 2008-04-11 17:49:07        0   \n",
       "4          22157  Eastern Time (US & Canada) 2008-07-14 19:04:35        1   \n",
       "\n",
       "   utc_offset  contributors_enabled  listed_count  protected  \\\n",
       "0    -14400.0                     0          6709          0   \n",
       "1    -14400.0                     0           577          0   \n",
       "2    -28800.0                     0           548          0   \n",
       "3    -18000.0                     0            48          0   \n",
       "4    -14400.0                     0          1889          0   \n",
       "\n",
       "                            url       state  \n",
       "0            http://jezebel.com         NaN  \n",
       "1    http://stopdropandblog.com        Ohio  \n",
       "2           http://www.kcls.org  Washington  \n",
       "3          http://fridaysoff.ca         NaN  \n",
       "4  http://www.eataku.tumblr.com         NaN  \n",
       "\n",
       "[5 rows x 21 columns]"
      ]
     },
     "execution_count": 3,
     "metadata": {},
     "output_type": "execute_result"
    }
   ],
   "source": [
    "filename = 'sample_data.xlsx'\n",
    "user_df = pd.read_excel(filename, sheet_name='user_data')\n",
    "tweet_df = pd.read_excel(filename, sheet_name='tweet_data')\n",
    "tweets_classified = pd.read_excel(filename, sheet_name='tweets_classified')\n",
    "user_df.head()"
   ]
  },
  {
   "cell_type": "markdown",
   "metadata": {},
   "source": [
    "## Super-Simplified Plotting w. Pandas\n",
    "Pandas has some of basic plotting functionality directly connected to matplotlib. With that, you can create basic plots by calling methods right off of a data frame. Let's create a column in the users table for the month the user was created and then make a quick histogram from that.\n",
    "\n",
    "### Pandas Histogram"
   ]
  },
  {
   "cell_type": "code",
   "execution_count": 5,
   "metadata": {},
   "outputs": [
    {
     "data": {
      "text/plain": [
       "<matplotlib.axes._subplots.AxesSubplot at 0x7ff535f76320>"
      ]
     },
     "execution_count": 5,
     "metadata": {},
     "output_type": "execute_result"
    },
    {
     "data": {
      "image/png": "[encoded data removed]",
      "text/plain": [
       "<Figure size 432x288 with 1 Axes>"
      ]
     },
     "metadata": {},
     "output_type": "display_data"
    }
   ],
   "source": [
    "user_df['created_month'] = user_df['created_at'].dt.month\n",
    "user_df['created_month'].hist(bins=12, color='g', edgecolor='black')"
   ]
  },
  {
   "cell_type": "markdown",
   "metadata": {},
   "source": [
    "### Pandas Timeseries\n",
    "Let's take a look at a timeseries plot. Since we don't have a bunch of nice timeseries data in our sample data, let's just create some here. We'll create a dummy dataset with nine rows and 4 columns of random, normal data."
   ]
  },
  {
   "cell_type": "code",
   "execution_count": 10,
   "metadata": {},
   "outputs": [
    {
     "data": {
      "text/html": [
       "<div>\n",
       "<style scoped>\n",
       "    .dataframe tbody tr th:only-of-type {\n",
       "        vertical-align: middle;\n",
       "    }\n",
       "\n",
       "    .dataframe tbody tr th {\n",
       "        vertical-align: top;\n",
       "    }\n",
       "\n",
       "    .dataframe thead tr th {\n",
       "        text-align: left;\n",
       "    }\n",
       "</style>\n",
       "<table border=\"1\" class=\"dataframe\">\n",
       "  <thead>\n",
       "    <tr>\n",
       "      <th></th>\n",
       "      <th>No1</th>\n",
       "      <th>No2</th>\n",
       "      <th>No3</th>\n",
       "      <th>No4</th>\n",
       "    </tr>\n",
       "  </thead>\n",
       "  <tbody>\n",
       "    <tr>\n",
       "      <th>0</th>\n",
       "      <td>1.051698</td>\n",
       "      <td>0.230585</td>\n",
       "      <td>0.083145</td>\n",
       "      <td>0.237908</td>\n",
       "    </tr>\n",
       "    <tr>\n",
       "      <th>1</th>\n",
       "      <td>-1.606782</td>\n",
       "      <td>0.162246</td>\n",
       "      <td>1.266509</td>\n",
       "      <td>0.455493</td>\n",
       "    </tr>\n",
       "    <tr>\n",
       "      <th>2</th>\n",
       "      <td>0.125801</td>\n",
       "      <td>-0.201569</td>\n",
       "      <td>1.056197</td>\n",
       "      <td>0.552088</td>\n",
       "    </tr>\n",
       "    <tr>\n",
       "      <th>3</th>\n",
       "      <td>1.243513</td>\n",
       "      <td>-1.462613</td>\n",
       "      <td>0.244284</td>\n",
       "      <td>1.392509</td>\n",
       "    </tr>\n",
       "    <tr>\n",
       "      <th>4</th>\n",
       "      <td>-0.656687</td>\n",
       "      <td>-0.104306</td>\n",
       "      <td>-1.234692</td>\n",
       "      <td>0.008235</td>\n",
       "    </tr>\n",
       "    <tr>\n",
       "      <th>5</th>\n",
       "      <td>-0.951736</td>\n",
       "      <td>-1.050616</td>\n",
       "      <td>-1.094078</td>\n",
       "      <td>0.145730</td>\n",
       "    </tr>\n",
       "    <tr>\n",
       "      <th>6</th>\n",
       "      <td>0.429079</td>\n",
       "      <td>0.687712</td>\n",
       "      <td>-1.049565</td>\n",
       "      <td>-0.448173</td>\n",
       "    </tr>\n",
       "    <tr>\n",
       "      <th>7</th>\n",
       "      <td>0.204464</td>\n",
       "      <td>-2.912392</td>\n",
       "      <td>-0.158431</td>\n",
       "      <td>1.042374</td>\n",
       "    </tr>\n",
       "    <tr>\n",
       "      <th>8</th>\n",
       "      <td>0.014264</td>\n",
       "      <td>0.394617</td>\n",
       "      <td>0.496487</td>\n",
       "      <td>-0.765566</td>\n",
       "    </tr>\n",
       "  </tbody>\n",
       "</table>\n",
       "</div>"
      ],
      "text/plain": [
       "        No1       No2       No3       No4\n",
       "0  1.051698  0.230585  0.083145  0.237908\n",
       "1 -1.606782  0.162246  1.266509  0.455493\n",
       "2  0.125801 -0.201569  1.056197  0.552088\n",
       "3  1.243513 -1.462613  0.244284  1.392509\n",
       "4 -0.656687 -0.104306 -1.234692  0.008235\n",
       "5 -0.951736 -1.050616 -1.094078  0.145730\n",
       "6  0.429079  0.687712 -1.049565 -0.448173\n",
       "7  0.204464 -2.912392 -0.158431  1.042374\n",
       "8  0.014264  0.394617  0.496487 -0.765566"
      ]
     },
     "execution_count": 10,
     "metadata": {},
     "output_type": "execute_result"
    }
   ],
   "source": [
    "a = np.random.standard_normal((9,4))\n",
    "df = pd.DataFrame(a)\n",
    "df.columns=[['No1','No2','No3','No4']]\n",
    "df"
   ]
  },
  {
   "cell_type": "markdown",
   "metadata": {},
   "source": [
    "Add a date index to our dummy dataset:"
   ]
  },
  {
   "cell_type": "code",
   "execution_count": 11,
   "metadata": {},
   "outputs": [
    {
     "data": {
      "text/plain": [
       "DatetimeIndex(['2018-01-31', '2018-02-28', '2018-03-31', '2018-04-30',\n",
       "               '2018-05-31', '2018-06-30', '2018-07-31', '2018-08-31',\n",
       "               '2018-09-30'],\n",
       "              dtype='datetime64[ns]', freq='M')"
      ]
     },
     "execution_count": 11,
     "metadata": {},
     "output_type": "execute_result"
    }
   ],
   "source": [
    "dates = pd.date_range('2018-1-1', periods=9, freq='M')\n",
    "dates"
   ]
  },
  {
   "cell_type": "code",
   "execution_count": 12,
   "metadata": {},
   "outputs": [
    {
     "data": {
      "text/html": [
       "<div>\n",
       "<style scoped>\n",
       "    .dataframe tbody tr th:only-of-type {\n",
       "        vertical-align: middle;\n",
       "    }\n",
       "\n",
       "    .dataframe tbody tr th {\n",
       "        vertical-align: top;\n",
       "    }\n",
       "\n",
       "    .dataframe thead tr th {\n",
       "        text-align: left;\n",
       "    }\n",
       "</style>\n",
       "<table border=\"1\" class=\"dataframe\">\n",
       "  <thead>\n",
       "    <tr>\n",
       "      <th></th>\n",
       "      <th>No1</th>\n",
       "      <th>No2</th>\n",
       "      <th>No3</th>\n",
       "      <th>No4</th>\n",
       "    </tr>\n",
       "  </thead>\n",
       "  <tbody>\n",
       "    <tr>\n",
       "      <th>2018-01-31</th>\n",
       "      <td>1.051698</td>\n",
       "      <td>0.230585</td>\n",
       "      <td>0.083145</td>\n",
       "      <td>0.237908</td>\n",
       "    </tr>\n",
       "    <tr>\n",
       "      <th>2018-02-28</th>\n",
       "      <td>-1.606782</td>\n",
       "      <td>0.162246</td>\n",
       "      <td>1.266509</td>\n",
       "      <td>0.455493</td>\n",
       "    </tr>\n",
       "    <tr>\n",
       "      <th>2018-03-31</th>\n",
       "      <td>0.125801</td>\n",
       "      <td>-0.201569</td>\n",
       "      <td>1.056197</td>\n",
       "      <td>0.552088</td>\n",
       "    </tr>\n",
       "    <tr>\n",
       "      <th>2018-04-30</th>\n",
       "      <td>1.243513</td>\n",
       "      <td>-1.462613</td>\n",
       "      <td>0.244284</td>\n",
       "      <td>1.392509</td>\n",
       "    </tr>\n",
       "    <tr>\n",
       "      <th>2018-05-31</th>\n",
       "      <td>-0.656687</td>\n",
       "      <td>-0.104306</td>\n",
       "      <td>-1.234692</td>\n",
       "      <td>0.008235</td>\n",
       "    </tr>\n",
       "    <tr>\n",
       "      <th>2018-06-30</th>\n",
       "      <td>-0.951736</td>\n",
       "      <td>-1.050616</td>\n",
       "      <td>-1.094078</td>\n",
       "      <td>0.145730</td>\n",
       "    </tr>\n",
       "    <tr>\n",
       "      <th>2018-07-31</th>\n",
       "      <td>0.429079</td>\n",
       "      <td>0.687712</td>\n",
       "      <td>-1.049565</td>\n",
       "      <td>-0.448173</td>\n",
       "    </tr>\n",
       "    <tr>\n",
       "      <th>2018-08-31</th>\n",
       "      <td>0.204464</td>\n",
       "      <td>-2.912392</td>\n",
       "      <td>-0.158431</td>\n",
       "      <td>1.042374</td>\n",
       "    </tr>\n",
       "    <tr>\n",
       "      <th>2018-09-30</th>\n",
       "      <td>0.014264</td>\n",
       "      <td>0.394617</td>\n",
       "      <td>0.496487</td>\n",
       "      <td>-0.765566</td>\n",
       "    </tr>\n",
       "  </tbody>\n",
       "</table>\n",
       "</div>"
      ],
      "text/plain": [
       "                 No1       No2       No3       No4\n",
       "2018-01-31  1.051698  0.230585  0.083145  0.237908\n",
       "2018-02-28 -1.606782  0.162246  1.266509  0.455493\n",
       "2018-03-31  0.125801 -0.201569  1.056197  0.552088\n",
       "2018-04-30  1.243513 -1.462613  0.244284  1.392509\n",
       "2018-05-31 -0.656687 -0.104306 -1.234692  0.008235\n",
       "2018-06-30 -0.951736 -1.050616 -1.094078  0.145730\n",
       "2018-07-31  0.429079  0.687712 -1.049565 -0.448173\n",
       "2018-08-31  0.204464 -2.912392 -0.158431  1.042374\n",
       "2018-09-30  0.014264  0.394617  0.496487 -0.765566"
      ]
     },
     "execution_count": 12,
     "metadata": {},
     "output_type": "execute_result"
    }
   ],
   "source": [
    "df.index = dates\n",
    "df"
   ]
  },
  {
   "cell_type": "code",
   "execution_count": 13,
   "metadata": {},
   "outputs": [
    {
     "data": {
      "text/html": [
       "<div>\n",
       "<style scoped>\n",
       "    .dataframe tbody tr th:only-of-type {\n",
       "        vertical-align: middle;\n",
       "    }\n",
       "\n",
       "    .dataframe tbody tr th {\n",
       "        vertical-align: top;\n",
       "    }\n",
       "\n",
       "    .dataframe thead tr th {\n",
       "        text-align: left;\n",
       "    }\n",
       "</style>\n",
       "<table border=\"1\" class=\"dataframe\">\n",
       "  <thead>\n",
       "    <tr>\n",
       "      <th></th>\n",
       "      <th>No1</th>\n",
       "      <th>No2</th>\n",
       "      <th>No3</th>\n",
       "      <th>No4</th>\n",
       "    </tr>\n",
       "  </thead>\n",
       "  <tbody>\n",
       "    <tr>\n",
       "      <th>count</th>\n",
       "      <td>9.000000</td>\n",
       "      <td>9.000000</td>\n",
       "      <td>9.000000</td>\n",
       "      <td>9.000000</td>\n",
       "    </tr>\n",
       "    <tr>\n",
       "      <th>mean</th>\n",
       "      <td>-0.016265</td>\n",
       "      <td>-0.472926</td>\n",
       "      <td>-0.043349</td>\n",
       "      <td>0.291178</td>\n",
       "    </tr>\n",
       "    <tr>\n",
       "      <th>std</th>\n",
       "      <td>0.922682</td>\n",
       "      <td>1.144104</td>\n",
       "      <td>0.926278</td>\n",
       "      <td>0.674509</td>\n",
       "    </tr>\n",
       "    <tr>\n",
       "      <th>min</th>\n",
       "      <td>-1.606782</td>\n",
       "      <td>-2.912392</td>\n",
       "      <td>-1.234692</td>\n",
       "      <td>-0.765566</td>\n",
       "    </tr>\n",
       "    <tr>\n",
       "      <th>25%</th>\n",
       "      <td>-0.656687</td>\n",
       "      <td>-1.050616</td>\n",
       "      <td>-1.049565</td>\n",
       "      <td>0.008235</td>\n",
       "    </tr>\n",
       "    <tr>\n",
       "      <th>50%</th>\n",
       "      <td>0.125801</td>\n",
       "      <td>-0.104306</td>\n",
       "      <td>0.083145</td>\n",
       "      <td>0.237908</td>\n",
       "    </tr>\n",
       "    <tr>\n",
       "      <th>75%</th>\n",
       "      <td>0.429079</td>\n",
       "      <td>0.230585</td>\n",
       "      <td>0.496487</td>\n",
       "      <td>0.552088</td>\n",
       "    </tr>\n",
       "    <tr>\n",
       "      <th>max</th>\n",
       "      <td>1.243513</td>\n",
       "      <td>0.687712</td>\n",
       "      <td>1.266509</td>\n",
       "      <td>1.392509</td>\n",
       "    </tr>\n",
       "  </tbody>\n",
       "</table>\n",
       "</div>"
      ],
      "text/plain": [
       "            No1       No2       No3       No4\n",
       "count  9.000000  9.000000  9.000000  9.000000\n",
       "mean  -0.016265 -0.472926 -0.043349  0.291178\n",
       "std    0.922682  1.144104  0.926278  0.674509\n",
       "min   -1.606782 -2.912392 -1.234692 -0.765566\n",
       "25%   -0.656687 -1.050616 -1.049565  0.008235\n",
       "50%    0.125801 -0.104306  0.083145  0.237908\n",
       "75%    0.429079  0.230585  0.496487  0.552088\n",
       "max    1.243513  0.687712  1.266509  1.392509"
      ]
     },
     "execution_count": 13,
     "metadata": {},
     "output_type": "execute_result"
    }
   ],
   "source": [
    "df.describe()"
   ]
  },
  {
   "cell_type": "code",
   "execution_count": 16,
   "metadata": {},
   "outputs": [
    {
     "data": {
      "text/plain": [
       "<matplotlib.axes._subplots.AxesSubplot at 0x7ff539bb6550>"
      ]
     },
     "execution_count": 16,
     "metadata": {},
     "output_type": "execute_result"
    },
    {
     "data": {
      "image/png": "[encoded data removed]",
      "text/plain": [
       "<Figure size 432x288 with 1 Axes>"
      ]
     },
     "metadata": {},
     "output_type": "display_data"
    }
   ],
   "source": [
    "df.cumsum().plot(lw=2, title = \"Cumulative Sum\")"
   ]
  },
  {
   "cell_type": "markdown",
   "metadata": {},
   "source": [
    "## Plotting directly with Matplotlib\n",
    "Pandas did all the work in sorting out that plot with 4 series. Here's how you could do it directly with matplotlib.\n",
    "\n",
    "Formatting dates can be messy sometimes. Here's a good bit of [example code](https://matplotlib.org/examples/api/date_demo.html) that can help."
   ]
  },
  {
   "cell_type": "code",
   "execution_count": 49,
   "metadata": {},
   "outputs": [
    {
     "data": {
      "image/png": "[encoded data removed]",
      "text/plain": [
       "<Figure size 576x360 with 1 Axes>"
      ]
     },
     "metadata": {},
     "output_type": "display_data"
    }
   ],
   "source": [
    "fig, ax = plt.subplots(figsize = (8,5))\n",
    "# Plot each series individually\n",
    "plt.plot(df['No1'], color='green', label='No1')\n",
    "plt.plot(df['No2'], color='blue', label='No2')\n",
    "plt.plot(df['No3'], color='orange', label='No3')\n",
    "plt.plot(df['No4'], color='purple', label='No4')\n",
    "# add markers\n",
    "plt.plot(df, 'bo')\n",
    "# Format the date axis\n",
    "ax.format_xdata = mdates.DateFormatter('%Y-%m')\n",
    "# rotates and right aligns the x labels, and moves the bottom of the\n",
    "# axes up to make room for them\n",
    "fig.autofmt_xdate()\n",
    "plt.title('Multi-Series Plot')\n",
    "plt.legend(loc=0)\n",
    "plt.grid(True)"
   ]
  },
  {
   "cell_type": "markdown",
   "metadata": {},
   "source": [
    "## Spliting into subplots\n",
    "Let's say we want this same plot, but splitting into two differnt plots with No1-No2 in one and No3-No4 in the other. We can do this with the `plt.subplot` command. The syntax is plt.sublot(numrows, numcols, fignum)."
   ]
  },
  {
   "cell_type": "code",
   "execution_count": 63,
   "metadata": {},
   "outputs": [
    {
     "data": {
      "image/png": "[encoded data removed]",
      "text/plain": [
       "<Figure size 1008x360 with 2 Axes>"
      ]
     },
     "metadata": {},
     "output_type": "display_data"
    }
   ],
   "source": [
    "fig, ax = plt.subplots(figsize = (14,5))\n",
    "\n",
    "# Define the sub-plots - 1 row, two columns, \n",
    "# 1st plot\n",
    "plt.subplot(1,2,1)\n",
    "plt.plot(df['No1'], color='green', marker='o',label='No1')\n",
    "plt.plot(df['No2'], color='blue', marker='o', label='No2')\n",
    "plt.title('No1-No2')\n",
    "# Format the date axis\n",
    "ax.format_xdata = mdates.DateFormatter('%Y-%m')\n",
    "# rotates and right aligns the x labels, and moves the bottom of the\n",
    "# axes up to make room for them\n",
    "fig.autofmt_xdate()\n",
    "plt.suptitle('Multi-Series Plots')\n",
    "plt.legend(loc=0)\n",
    "plt.grid(True)\n",
    "\n",
    "# 2nd plot\n",
    "plt.subplot(1,2,2)\n",
    "plt.plot(df['No3'], color='orange',  marker='o',label='No3')\n",
    "plt.plot(df['No4'], color='purple',  marker='o',label='No4')\n",
    "plt.title('No3-No4')\n",
    "\n",
    "# Format the date axis\n",
    "ax.format_xdata = mdates.DateFormatter('%Y-%m')\n",
    "# rotates and right aligns the x labels, and moves the bottom of the\n",
    "# axes up to make room for them\n",
    "fig.autofmt_xdate()\n",
    "plt.suptitle('Multi-Series Plots')\n",
    "plt.legend(loc=0)\n",
    "plt.grid(True)"
   ]
  },
  {
   "cell_type": "markdown",
   "metadata": {},
   "source": [
    "## Categorical variable versus a binary variable - Means and Confidence Intervals\n",
    "From one of Bob's questions: \n",
    "* The categories of the categorical variable along the vertical axis\n",
    "* The mean/percentage of the binary variable (1 values) along the horizontal axis\n",
    "* Confidence intervals at the ends of the bars"
   ]
  },
  {
   "cell_type": "code",
   "execution_count": 64,
   "metadata": {},
   "outputs": [
    {
     "data": {
      "text/html": [
       "<div>\n",
       "<style scoped>\n",
       "    .dataframe tbody tr th:only-of-type {\n",
       "        vertical-align: middle;\n",
       "    }\n",
       "\n",
       "    .dataframe tbody tr th {\n",
       "        vertical-align: top;\n",
       "    }\n",
       "\n",
       "    .dataframe thead th {\n",
       "        text-align: right;\n",
       "    }\n",
       "</style>\n",
       "<table border=\"1\" class=\"dataframe\">\n",
       "  <thead>\n",
       "    <tr style=\"text-align: right;\">\n",
       "      <th></th>\n",
       "      <th>mean</th>\n",
       "      <th>std</th>\n",
       "      <th>count</th>\n",
       "      <th>SE</th>\n",
       "    </tr>\n",
       "    <tr>\n",
       "      <th>topic</th>\n",
       "      <th></th>\n",
       "      <th></th>\n",
       "      <th></th>\n",
       "      <th></th>\n",
       "    </tr>\n",
       "  </thead>\n",
       "  <tbody>\n",
       "    <tr>\n",
       "      <th>Divorce</th>\n",
       "      <td>0.057522</td>\n",
       "      <td>0.233354</td>\n",
       "      <td>226</td>\n",
       "      <td>0.015523</td>\n",
       "    </tr>\n",
       "    <tr>\n",
       "      <th>Birth</th>\n",
       "      <td>0.135678</td>\n",
       "      <td>0.343310</td>\n",
       "      <td>199</td>\n",
       "      <td>0.024337</td>\n",
       "    </tr>\n",
       "    <tr>\n",
       "      <th>Moving</th>\n",
       "      <td>0.183333</td>\n",
       "      <td>0.387748</td>\n",
       "      <td>240</td>\n",
       "      <td>0.025029</td>\n",
       "    </tr>\n",
       "    <tr>\n",
       "      <th>Graduation</th>\n",
       "      <td>0.340708</td>\n",
       "      <td>0.474999</td>\n",
       "      <td>226</td>\n",
       "      <td>0.031596</td>\n",
       "    </tr>\n",
       "    <tr>\n",
       "      <th>Marriage</th>\n",
       "      <td>0.543568</td>\n",
       "      <td>0.779403</td>\n",
       "      <td>241</td>\n",
       "      <td>0.050206</td>\n",
       "    </tr>\n",
       "  </tbody>\n",
       "</table>\n",
       "</div>"
      ],
      "text/plain": [
       "                mean       std  count        SE\n",
       "topic                                          \n",
       "Divorce     0.057522  0.233354    226  0.015523\n",
       "Birth       0.135678  0.343310    199  0.024337\n",
       "Moving      0.183333  0.387748    240  0.025029\n",
       "Graduation  0.340708  0.474999    226  0.031596\n",
       "Marriage    0.543568  0.779403    241  0.050206"
      ]
     },
     "execution_count": 64,
     "metadata": {},
     "output_type": "execute_result"
    }
   ],
   "source": [
    "plot_data = tweets_classified.groupby(['topic'])['class'].agg(['mean', 'std', 'count'])\n",
    "plot_data['sqr_count'] = [sqrt(x) for x in plot_data['count']]\n",
    "plot_data['SE'] = plot_data['std']/plot_data['sqr_count']\n",
    "del(plot_data['sqr_count'])\n",
    "plot_data.sort_values('mean', inplace=True)\n",
    "plot_data"
   ]
  },
  {
   "cell_type": "code",
   "execution_count": 65,
   "metadata": {},
   "outputs": [
    {
     "data": {
      "image/png": "[encoded data removed]",
      "text/plain": [
       "<Figure size 648x360 with 1 Axes>"
      ]
     },
     "metadata": {},
     "output_type": "display_data"
    }
   ],
   "source": [
    "# Plot again using Matplotlib directly\n",
    "# define the location on the y axis - based on the number of topics\n",
    "fig, ax = plt.subplots(figsize=(9,5))\n",
    "y_pos = np.arange(len(plot_data))\n",
    "class_avg = plot_data['mean']\n",
    "error = 2*plot_data['SE']\n",
    "\n",
    "ax.errorbar(class_avg, \n",
    "            y_pos,\n",
    "            xerr=error, \n",
    "            capsize = 8,\n",
    "            fmt='o', \n",
    "            markersize=10, \n",
    "            linewidth=2, \n",
    "            color='green')\n",
    "ax.set_yticks(y_pos)\n",
    "ax.set_yticklabels(plot_data.index, size=12)\n",
    "# ax.invert_yaxis()  # labels read top-to-bottom\n",
    "ax.set_xlabel('Percent Positive Class')\n",
    "ax.set_title('Manual Tweet Classifications\\nError Bars = 2 Standard Errors of the Mean', size=14)\n",
    "\n",
    "plt.show()"
   ]
  },
  {
   "cell_type": "markdown",
   "metadata": {},
   "source": [
    "## Box Plots\n",
    "Let's take a look at box plots of followers_counts by time-zone. First let's look at how many unique time-zone values we have:"
   ]
  },
  {
   "cell_type": "code",
   "execution_count": 70,
   "metadata": {},
   "outputs": [
    {
     "data": {
      "text/plain": [
       "Pacific Time (US & Canada)     27\n",
       "Central Time (US & Canada)     25\n",
       "Eastern Time (US & Canada)     22\n",
       "Mountain Time (US & Canada)     7\n",
       "London                          6\n",
       "Quito                           5\n",
       "Atlantic Time (Canada)          4\n",
       "Beijing                         4\n",
       "Arizona                         3\n",
       "Amsterdam                       3\n",
       "Casablanca                      2\n",
       "Edinburgh                       2\n",
       "Seoul                           2\n",
       "America/Los_Angeles             2\n",
       "Hawaii                          2\n",
       "Alaska                          1\n",
       "Stockholm                       1\n",
       "Asia/Riyadh                     1\n",
       "Dublin                          1\n",
       "America/Toronto                 1\n",
       "Greenland                       1\n",
       "Asia/Manila                     1\n",
       "Lisbon                          1\n",
       "Jakarta                         1\n",
       "Urumqi                          1\n",
       "Melbourne                       1\n",
       "Pretoria                        1\n",
       "Indiana (East)                  1\n",
       "America/New_York                1\n",
       "Name: time_zone, dtype: int64"
      ]
     },
     "execution_count": 70,
     "metadata": {},
     "output_type": "execute_result"
    }
   ],
   "source": [
    "user_df.time_zone.value_counts()"
   ]
  },
  {
   "cell_type": "markdown",
   "metadata": {},
   "source": [
    "That's way to many! We'll distill those down to a more reasonable grouping as we did in the QA notebook."
   ]
  },
  {
   "cell_type": "code",
   "execution_count": 72,
   "metadata": {},
   "outputs": [],
   "source": [
    "# There are a lot of missing values! Let's mark those as missing for now:\n",
    "user_df.loc[user_df.time_zone.isna(), 'time_zone'] = 'Missing'\n",
    "\n",
    "# Create a new value for the grouped time zone so we don't lose the original data.\n",
    "user_df['grouped_tz'] = 'Other'\n",
    "user_df.loc[user_df.time_zone=='missing', 'grouped_tz'] = 'Missing'\n",
    "\n",
    "#Europe\n",
    "user_df.loc[user_df.time_zone.isin(['London', 'Dublin','Edinburgh','Amsterdam','Stockholm','Lisbon']),\n",
    "            'grouped_tz'] = 'Europe'\n",
    "# Eastern & Atlantic\n",
    "user_df.loc[user_df.time_zone.isin(['Eastern Time (US & Canada)', 'America/New_York','Indiana (East)', 'Atlantic Time (Canada)']),\n",
    "            'grouped_tz'] = 'Eastern'\n",
    "# Central\n",
    "user_df.loc[user_df.time_zone.isin(['Central Time (US & Canada)', 'America/Toronto']),\n",
    "            'grouped_tz'] = 'Central'\n",
    "# Pacific, Alaska, Hawaii\n",
    "user_df.loc[user_df.time_zone.isin(['Pacific Time (US & Canada)', 'America/Los_Angeles','Alaska','Hawaii']),\n",
    "            'grouped_tz'] = 'Pacific'"
   ]
  },
  {
   "cell_type": "markdown",
   "metadata": {},
   "source": [
    "### Box Plot - followers_count by Timezone\n",
    "This a good place to use Seaborn! Many of the faceting and advanced plotting functions we know in ggplot can be done with Seaborn. \n",
    "\n",
    "In this plot, we have some users with VERY large followers_counts. To make the plot more interesting, I've zoomed in by limiting the data to those users with less than 2000 followers."
   ]
  },
  {
   "cell_type": "code",
   "execution_count": 106,
   "metadata": {},
   "outputs": [
    {
     "data": {
      "text/plain": [
       "Text(0,0.5,'Followers Count')"
      ]
     },
     "execution_count": 106,
     "metadata": {},
     "output_type": "execute_result"
    },
    {
     "data": {
      "image/png": "[encoded data removed]",
      "text/plain": [
       "<Figure size 720x360 with 1 Axes>"
      ]
     },
     "metadata": {},
     "output_type": "display_data"
    }
   ],
   "source": [
    "fig, ax = plt.subplots(figsize=(10,5))\n",
    "sns.set_style(\"whitegrid\")\n",
    "ax = sns.boxplot(x='grouped_tz', \n",
    "                 y='followers_count', \n",
    "                 hue='grouped_tz',\n",
    "                 data=user_df.loc[user_df.followers_count<2000], \n",
    "                 palette=\"Set3\")\n",
    "ax.legend_ = None\n",
    "# Set titles\n",
    "plt.title('Follower Counts by Grouped Time Zone', size=15)\n",
    "ax.set_xlabel('Grouped Time Zone')\n",
    "ax.set_ylabel('Followers Count')\n"
   ]
  },
  {
   "cell_type": "code",
   "execution_count": null,
   "metadata": {},
   "outputs": [],
   "source": []
  }
 ],
 "metadata": {
  "kernelspec": {
   "display_name": "Python 3",
   "language": "python",
   "name": "python3"
  },
  "language_info": {
   "codemirror_mode": {
    "name": "ipython",
    "version": 3
   },
   "file_extension": ".py",
   "mimetype": "text/x-python",
   "name": "python",
   "nbconvert_exporter": "python",
   "pygments_lexer": "ipython3",
   "version": "3.6.5"
  }
 },
 "nbformat": 4,
 "nbformat_minor": 2
}
