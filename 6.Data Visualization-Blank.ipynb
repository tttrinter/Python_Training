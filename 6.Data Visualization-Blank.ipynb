{
 "cells": [
  {
   "cell_type": "markdown",
   "metadata": {},
   "source": [
    "# Data Visualization\n",
    "We'll take a look at two different libraries for data visulization:\n",
    "* **Matplotlib**: this is probably the most commonly used data visualization package for Python. There are many examples in the [Matplotlib documentation](https://matplotlib.org/). For the examples here, I'll use the `pyplot` module. There are more advanced plotting options (similar to MATLAB) that are well documented in the link above.\n",
    "* **Seaborn**: this library is actually built on top of Matplotlib with a focus on more statistically oriented plotting. Here is a link to the [Seaborn documentation](https://seaborn.pydata.org/).\n"
   ]
  },
  {
   "cell_type": "code",
   "execution_count": null,
   "metadata": {
    "slideshow": {
     "slide_type": "slide"
    }
   },
   "outputs": [],
   "source": [
    "# import necessary libraries\n",
    "import pandas as pd # for data frames, reading and writing data\n",
    "from matplotlib import pyplot as plt\n",
    "import matplotlib.dates as mdates\n",
    "import seaborn as sns\n",
    "\n",
    "import numpy as np\n",
    "from math import sqrt\n",
    "\n",
    "# the next line is so that the matplot lib plots show up in the notebook cell\n",
    "%matplotlib inline"
   ]
  },
  {
   "cell_type": "markdown",
   "metadata": {},
   "source": [
    "## Load Data\n",
    "Let's use the same sample data that we used before in the Pandas section. We'll load the user data, since that has the most fields and potential for \"dirty\" data."
   ]
  },
  {
   "cell_type": "code",
   "execution_count": null,
   "metadata": {},
   "outputs": [],
   "source": [
    "filename = 'sample_data.xlsx'\n",
    "user_df = pd.read_excel(filename, sheet_name='user_data')\n",
    "tweet_df = pd.read_excel(filename, sheet_name='tweet_data')\n",
    "tweets_classified = pd.read_excel(filename, sheet_name='tweets_classified')\n",
    "user_df.head()"
   ]
  },
  {
   "cell_type": "markdown",
   "metadata": {},
   "source": [
    "## Super-Simplified Plotting w. Pandas\n",
    "Pandas has some of basic plotting functionality directly connected to matplotlib. With that, you can create basic plots by calling methods right off of a data frame. Let's create a column in the users table for the month the user was created and then make a quick histogram from that.\n",
    "\n",
    "### Pandas Histogram"
   ]
  },
  {
   "cell_type": "code",
   "execution_count": null,
   "metadata": {},
   "outputs": [],
   "source": [
    "user_df['created_month'] = user_df['created_at'].dt.month\n",
    "\n",
    "# call .hist from the created_month series to get a histogram\n"
   ]
  },
  {
   "cell_type": "markdown",
   "metadata": {},
   "source": [
    "### Pandas Timeseries\n",
    "Let's take a look at a timeseries plot. Since we don't have a bunch of nice timeseries data in our sample data, let's just create some here. We'll create a dummy dataset with nine rows and 4 columns of random, normal data."
   ]
  },
  {
   "cell_type": "code",
   "execution_count": null,
   "metadata": {},
   "outputs": [],
   "source": [
    "a = np.random.standard_normal((9,4))\n",
    "# Create a dataframe from this matrix\n",
    "df = \n",
    "\n",
    "# Rename the columns to 'No1...No4'\n",
    "\n",
    "\n",
    "# Review your results\n",
    "df"
   ]
  },
  {
   "cell_type": "markdown",
   "metadata": {},
   "source": [
    "Add a date index to our dummy dataset:"
   ]
  },
  {
   "cell_type": "code",
   "execution_count": null,
   "metadata": {},
   "outputs": [],
   "source": [
    "dates = pd.date_range('2018-1-1', periods=9, freq='M')\n",
    "dates"
   ]
  },
  {
   "cell_type": "code",
   "execution_count": null,
   "metadata": {},
   "outputs": [],
   "source": [
    "# set the index of the dataframe equal to the dates\n",
    "\n",
    "df"
   ]
  },
  {
   "cell_type": "code",
   "execution_count": null,
   "metadata": {},
   "outputs": [],
   "source": [
    "# run the describe function on the data frame for more general summary info\n"
   ]
  },
  {
   "cell_type": "markdown",
   "metadata": {},
   "source": [
    "Some of the aggregate functions can be applied at the data frame level, which then applies them across all columns. Here we'll look at the cumulative sum of each of the `NO#` columns and plot them as time series."
   ]
  },
  {
   "cell_type": "code",
   "execution_count": null,
   "metadata": {},
   "outputs": [],
   "source": [
    "# call the cumsum() function on the data frame and then .plot\n"
   ]
  },
  {
   "cell_type": "markdown",
   "metadata": {},
   "source": [
    "## Plotting directly with Matplotlib\n",
    "Pandas did all the work in sorting out that plot with 4 series. Here's how you could do it directly with matplotlib.\n",
    "\n",
    "Formatting dates can be messy sometimes. Here's a good bit of [example code](https://matplotlib.org/examples/api/date_demo.html) that can help."
   ]
  },
  {
   "cell_type": "code",
   "execution_count": null,
   "metadata": {},
   "outputs": [],
   "source": [
    "fig, ax = plt.subplots(figsize = (8,5))\n",
    "# Plot each series individually\n",
    "plt.plot(df['No1'], color='green', marker='o', label='No1')\n",
    "plt.plot( )\n",
    "plt.plot( )\n",
    "plt.plot( )\n",
    "# Format the date axis\n",
    "ax.format_xdata = mdates.DateFormatter('%Y-%m')\n",
    "# rotates and right aligns the x labels, and moves the bottom of the\n",
    "# axes up to make room for them\n",
    "fig.autofmt_xdate()\n",
    "# add a tile\n",
    "plt.title('Multi-Series Plot')\n",
    "plt.legend(loc=0)\n",
    "plt.grid(True)"
   ]
  },
  {
   "cell_type": "markdown",
   "metadata": {},
   "source": [
    "## Spliting into subplots\n",
    "Let's say we want this same plot, but splitting into two differnt plots with No1-No2 in one and No3-No4 in the other. We can do this with the `plt.subplot` command. The syntax is plt.sublot(numrows, numcols, fignum)."
   ]
  },
  {
   "cell_type": "code",
   "execution_count": null,
   "metadata": {},
   "outputs": [],
   "source": [
    "fig, ax = plt.subplots(figsize = (14,5))\n",
    "\n",
    "# Define the sub-plots - 1 row, two columns, \n",
    "# 1st plot\n",
    "plt.subplot(1,2,1)\n",
    "# Plot variable No1\n",
    "plt.plot()\n",
    "# Plot variable No2 together with No1\n",
    "plt.plot()\n",
    "# put a title on this subplot\n",
    "plt.title('  ')\n",
    "# Format the date axis\n",
    "ax.format_xdata = mdates.DateFormatter('%Y-%m')\n",
    "# rotates and right aligns the x labels, and moves the bottom of the\n",
    "# axes up to make room for them\n",
    "fig.autofmt_xdate()\n",
    "plt.suptitle('Multi-Series Plots')\n",
    "plt.legend(loc=0)\n",
    "plt.grid(True)\n",
    "\n",
    "# 2nd plot\n",
    "plt.subplot(1,2,2)\n",
    "# same as above - add series for No3 and No4 and a title\n",
    "\n",
    "\n",
    "\n",
    "# Format the date axis\n",
    "ax.format_xdata = mdates.DateFormatter('%Y-%m')\n",
    "# rotates and right aligns the x labels, and moves the bottom of the\n",
    "# axes up to make room for them\n",
    "fig.autofmt_xdate()\n",
    "# add a supertitle \n",
    "plt.suptitle(  , size=12)\n",
    "plt.legend(loc=0)\n",
    "plt.grid(True)"
   ]
  },
  {
   "cell_type": "markdown",
   "metadata": {},
   "source": [
    "## Categorical variable versus a binary variable - Means and Confidence Intervals\n",
    "From one of Bob's questions: \n",
    "* The categories of the categorical variable along the vertical axis\n",
    "* The mean/percentage of the binary variable (1 values) along the horizontal axis\n",
    "* Confidence intervals at the ends of the bars"
   ]
  },
  {
   "cell_type": "code",
   "execution_count": null,
   "metadata": {},
   "outputs": [],
   "source": [
    "plot_data = tweets_classified.groupby(['topic'])['class'].agg(['mean', 'std', 'count'])\n",
    "plot_data['sqr_count'] = [sqrt(x) for x in plot_data['count']]\n",
    "plot_data['SE'] = plot_data['std']/plot_data['sqr_count']\n",
    "del(plot_data['sqr_count'])\n",
    "plot_data.sort_values('mean', inplace=True)\n",
    "plot_data"
   ]
  },
  {
   "cell_type": "code",
   "execution_count": null,
   "metadata": {},
   "outputs": [],
   "source": [
    "# Plot again using Matplotlib directly\n",
    "# define the location on the y axis - based on the number of topics\n",
    "fig, ax = plt.subplots(figsize=(9,5))\n",
    "y_pos = np.arange(len(plot_data))\n",
    "class_avg = plot_data['mean']\n",
    "error = 2*plot_data['SE']\n",
    "\n",
    "ax.errorbar(class_avg, \n",
    "            y_pos,\n",
    "            xerr=error, \n",
    "            capsize = 8,\n",
    "            fmt='o', \n",
    "            markersize=10, \n",
    "            linewidth=2, \n",
    "            color='green')\n",
    "ax.set_yticks(y_pos)\n",
    "ax.set_yticklabels(plot_data.index, size=12)\n",
    "# ax.invert_yaxis()  # labels read top-to-bottom\n",
    "ax.set_xlabel('Percent Positive Class')\n",
    "ax.set_title('Manual Tweet Classifications\\nError Bars = 2 Standard Errors of the Mean', size=14)\n",
    "\n",
    "plt.show()"
   ]
  },
  {
   "cell_type": "markdown",
   "metadata": {},
   "source": [
    "## Box Plots\n",
    "Let's take a look at box plots of followers_counts by time-zone. First let's look at how many unique time-zone values we have:"
   ]
  },
  {
   "cell_type": "code",
   "execution_count": null,
   "metadata": {},
   "outputs": [],
   "source": [
    "user_df.time_zone.value_counts()"
   ]
  },
  {
   "cell_type": "markdown",
   "metadata": {},
   "source": [
    "That's way to many! We'll distill those down to a more reasonable grouping as we did in the QA notebook."
   ]
  },
  {
   "cell_type": "code",
   "execution_count": null,
   "metadata": {},
   "outputs": [],
   "source": [
    "# There are a lot of missing values! Let's mark those as missing for now:\n",
    "user_df.loc[user_df.time_zone.isna(), 'time_zone'] = 'Missing'\n",
    "\n",
    "# Create a new value for the grouped time zone so we don't lose the original data.\n",
    "user_df['grouped_tz'] = 'Other'\n",
    "user_df.loc[user_df.time_zone=='missing', 'grouped_tz'] = 'Missing'\n",
    "\n",
    "#Europe\n",
    "user_df.loc[user_df.time_zone.isin(['London', 'Dublin','Edinburgh','Amsterdam','Stockholm','Lisbon']),\n",
    "            'grouped_tz'] = 'Europe'\n",
    "# Eastern & Atlantic\n",
    "user_df.loc[user_df.time_zone.isin(['Eastern Time (US & Canada)', 'America/New_York','Indiana (East)', 'Atlantic Time (Canada)']),\n",
    "            'grouped_tz'] = 'Eastern'\n",
    "# Central\n",
    "user_df.loc[user_df.time_zone.isin(['Central Time (US & Canada)', 'America/Toronto']),\n",
    "            'grouped_tz'] = 'Central'\n",
    "# Pacific, Alaska, Hawaii\n",
    "user_df.loc[user_df.time_zone.isin(['Pacific Time (US & Canada)', 'America/Los_Angeles','Alaska','Hawaii']),\n",
    "            'grouped_tz'] = 'Pacific'"
   ]
  },
  {
   "cell_type": "markdown",
   "metadata": {},
   "source": [
    "### Box Plot - followers_count by Timezone\n",
    "This a good place to use Seaborn! Many of the faceting and advanced plotting functions we know in ggplot can be done with Seaborn. \n",
    "\n",
    "In this plot, we have some users with VERY large followers_counts. To make the plot more interesting, I've zoomed in by limiting the data to those users with less than 2000 followers."
   ]
  },
  {
   "cell_type": "code",
   "execution_count": null,
   "metadata": {},
   "outputs": [],
   "source": [
    "fig, ax = plt.subplots(figsize=(10,5))\n",
    "sns.set_style(\"whitegrid\")\n",
    "ax = sns.boxplot(x='grouped_tz', \n",
    "                 y='followers_count', \n",
    "                 hue='grouped_tz',\n",
    "                 data=user_df.loc[user_df.followers_count<2000], \n",
    "                 palette=\"Set3\")\n",
    "ax.legend_ = None\n",
    "# Set titles\n",
    "plt.title('Follower Counts by Grouped Time Zone', size=15)\n",
    "ax.set_xlabel('Grouped Time Zone')\n",
    "ax.set_ylabel('Followers Count')\n"
   ]
  }
 ],
 "metadata": {
  "kernelspec": {
   "display_name": "Python 3",
   "language": "python",
   "name": "python3"
  },
  "language_info": {
   "codemirror_mode": {
    "name": "ipython",
    "version": 3
   },
   "file_extension": ".py",
   "mimetype": "text/x-python",
   "name": "python",
   "nbconvert_exporter": "python",
   "pygments_lexer": "ipython3",
   "version": "3.6.5"
  }
 },
 "nbformat": 4,
 "nbformat_minor": 2
}
