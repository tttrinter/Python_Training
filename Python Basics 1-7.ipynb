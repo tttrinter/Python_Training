{
 "cells": [
  {
   "cell_type": "markdown",
   "metadata": {},
   "source": [
    "# Python Basics\n",
    "This notebook will demonstrate how to accomplish each of the tasks that Bob sent over as a starting point for working in the new Thrivent environment. They cover the following areas:\n",
    "* Reading/Writing files - xlsx, csv\n",
    "* Subsetting and merging data frames\n",
    "* Adding calculated columns\n",
    "* Basic statistics\n",
    "* Plotting\n",
    "* Modeling\n",
    "\n",
    "### Load Packages"
   ]
  },
  {
   "cell_type": "code",
   "execution_count": 1,
   "metadata": {},
   "outputs": [],
   "source": [
    "import pandas as pd # for data frames, reading and writing data\n",
    "from matplotlib import pyplot as plt\n",
    "from sklearn.decomposition import PCA\n",
    "import psycopg2 # for connecting to a postgres database\n",
    "import numpy as np # using this to create a range of floats\n",
    "\n",
    "from scipy.stats import chi2_contingency, kstest\n",
    "\n",
    "\n",
    "# the next line is so that the matplot lib plots show up in the notebook cell\n",
    "%matplotlib inline"
   ]
  },
  {
   "cell_type": "markdown",
   "metadata": {},
   "source": [
    "## Load Data\n",
    "We'll use some data from the Twitter work we've been doing for most of the analysis. \n",
    "\n",
    "### 0. Read Data from Excel\n",
    "I'm using pandas to read in the data file from excel. If the file is located in the same directory as the notebook, this will work. Otherwise, add the path to the file to the filename. Pandas will automatically infer data types, column numbers and rownumbers from the data. There are quite a few different arguments that you can pass to this function to control what is loaded and how. The following cell will bring up the docstring for this function that has explanations for all of the options."
   ]
  },
  {
   "cell_type": "code",
   "execution_count": 2,
   "metadata": {},
   "outputs": [],
   "source": [
    "?pd.read_excel"
   ]
  },
  {
   "cell_type": "code",
   "execution_count": 3,
   "metadata": {},
   "outputs": [
    {
     "data": {
      "text/html": [
       "<div>\n",
       "<style scoped>\n",
       "    .dataframe tbody tr th:only-of-type {\n",
       "        vertical-align: middle;\n",
       "    }\n",
       "\n",
       "    .dataframe tbody tr th {\n",
       "        vertical-align: top;\n",
       "    }\n",
       "\n",
       "    .dataframe thead th {\n",
       "        text-align: right;\n",
       "    }\n",
       "</style>\n",
       "<table border=\"1\" class=\"dataframe\">\n",
       "  <thead>\n",
       "    <tr style=\"text-align: right;\">\n",
       "      <th></th>\n",
       "      <th>text</th>\n",
       "      <th>class</th>\n",
       "      <th>topic</th>\n",
       "    </tr>\n",
       "  </thead>\n",
       "  <tbody>\n",
       "    <tr>\n",
       "      <th>0</th>\n",
       "      <td>You remind me of my BimmerSee your ignition  b...</td>\n",
       "      <td>0</td>\n",
       "      <td>Birth</td>\n",
       "    </tr>\n",
       "    <tr>\n",
       "      <th>1</th>\n",
       "      <td>RT @JaDineNATION: Were so excited for our dese...</td>\n",
       "      <td>0</td>\n",
       "      <td>Birth</td>\n",
       "    </tr>\n",
       "    <tr>\n",
       "      <th>2</th>\n",
       "      <td>i always get super self conscious about keepin...</td>\n",
       "      <td>0</td>\n",
       "      <td>Birth</td>\n",
       "    </tr>\n",
       "    <tr>\n",
       "      <th>3</th>\n",
       "      <td>@Juhhhhhhnelle Weird ass bitch lucky Im pregna...</td>\n",
       "      <td>1</td>\n",
       "      <td>Birth</td>\n",
       "    </tr>\n",
       "    <tr>\n",
       "      <th>4</th>\n",
       "      <td>RT @thdmichaelbell: New Signage above our Fron...</td>\n",
       "      <td>0</td>\n",
       "      <td>Birth</td>\n",
       "    </tr>\n",
       "  </tbody>\n",
       "</table>\n",
       "</div>"
      ],
      "text/plain": [
       "                                                text  class  topic\n",
       "0  You remind me of my BimmerSee your ignition  b...      0  Birth\n",
       "1  RT @JaDineNATION: Were so excited for our dese...      0  Birth\n",
       "2  i always get super self conscious about keepin...      0  Birth\n",
       "3  @Juhhhhhhnelle Weird ass bitch lucky Im pregna...      1  Birth\n",
       "4  RT @thdmichaelbell: New Signage above our Fron...      0  Birth"
      ]
     },
     "execution_count": 3,
     "metadata": {},
     "output_type": "execute_result"
    }
   ],
   "source": [
    "filename = 'sample_data.xlsx'\n",
    "t_data = pd.read_excel(filename, sheet_name='tweets_classified')\n",
    "t_data.head()"
   ]
  },
  {
   "cell_type": "markdown",
   "metadata": {},
   "source": [
    "### 1. Export dataframe to tab delimited file\n",
    "Now that we have some data to work with, we can export it to a tab-delimited file. After exporting, we'll remove the data frame and reload it from the csv file.\n",
    "* setting the sep argument to '\\t' makes it tab separated. Default is comma separated\n",
    "* setting the index=False prevents it from writing out the row numbers as a column, creating an exraneous column."
   ]
  },
  {
   "cell_type": "code",
   "execution_count": 4,
   "metadata": {},
   "outputs": [],
   "source": [
    "export_filename = 'sample_data.csv'\n",
    "t_data.to_csv(export_filename, sep='\\t', index=False)\n",
    "t_data = None"
   ]
  },
  {
   "cell_type": "code",
   "execution_count": 5,
   "metadata": {},
   "outputs": [
    {
     "data": {
      "text/html": [
       "<div>\n",
       "<style scoped>\n",
       "    .dataframe tbody tr th:only-of-type {\n",
       "        vertical-align: middle;\n",
       "    }\n",
       "\n",
       "    .dataframe tbody tr th {\n",
       "        vertical-align: top;\n",
       "    }\n",
       "\n",
       "    .dataframe thead th {\n",
       "        text-align: right;\n",
       "    }\n",
       "</style>\n",
       "<table border=\"1\" class=\"dataframe\">\n",
       "  <thead>\n",
       "    <tr style=\"text-align: right;\">\n",
       "      <th></th>\n",
       "      <th>text</th>\n",
       "      <th>class</th>\n",
       "      <th>topic</th>\n",
       "    </tr>\n",
       "  </thead>\n",
       "  <tbody>\n",
       "    <tr>\n",
       "      <th>0</th>\n",
       "      <td>You remind me of my BimmerSee your ignition  b...</td>\n",
       "      <td>0</td>\n",
       "      <td>Birth</td>\n",
       "    </tr>\n",
       "    <tr>\n",
       "      <th>1</th>\n",
       "      <td>RT @JaDineNATION: Were so excited for our dese...</td>\n",
       "      <td>0</td>\n",
       "      <td>Birth</td>\n",
       "    </tr>\n",
       "    <tr>\n",
       "      <th>2</th>\n",
       "      <td>i always get super self conscious about keepin...</td>\n",
       "      <td>0</td>\n",
       "      <td>Birth</td>\n",
       "    </tr>\n",
       "    <tr>\n",
       "      <th>3</th>\n",
       "      <td>@Juhhhhhhnelle Weird ass bitch lucky Im pregna...</td>\n",
       "      <td>1</td>\n",
       "      <td>Birth</td>\n",
       "    </tr>\n",
       "    <tr>\n",
       "      <th>4</th>\n",
       "      <td>RT @thdmichaelbell: New Signage above our Fron...</td>\n",
       "      <td>0</td>\n",
       "      <td>Birth</td>\n",
       "    </tr>\n",
       "  </tbody>\n",
       "</table>\n",
       "</div>"
      ],
      "text/plain": [
       "                                                text  class  topic\n",
       "0  You remind me of my BimmerSee your ignition  b...      0  Birth\n",
       "1  RT @JaDineNATION: Were so excited for our dese...      0  Birth\n",
       "2  i always get super self conscious about keepin...      0  Birth\n",
       "3  @Juhhhhhhnelle Weird ass bitch lucky Im pregna...      1  Birth\n",
       "4  RT @thdmichaelbell: New Signage above our Fron...      0  Birth"
      ]
     },
     "execution_count": 5,
     "metadata": {},
     "output_type": "execute_result"
    }
   ],
   "source": [
    "t_data = pd.read_csv(export_filename, sep='\\t')\n",
    "t_data.head()"
   ]
  },
  {
   "cell_type": "markdown",
   "metadata": {},
   "source": [
    "Let's get an idea of what's in this dataframe - I know it has texts from different topics. Let's see how many from each are in there:"
   ]
  },
  {
   "cell_type": "code",
   "execution_count": 6,
   "metadata": {},
   "outputs": [
    {
     "data": {
      "text/plain": [
       "Marriage      241\n",
       "Moving        240\n",
       "Divorce       226\n",
       "Graduation    226\n",
       "Birth         199\n",
       "Name: topic, dtype: int64"
      ]
     },
     "execution_count": 6,
     "metadata": {},
     "output_type": "execute_result"
    }
   ],
   "source": [
    "t_data['topic'].value_counts()"
   ]
  },
  {
   "cell_type": "code",
   "execution_count": 7,
   "metadata": {},
   "outputs": [
    {
     "data": {
      "text/plain": [
       "0    883\n",
       "1    206\n",
       "2     43\n",
       "Name: class, dtype: int64"
      ]
     },
     "execution_count": 7,
     "metadata": {},
     "output_type": "execute_result"
    }
   ],
   "source": [
    "t_data['class'].value_counts()"
   ]
  },
  {
   "cell_type": "markdown",
   "metadata": {},
   "source": [
    "Since we want the `class` variable to be binary, we have some data clean-up to do here. At some point I started using 2 for negatives, since it was easier on the keyboard than 0! Let's replace all of those 2s with 0 to make class truly binary."
   ]
  },
  {
   "cell_type": "code",
   "execution_count": 8,
   "metadata": {},
   "outputs": [
    {
     "data": {
      "text/plain": [
       "0    926\n",
       "1    206\n",
       "Name: class, dtype: int64"
      ]
     },
     "execution_count": 8,
     "metadata": {},
     "output_type": "execute_result"
    }
   ],
   "source": [
    "t_data.loc[t_data['class']==2,'class'] = 0 \n",
    "t_data['class'].value_counts()"
   ]
  },
  {
   "cell_type": "code",
   "execution_count": 9,
   "metadata": {},
   "outputs": [
    {
     "data": {
      "text/plain": [
       "text     object\n",
       "class     int64\n",
       "topic    object\n",
       "dtype: object"
      ]
     },
     "execution_count": 9,
     "metadata": {},
     "output_type": "execute_result"
    }
   ],
   "source": [
    "# Check data types\n",
    "t_data.dtypes"
   ]
  },
  {
   "cell_type": "code",
   "execution_count": 10,
   "metadata": {},
   "outputs": [
    {
     "data": {
      "text/html": [
       "<div>\n",
       "<style scoped>\n",
       "    .dataframe tbody tr th:only-of-type {\n",
       "        vertical-align: middle;\n",
       "    }\n",
       "\n",
       "    .dataframe tbody tr th {\n",
       "        vertical-align: top;\n",
       "    }\n",
       "\n",
       "    .dataframe thead th {\n",
       "        text-align: right;\n",
       "    }\n",
       "</style>\n",
       "<table border=\"1\" class=\"dataframe\">\n",
       "  <thead>\n",
       "    <tr style=\"text-align: right;\">\n",
       "      <th></th>\n",
       "      <th>text</th>\n",
       "      <th>class</th>\n",
       "      <th>topic</th>\n",
       "    </tr>\n",
       "  </thead>\n",
       "  <tbody>\n",
       "    <tr>\n",
       "      <th>count</th>\n",
       "      <td>1132</td>\n",
       "      <td>1132.000000</td>\n",
       "      <td>1132</td>\n",
       "    </tr>\n",
       "    <tr>\n",
       "      <th>unique</th>\n",
       "      <td>1122</td>\n",
       "      <td>NaN</td>\n",
       "      <td>5</td>\n",
       "    </tr>\n",
       "    <tr>\n",
       "      <th>top</th>\n",
       "      <td>@ryrob51 @veyseyor @veyseyor Ryan is moving in</td>\n",
       "      <td>NaN</td>\n",
       "      <td>Marriage</td>\n",
       "    </tr>\n",
       "    <tr>\n",
       "      <th>freq</th>\n",
       "      <td>2</td>\n",
       "      <td>NaN</td>\n",
       "      <td>241</td>\n",
       "    </tr>\n",
       "    <tr>\n",
       "      <th>mean</th>\n",
       "      <td>NaN</td>\n",
       "      <td>0.181979</td>\n",
       "      <td>NaN</td>\n",
       "    </tr>\n",
       "    <tr>\n",
       "      <th>std</th>\n",
       "      <td>NaN</td>\n",
       "      <td>0.385998</td>\n",
       "      <td>NaN</td>\n",
       "    </tr>\n",
       "    <tr>\n",
       "      <th>min</th>\n",
       "      <td>NaN</td>\n",
       "      <td>0.000000</td>\n",
       "      <td>NaN</td>\n",
       "    </tr>\n",
       "    <tr>\n",
       "      <th>25%</th>\n",
       "      <td>NaN</td>\n",
       "      <td>0.000000</td>\n",
       "      <td>NaN</td>\n",
       "    </tr>\n",
       "    <tr>\n",
       "      <th>50%</th>\n",
       "      <td>NaN</td>\n",
       "      <td>0.000000</td>\n",
       "      <td>NaN</td>\n",
       "    </tr>\n",
       "    <tr>\n",
       "      <th>75%</th>\n",
       "      <td>NaN</td>\n",
       "      <td>0.000000</td>\n",
       "      <td>NaN</td>\n",
       "    </tr>\n",
       "    <tr>\n",
       "      <th>max</th>\n",
       "      <td>NaN</td>\n",
       "      <td>1.000000</td>\n",
       "      <td>NaN</td>\n",
       "    </tr>\n",
       "  </tbody>\n",
       "</table>\n",
       "</div>"
      ],
      "text/plain": [
       "                                                  text        class     topic\n",
       "count                                             1132  1132.000000      1132\n",
       "unique                                            1122          NaN         5\n",
       "top     @ryrob51 @veyseyor @veyseyor Ryan is moving in          NaN  Marriage\n",
       "freq                                                 2          NaN       241\n",
       "mean                                               NaN     0.181979       NaN\n",
       "std                                                NaN     0.385998       NaN\n",
       "min                                                NaN     0.000000       NaN\n",
       "25%                                                NaN     0.000000       NaN\n",
       "50%                                                NaN     0.000000       NaN\n",
       "75%                                                NaN     0.000000       NaN\n",
       "max                                                NaN     1.000000       NaN"
      ]
     },
     "execution_count": 10,
     "metadata": {},
     "output_type": "execute_result"
    }
   ],
   "source": [
    "# Get some descriptive data from this dataframe\n",
    "t_data.describe(include='all')"
   ]
  },
  {
   "cell_type": "markdown",
   "metadata": {},
   "source": [
    "### Subsetting\n",
    "Subsetting dataframes with Pandas is very similar to subsetting in R. Since the sample data has data from 5 different topics, let's pull out two topics and make them separate data frames.\n",
    "\n",
    "Unlike R, when subsetting with Pandas you have to use `loc` or `iloc` before adding in the subset parameters. \n",
    "* `loc` is used when you have a criteria based on the values in a column or multiple columns\n",
    "* `iloc` will give you the values from a numeric position in the dataframe. For example, if you wanted the first 10 rows of the data frame, you'd do the following:\n",
    "\n",
    "*NOTE: Unlike R, Python is zero-based, so lists and indexes start at zero, rather than one.* \n",
    "#### Subsetting with `iloc`"
   ]
  },
  {
   "cell_type": "code",
   "execution_count": 11,
   "metadata": {},
   "outputs": [
    {
     "data": {
      "text/html": [
       "<div>\n",
       "<style scoped>\n",
       "    .dataframe tbody tr th:only-of-type {\n",
       "        vertical-align: middle;\n",
       "    }\n",
       "\n",
       "    .dataframe tbody tr th {\n",
       "        vertical-align: top;\n",
       "    }\n",
       "\n",
       "    .dataframe thead th {\n",
       "        text-align: right;\n",
       "    }\n",
       "</style>\n",
       "<table border=\"1\" class=\"dataframe\">\n",
       "  <thead>\n",
       "    <tr style=\"text-align: right;\">\n",
       "      <th></th>\n",
       "      <th>text</th>\n",
       "      <th>class</th>\n",
       "      <th>topic</th>\n",
       "    </tr>\n",
       "  </thead>\n",
       "  <tbody>\n",
       "    <tr>\n",
       "      <th>0</th>\n",
       "      <td>You remind me of my BimmerSee your ignition  b...</td>\n",
       "      <td>0</td>\n",
       "      <td>Birth</td>\n",
       "    </tr>\n",
       "    <tr>\n",
       "      <th>1</th>\n",
       "      <td>RT @JaDineNATION: Were so excited for our dese...</td>\n",
       "      <td>0</td>\n",
       "      <td>Birth</td>\n",
       "    </tr>\n",
       "    <tr>\n",
       "      <th>2</th>\n",
       "      <td>i always get super self conscious about keepin...</td>\n",
       "      <td>0</td>\n",
       "      <td>Birth</td>\n",
       "    </tr>\n",
       "    <tr>\n",
       "      <th>3</th>\n",
       "      <td>@Juhhhhhhnelle Weird ass bitch lucky Im pregna...</td>\n",
       "      <td>1</td>\n",
       "      <td>Birth</td>\n",
       "    </tr>\n",
       "    <tr>\n",
       "      <th>4</th>\n",
       "      <td>RT @thdmichaelbell: New Signage above our Fron...</td>\n",
       "      <td>0</td>\n",
       "      <td>Birth</td>\n",
       "    </tr>\n",
       "    <tr>\n",
       "      <th>5</th>\n",
       "      <td>NEW SUPER BABY 2 SCAN AND TRANSLATION AND NEW ...</td>\n",
       "      <td>0</td>\n",
       "      <td>Birth</td>\n",
       "    </tr>\n",
       "    <tr>\n",
       "      <th>6</th>\n",
       "      <td>RT @Prof_Hariom: @OmarAbdullah Throw out of Bh...</td>\n",
       "      <td>0</td>\n",
       "      <td>Birth</td>\n",
       "    </tr>\n",
       "    <tr>\n",
       "      <th>7</th>\n",
       "      <td>RT @dre85567034: Mmm...Busty Preggos Yummy! Pa...</td>\n",
       "      <td>0</td>\n",
       "      <td>Birth</td>\n",
       "    </tr>\n",
       "    <tr>\n",
       "      <th>8</th>\n",
       "      <td>baby girl you re a star</td>\n",
       "      <td>0</td>\n",
       "      <td>Birth</td>\n",
       "    </tr>\n",
       "    <tr>\n",
       "      <th>9</th>\n",
       "      <td>RT @DDuaneOfficial: Glad I was able to speak w...</td>\n",
       "      <td>0</td>\n",
       "      <td>Birth</td>\n",
       "    </tr>\n",
       "  </tbody>\n",
       "</table>\n",
       "</div>"
      ],
      "text/plain": [
       "                                                text  class  topic\n",
       "0  You remind me of my BimmerSee your ignition  b...      0  Birth\n",
       "1  RT @JaDineNATION: Were so excited for our dese...      0  Birth\n",
       "2  i always get super self conscious about keepin...      0  Birth\n",
       "3  @Juhhhhhhnelle Weird ass bitch lucky Im pregna...      1  Birth\n",
       "4  RT @thdmichaelbell: New Signage above our Fron...      0  Birth\n",
       "5  NEW SUPER BABY 2 SCAN AND TRANSLATION AND NEW ...      0  Birth\n",
       "6  RT @Prof_Hariom: @OmarAbdullah Throw out of Bh...      0  Birth\n",
       "7  RT @dre85567034: Mmm...Busty Preggos Yummy! Pa...      0  Birth\n",
       "8                            baby girl you re a star      0  Birth\n",
       "9  RT @DDuaneOfficial: Glad I was able to speak w...      0  Birth"
      ]
     },
     "execution_count": 11,
     "metadata": {},
     "output_type": "execute_result"
    }
   ],
   "source": [
    "# First 10 rows\n",
    "t_data.iloc[0:10]"
   ]
  },
  {
   "cell_type": "markdown",
   "metadata": {},
   "source": [
    "#### Subsetting with `loc`\n",
    "When referencing columns in pandas, you can use either dataframe.column_name or dataframe['column name']. They should work the same way. Sometimes, maybe based on the column name itself, the .column_name doesn't work. ['column_name'] seems to be more reliable. In this dataframe, I had this issue with the 'class' column."
   ]
  },
  {
   "cell_type": "code",
   "execution_count": 12,
   "metadata": {},
   "outputs": [
    {
     "data": {
      "text/html": [
       "<div>\n",
       "<style scoped>\n",
       "    .dataframe tbody tr th:only-of-type {\n",
       "        vertical-align: middle;\n",
       "    }\n",
       "\n",
       "    .dataframe tbody tr th {\n",
       "        vertical-align: top;\n",
       "    }\n",
       "\n",
       "    .dataframe thead th {\n",
       "        text-align: right;\n",
       "    }\n",
       "</style>\n",
       "<table border=\"1\" class=\"dataframe\">\n",
       "  <thead>\n",
       "    <tr style=\"text-align: right;\">\n",
       "      <th></th>\n",
       "      <th>text</th>\n",
       "      <th>class</th>\n",
       "      <th>topic</th>\n",
       "    </tr>\n",
       "  </thead>\n",
       "  <tbody>\n",
       "    <tr>\n",
       "      <th>892</th>\n",
       "      <td>Peaches is moving to the City where lots of ex...</td>\n",
       "      <td>0</td>\n",
       "      <td>Moving</td>\n",
       "    </tr>\n",
       "    <tr>\n",
       "      <th>893</th>\n",
       "      <td>The best thing we can realistically hope for i...</td>\n",
       "      <td>0</td>\n",
       "      <td>Moving</td>\n",
       "    </tr>\n",
       "    <tr>\n",
       "      <th>894</th>\n",
       "      <td>@Iam100Savage A Fund was moving out and hence ...</td>\n",
       "      <td>0</td>\n",
       "      <td>Moving</td>\n",
       "    </tr>\n",
       "    <tr>\n",
       "      <th>895</th>\n",
       "      <td>You could win $4,000 towards a new home theate...</td>\n",
       "      <td>0</td>\n",
       "      <td>Moving</td>\n",
       "    </tr>\n",
       "    <tr>\n",
       "      <th>896</th>\n",
       "      <td>If I wasn’t in a relationship, after graduatio...</td>\n",
       "      <td>0</td>\n",
       "      <td>Moving</td>\n",
       "    </tr>\n",
       "  </tbody>\n",
       "</table>\n",
       "</div>"
      ],
      "text/plain": [
       "                                                  text  class   topic\n",
       "892  Peaches is moving to the City where lots of ex...      0  Moving\n",
       "893  The best thing we can realistically hope for i...      0  Moving\n",
       "894  @Iam100Savage A Fund was moving out and hence ...      0  Moving\n",
       "895  You could win $4,000 towards a new home theate...      0  Moving\n",
       "896  If I wasn’t in a relationship, after graduatio...      0  Moving"
      ]
     },
     "execution_count": 12,
     "metadata": {},
     "output_type": "execute_result"
    }
   ],
   "source": [
    "moving_df = t_data.loc[t_data.topic=='Moving']\n",
    "moving_df.head()"
   ]
  },
  {
   "cell_type": "code",
   "execution_count": 13,
   "metadata": {},
   "outputs": [
    {
     "data": {
      "text/html": [
       "<div>\n",
       "<style scoped>\n",
       "    .dataframe tbody tr th:only-of-type {\n",
       "        vertical-align: middle;\n",
       "    }\n",
       "\n",
       "    .dataframe tbody tr th {\n",
       "        vertical-align: top;\n",
       "    }\n",
       "\n",
       "    .dataframe thead th {\n",
       "        text-align: right;\n",
       "    }\n",
       "</style>\n",
       "<table border=\"1\" class=\"dataframe\">\n",
       "  <thead>\n",
       "    <tr style=\"text-align: right;\">\n",
       "      <th></th>\n",
       "      <th>text</th>\n",
       "      <th>class</th>\n",
       "      <th>topic</th>\n",
       "    </tr>\n",
       "  </thead>\n",
       "  <tbody>\n",
       "    <tr>\n",
       "      <th>651</th>\n",
       "      <td>2 years ago i casually pinned wedding ideas da...</td>\n",
       "      <td>0</td>\n",
       "      <td>Marriage</td>\n",
       "    </tr>\n",
       "    <tr>\n",
       "      <th>652</th>\n",
       "      <td>so completely honored to stand next to this ma...</td>\n",
       "      <td>0</td>\n",
       "      <td>Marriage</td>\n",
       "    </tr>\n",
       "    <tr>\n",
       "      <th>653</th>\n",
       "      <td>the wedding chapel http://t.co/xthvajo4</td>\n",
       "      <td>0</td>\n",
       "      <td>Marriage</td>\n",
       "    </tr>\n",
       "    <tr>\n",
       "      <th>654</th>\n",
       "      <td>i love that my modern-day beauty &amp;amp; the bea...</td>\n",
       "      <td>0</td>\n",
       "      <td>Marriage</td>\n",
       "    </tr>\n",
       "    <tr>\n",
       "      <th>655</th>\n",
       "      <td>on the train heading to pa for a friends weddi...</td>\n",
       "      <td>0</td>\n",
       "      <td>Marriage</td>\n",
       "    </tr>\n",
       "  </tbody>\n",
       "</table>\n",
       "</div>"
      ],
      "text/plain": [
       "                                                  text  class     topic\n",
       "651  2 years ago i casually pinned wedding ideas da...      0  Marriage\n",
       "652  so completely honored to stand next to this ma...      0  Marriage\n",
       "653            the wedding chapel http://t.co/xthvajo4      0  Marriage\n",
       "654  i love that my modern-day beauty &amp; the bea...      0  Marriage\n",
       "655  on the train heading to pa for a friends weddi...      0  Marriage"
      ]
     },
     "execution_count": 13,
     "metadata": {},
     "output_type": "execute_result"
    }
   ],
   "source": [
    "marriage_df = t_data.loc[t_data['topic']=='Marriage']\n",
    "marriage_df.head()"
   ]
  },
  {
   "cell_type": "markdown",
   "metadata": {},
   "source": [
    "#### Multiple subset criteria\n",
    "This works the same way that subsetting in R does. Let's find all of the Marriage and Moving tweets where the Class==1. A common error when subsetting is: `The truth value of a Series is ambiguous. Use a.empty, a.bool(), a.item(), a.any() or a.all().` If you get that, make sure you are using `&` and `|` for and/or operators. If it's still an issue, check parentheses - it seems like it needs more than necessary for the subset to work!"
   ]
  },
  {
   "cell_type": "code",
   "execution_count": 14,
   "metadata": {},
   "outputs": [
    {
     "data": {
      "text/html": [
       "<div>\n",
       "<style scoped>\n",
       "    .dataframe tbody tr th:only-of-type {\n",
       "        vertical-align: middle;\n",
       "    }\n",
       "\n",
       "    .dataframe tbody tr th {\n",
       "        vertical-align: top;\n",
       "    }\n",
       "\n",
       "    .dataframe thead th {\n",
       "        text-align: right;\n",
       "    }\n",
       "</style>\n",
       "<table border=\"1\" class=\"dataframe\">\n",
       "  <thead>\n",
       "    <tr style=\"text-align: right;\">\n",
       "      <th></th>\n",
       "      <th>text</th>\n",
       "      <th>class</th>\n",
       "      <th>topic</th>\n",
       "    </tr>\n",
       "  </thead>\n",
       "  <tbody>\n",
       "    <tr>\n",
       "      <th>656</th>\n",
       "      <td>houston...i love you and i hate you right now....</td>\n",
       "      <td>1</td>\n",
       "      <td>Marriage</td>\n",
       "    </tr>\n",
       "    <tr>\n",
       "      <th>663</th>\n",
       "      <td>chaelisa for we got married</td>\n",
       "      <td>1</td>\n",
       "      <td>Marriage</td>\n",
       "    </tr>\n",
       "    <tr>\n",
       "      <th>664</th>\n",
       "      <td>here is how i feel about wedding thank you car...</td>\n",
       "      <td>1</td>\n",
       "      <td>Marriage</td>\n",
       "    </tr>\n",
       "    <tr>\n",
       "      <th>670</th>\n",
       "      <td>for all interested  here is the video from our...</td>\n",
       "      <td>1</td>\n",
       "      <td>Marriage</td>\n",
       "    </tr>\n",
       "    <tr>\n",
       "      <th>682</th>\n",
       "      <td>thankful for an aunt who can do a few last min...</td>\n",
       "      <td>1</td>\n",
       "      <td>Marriage</td>\n",
       "    </tr>\n",
       "  </tbody>\n",
       "</table>\n",
       "</div>"
      ],
      "text/plain": [
       "                                                  text  class     topic\n",
       "656  houston...i love you and i hate you right now....      1  Marriage\n",
       "663                        chaelisa for we got married      1  Marriage\n",
       "664  here is how i feel about wedding thank you car...      1  Marriage\n",
       "670  for all interested  here is the video from our...      1  Marriage\n",
       "682  thankful for an aunt who can do a few last min...      1  Marriage"
      ]
     },
     "execution_count": 14,
     "metadata": {},
     "output_type": "execute_result"
    }
   ],
   "source": [
    "subset2 = t_data.loc[((t_data['topic']=='Marriage') & (t_data['class']==1)) |\n",
    "                     ((t_data['topic']=='Moving') & (t_data['class']==1))]\n",
    "subset2.head()"
   ]
  },
  {
   "cell_type": "markdown",
   "metadata": {},
   "source": [
    "### 2. Merging Data Frames\n",
    "Now that we have two separate data frames for Marriage and Moving, let's merge them together and see if the number of class==1 matches our subset above. There are a lot of options when merging data frames - similar to joins with data tables. The [documentation](https://pandas.pydata.org/pandas-docs/stable/generated/pandas.DataFrame.merge.html) is pretty helpful as is StackOverflow, of course.\n",
    "\n",
    "This first example is just a combination of two dataframes... no index to match on. "
   ]
  },
  {
   "cell_type": "code",
   "execution_count": 15,
   "metadata": {},
   "outputs": [
    {
     "name": "stdout",
     "output_type": "stream",
     "text": [
      "Marrige data frame: 241\n",
      "Moving data frame: 240\n",
      "Merged data frame: 481\n"
     ]
    }
   ],
   "source": [
    "merged_df = marriage_df.merge(moving_df, how='outer')\n",
    "print('Marrige data frame: {}'.format(len(marriage_df)))\n",
    "print('Moving data frame: {}'.format(len(moving_df)))\n",
    "print('Merged data frame: {}'.format(len(merged_df)))"
   ]
  },
  {
   "cell_type": "code",
   "execution_count": 16,
   "metadata": {},
   "outputs": [
    {
     "data": {
      "text/plain": [
       "True"
      ]
     },
     "execution_count": 16,
     "metadata": {},
     "output_type": "execute_result"
    }
   ],
   "source": [
    "# Does our count of positive tweets match between the subset and the merged data?\n",
    "len(subset2) == len(merged_df.loc[merged_df['class']==1])"
   ]
  },
  {
   "cell_type": "markdown",
   "metadata": {},
   "source": [
    "We need some different data to show how to merge on different keys. Our sample file has data for this too in the `tweet_data` and `user_data` sheets."
   ]
  },
  {
   "cell_type": "code",
   "execution_count": 17,
   "metadata": {},
   "outputs": [
    {
     "data": {
      "text/plain": [
       "'sample_data.xlsx'"
      ]
     },
     "execution_count": 17,
     "metadata": {},
     "output_type": "execute_result"
    }
   ],
   "source": [
    "filename"
   ]
  },
  {
   "cell_type": "code",
   "execution_count": 18,
   "metadata": {},
   "outputs": [
    {
     "data": {
      "text/html": [
       "<div>\n",
       "<style scoped>\n",
       "    .dataframe tbody tr th:only-of-type {\n",
       "        vertical-align: middle;\n",
       "    }\n",
       "\n",
       "    .dataframe tbody tr th {\n",
       "        vertical-align: top;\n",
       "    }\n",
       "\n",
       "    .dataframe thead th {\n",
       "        text-align: right;\n",
       "    }\n",
       "</style>\n",
       "<table border=\"1\" class=\"dataframe\">\n",
       "  <thead>\n",
       "    <tr style=\"text-align: right;\">\n",
       "      <th></th>\n",
       "      <th>tweet_id</th>\n",
       "      <th>id_str</th>\n",
       "      <th>created_at</th>\n",
       "      <th>text</th>\n",
       "      <th>user_id</th>\n",
       "      <th>favorite_count</th>\n",
       "      <th>favorited</th>\n",
       "      <th>in_reply_to_status_id</th>\n",
       "      <th>in_reply_to_user_id</th>\n",
       "      <th>lang</th>\n",
       "      <th>place</th>\n",
       "      <th>retweet_count</th>\n",
       "      <th>retweeted</th>\n",
       "    </tr>\n",
       "  </thead>\n",
       "  <tbody>\n",
       "    <tr>\n",
       "      <th>0</th>\n",
       "      <td>956547739344449024</td>\n",
       "      <td>956547739344449024</td>\n",
       "      <td>2018-01-25 15:22:07</td>\n",
       "      <td>Cant be able to stream awhile ago I m rushing ...</td>\n",
       "      <td>923525633036001024</td>\n",
       "      <td>0</td>\n",
       "      <td>False</td>\n",
       "      <td>NaN</td>\n",
       "      <td>NaN</td>\n",
       "      <td>en</td>\n",
       "      <td>NaN</td>\n",
       "      <td>0</td>\n",
       "      <td>False</td>\n",
       "    </tr>\n",
       "    <tr>\n",
       "      <th>1</th>\n",
       "      <td>956548439587938048</td>\n",
       "      <td>956548439587938048</td>\n",
       "      <td>2018-01-25 15:24:54</td>\n",
       "      <td>RT @afaidd: Im in 40K+ debt... you think Im ju...</td>\n",
       "      <td>936985398391208960</td>\n",
       "      <td>0</td>\n",
       "      <td>False</td>\n",
       "      <td>NaN</td>\n",
       "      <td>NaN</td>\n",
       "      <td>en</td>\n",
       "      <td>NaN</td>\n",
       "      <td>0</td>\n",
       "      <td>False</td>\n",
       "    </tr>\n",
       "    <tr>\n",
       "      <th>2</th>\n",
       "      <td>956548440372203008</td>\n",
       "      <td>956548440372203008</td>\n",
       "      <td>2018-01-25 15:24:54</td>\n",
       "      <td>Delighted to have graduated from column to ful...</td>\n",
       "      <td>374464187</td>\n",
       "      <td>0</td>\n",
       "      <td>False</td>\n",
       "      <td>NaN</td>\n",
       "      <td>NaN</td>\n",
       "      <td>en</td>\n",
       "      <td>NaN</td>\n",
       "      <td>0</td>\n",
       "      <td>False</td>\n",
       "    </tr>\n",
       "    <tr>\n",
       "      <th>3</th>\n",
       "      <td>956548447393389952</td>\n",
       "      <td>956548447393389952</td>\n",
       "      <td>2018-01-25 15:24:56</td>\n",
       "      <td>RT @tbhOffice: Scotts Tots: We graduated! Can ...</td>\n",
       "      <td>2866235550</td>\n",
       "      <td>0</td>\n",
       "      <td>False</td>\n",
       "      <td>NaN</td>\n",
       "      <td>NaN</td>\n",
       "      <td>en</td>\n",
       "      <td>NaN</td>\n",
       "      <td>0</td>\n",
       "      <td>False</td>\n",
       "    </tr>\n",
       "    <tr>\n",
       "      <th>4</th>\n",
       "      <td>956548504327015936</td>\n",
       "      <td>956548504327015936</td>\n",
       "      <td>2018-01-25 15:25:09</td>\n",
       "      <td>RT @jellsoval: realizing i m gonna graduate wi...</td>\n",
       "      <td>2723199724</td>\n",
       "      <td>0</td>\n",
       "      <td>False</td>\n",
       "      <td>NaN</td>\n",
       "      <td>NaN</td>\n",
       "      <td>en</td>\n",
       "      <td>NaN</td>\n",
       "      <td>0</td>\n",
       "      <td>False</td>\n",
       "    </tr>\n",
       "  </tbody>\n",
       "</table>\n",
       "</div>"
      ],
      "text/plain": [
       "             tweet_id              id_str          created_at  \\\n",
       "0  956547739344449024  956547739344449024 2018-01-25 15:22:07   \n",
       "1  956548439587938048  956548439587938048 2018-01-25 15:24:54   \n",
       "2  956548440372203008  956548440372203008 2018-01-25 15:24:54   \n",
       "3  956548447393389952  956548447393389952 2018-01-25 15:24:56   \n",
       "4  956548504327015936  956548504327015936 2018-01-25 15:25:09   \n",
       "\n",
       "                                                text             user_id  \\\n",
       "0  Cant be able to stream awhile ago I m rushing ...  923525633036001024   \n",
       "1  RT @afaidd: Im in 40K+ debt... you think Im ju...  936985398391208960   \n",
       "2  Delighted to have graduated from column to ful...           374464187   \n",
       "3  RT @tbhOffice: Scotts Tots: We graduated! Can ...          2866235550   \n",
       "4  RT @jellsoval: realizing i m gonna graduate wi...          2723199724   \n",
       "\n",
       "   favorite_count  favorited  in_reply_to_status_id  in_reply_to_user_id lang  \\\n",
       "0               0      False                    NaN                  NaN   en   \n",
       "1               0      False                    NaN                  NaN   en   \n",
       "2               0      False                    NaN                  NaN   en   \n",
       "3               0      False                    NaN                  NaN   en   \n",
       "4               0      False                    NaN                  NaN   en   \n",
       "\n",
       "   place  retweet_count  retweeted  \n",
       "0    NaN              0      False  \n",
       "1    NaN              0      False  \n",
       "2    NaN              0      False  \n",
       "3    NaN              0      False  \n",
       "4    NaN              0      False  "
      ]
     },
     "execution_count": 18,
     "metadata": {},
     "output_type": "execute_result"
    }
   ],
   "source": [
    "tweet_df = pd.read_excel(filename, sheet_name='tweet_data')\n",
    "tweet_df.head()"
   ]
  },
  {
   "cell_type": "code",
   "execution_count": 19,
   "metadata": {},
   "outputs": [
    {
     "data": {
      "text/html": [
       "<div>\n",
       "<style scoped>\n",
       "    .dataframe tbody tr th:only-of-type {\n",
       "        vertical-align: middle;\n",
       "    }\n",
       "\n",
       "    .dataframe tbody tr th {\n",
       "        vertical-align: top;\n",
       "    }\n",
       "\n",
       "    .dataframe thead th {\n",
       "        text-align: right;\n",
       "    }\n",
       "</style>\n",
       "<table border=\"1\" class=\"dataframe\">\n",
       "  <thead>\n",
       "    <tr style=\"text-align: right;\">\n",
       "      <th></th>\n",
       "      <th>id</th>\n",
       "      <th>id_str</th>\n",
       "      <th>name</th>\n",
       "      <th>screen_name</th>\n",
       "      <th>location</th>\n",
       "      <th>followers_count</th>\n",
       "      <th>friends_count</th>\n",
       "      <th>favourites_count</th>\n",
       "      <th>description</th>\n",
       "      <th>geo_enabled</th>\n",
       "      <th>...</th>\n",
       "      <th>statuses_count</th>\n",
       "      <th>time_zone</th>\n",
       "      <th>created_at</th>\n",
       "      <th>verified</th>\n",
       "      <th>utc_offset</th>\n",
       "      <th>contributors_enabled</th>\n",
       "      <th>listed_count</th>\n",
       "      <th>protected</th>\n",
       "      <th>url</th>\n",
       "      <th>state</th>\n",
       "    </tr>\n",
       "  </thead>\n",
       "  <tbody>\n",
       "    <tr>\n",
       "      <th>0</th>\n",
       "      <td>16202079</td>\n",
       "      <td>16202079</td>\n",
       "      <td>Mary Wade Atteberry</td>\n",
       "      <td>maryatteberry</td>\n",
       "      <td>Indianapolis</td>\n",
       "      <td>138</td>\n",
       "      <td>113</td>\n",
       "      <td>719</td>\n",
       "      <td>Public relations and marketing professional  w...</td>\n",
       "      <td>0</td>\n",
       "      <td>...</td>\n",
       "      <td>1070</td>\n",
       "      <td>Eastern Time (US &amp; Canada)</td>\n",
       "      <td>2008-09-09 13:36:34</td>\n",
       "      <td>0</td>\n",
       "      <td>-18000.0</td>\n",
       "      <td>0</td>\n",
       "      <td>12</td>\n",
       "      <td>0</td>\n",
       "      <td>NaN</td>\n",
       "      <td>Indiana</td>\n",
       "    </tr>\n",
       "    <tr>\n",
       "      <th>1</th>\n",
       "      <td>16251524</td>\n",
       "      <td>16251524</td>\n",
       "      <td>Sara Sanchez-Zweig</td>\n",
       "      <td>shouldbesara</td>\n",
       "      <td>Brooklyn  NY</td>\n",
       "      <td>105</td>\n",
       "      <td>505</td>\n",
       "      <td>610</td>\n",
       "      <td>Chronic renewer of library books. Theater  Per...</td>\n",
       "      <td>1</td>\n",
       "      <td>...</td>\n",
       "      <td>642</td>\n",
       "      <td>Quito</td>\n",
       "      <td>2008-09-12 02:08:03</td>\n",
       "      <td>0</td>\n",
       "      <td>-18000.0</td>\n",
       "      <td>0</td>\n",
       "      <td>1</td>\n",
       "      <td>0</td>\n",
       "      <td>http://lettersfromthemezz.com</td>\n",
       "      <td>NaN</td>\n",
       "    </tr>\n",
       "    <tr>\n",
       "      <th>2</th>\n",
       "      <td>23331412</td>\n",
       "      <td>23331412</td>\n",
       "      <td>Tyler Harrison</td>\n",
       "      <td>JT_Harrison</td>\n",
       "      <td>Wichita  KS</td>\n",
       "      <td>608</td>\n",
       "      <td>1184</td>\n",
       "      <td>1227</td>\n",
       "      <td>Husband  Father. @WSUSportMgmt grad. @Wingnuts...</td>\n",
       "      <td>1</td>\n",
       "      <td>...</td>\n",
       "      <td>5453</td>\n",
       "      <td>Central Time (US &amp; Canada)</td>\n",
       "      <td>2009-03-08 17:42:46</td>\n",
       "      <td>0</td>\n",
       "      <td>-21600.0</td>\n",
       "      <td>0</td>\n",
       "      <td>10</td>\n",
       "      <td>0</td>\n",
       "      <td>NaN</td>\n",
       "      <td>Kansas</td>\n",
       "    </tr>\n",
       "    <tr>\n",
       "      <th>3</th>\n",
       "      <td>24460145</td>\n",
       "      <td>24460145</td>\n",
       "      <td>Spontaneous #1   07</td>\n",
       "      <td>trish_08</td>\n",
       "      <td>Myrtle Beach  SC</td>\n",
       "      <td>418</td>\n",
       "      <td>1424</td>\n",
       "      <td>2762</td>\n",
       "      <td>Educator and mentor..#TealNation  #DeltaSigmaT...</td>\n",
       "      <td>1</td>\n",
       "      <td>...</td>\n",
       "      <td>4466</td>\n",
       "      <td>NaN</td>\n",
       "      <td>2009-03-15 00:47:03</td>\n",
       "      <td>0</td>\n",
       "      <td>NaN</td>\n",
       "      <td>0</td>\n",
       "      <td>0</td>\n",
       "      <td>0</td>\n",
       "      <td>NaN</td>\n",
       "      <td>South Carolina</td>\n",
       "    </tr>\n",
       "    <tr>\n",
       "      <th>4</th>\n",
       "      <td>25812544</td>\n",
       "      <td>25812544</td>\n",
       "      <td>Tanay Modi</td>\n",
       "      <td>tanaymodi1</td>\n",
       "      <td>New York  NY</td>\n",
       "      <td>639</td>\n",
       "      <td>364</td>\n",
       "      <td>4</td>\n",
       "      <td>Sevenoaks   Tufts   Citigroup  Technology Inve...</td>\n",
       "      <td>1</td>\n",
       "      <td>...</td>\n",
       "      <td>9745</td>\n",
       "      <td>Eastern Time (US &amp; Canada)</td>\n",
       "      <td>2009-03-22 12:34:56</td>\n",
       "      <td>0</td>\n",
       "      <td>-18000.0</td>\n",
       "      <td>0</td>\n",
       "      <td>28</td>\n",
       "      <td>0</td>\n",
       "      <td>NaN</td>\n",
       "      <td>Massachusetts</td>\n",
       "    </tr>\n",
       "  </tbody>\n",
       "</table>\n",
       "<p>5 rows × 21 columns</p>\n",
       "</div>"
      ],
      "text/plain": [
       "         id    id_str                 name    screen_name          location  \\\n",
       "0  16202079  16202079  Mary Wade Atteberry  maryatteberry      Indianapolis   \n",
       "1  16251524  16251524   Sara Sanchez-Zweig   shouldbesara      Brooklyn  NY   \n",
       "2  23331412  23331412       Tyler Harrison    JT_Harrison       Wichita  KS   \n",
       "3  24460145  24460145  Spontaneous #1   07       trish_08  Myrtle Beach  SC   \n",
       "4  25812544  25812544           Tanay Modi     tanaymodi1      New York  NY   \n",
       "\n",
       "   followers_count  friends_count  favourites_count  \\\n",
       "0              138            113               719   \n",
       "1              105            505               610   \n",
       "2              608           1184              1227   \n",
       "3              418           1424              2762   \n",
       "4              639            364                 4   \n",
       "\n",
       "                                         description  geo_enabled  \\\n",
       "0  Public relations and marketing professional  w...            0   \n",
       "1  Chronic renewer of library books. Theater  Per...            1   \n",
       "2  Husband  Father. @WSUSportMgmt grad. @Wingnuts...            1   \n",
       "3  Educator and mentor..#TealNation  #DeltaSigmaT...            1   \n",
       "4  Sevenoaks   Tufts   Citigroup  Technology Inve...            1   \n",
       "\n",
       "        ...       statuses_count                   time_zone  \\\n",
       "0       ...                 1070  Eastern Time (US & Canada)   \n",
       "1       ...                  642                       Quito   \n",
       "2       ...                 5453  Central Time (US & Canada)   \n",
       "3       ...                 4466                         NaN   \n",
       "4       ...                 9745  Eastern Time (US & Canada)   \n",
       "\n",
       "           created_at verified  utc_offset  contributors_enabled  \\\n",
       "0 2008-09-09 13:36:34        0    -18000.0                     0   \n",
       "1 2008-09-12 02:08:03        0    -18000.0                     0   \n",
       "2 2009-03-08 17:42:46        0    -21600.0                     0   \n",
       "3 2009-03-15 00:47:03        0         NaN                     0   \n",
       "4 2009-03-22 12:34:56        0    -18000.0                     0   \n",
       "\n",
       "   listed_count  protected                            url           state  \n",
       "0            12          0                            NaN         Indiana  \n",
       "1             1          0  http://lettersfromthemezz.com             NaN  \n",
       "2            10          0                            NaN          Kansas  \n",
       "3             0          0                            NaN  South Carolina  \n",
       "4            28          0                            NaN   Massachusetts  \n",
       "\n",
       "[5 rows x 21 columns]"
      ]
     },
     "execution_count": 19,
     "metadata": {},
     "output_type": "execute_result"
    }
   ],
   "source": [
    "user_df = pd.read_excel(filename, sheet_name='user_data')\n",
    "user_df.head()"
   ]
  },
  {
   "cell_type": "markdown",
   "metadata": {},
   "source": [
    "Now that we have a handful of tweets, we want to merge the tweet data with the user data to append specific user columns to the tweet data. Let's only grab a few columns from each data frame to keep it easy to read. We can select a subset of columns with no other criteria with `dataframe[[list of columns]]`.\n",
    "\n",
    "The `how` parameter of the merge works like a join, defining what rows to keep when there isn't a match in both dataframes. It defaults to an inner join. In this case I want to keep all of the tweets, even if we don't have a user record, so I'm using `how=left` since the first table in the merge (the left one) is the tweet_df.\n",
    "\n",
    "### 2. (cont): Merge using a unique match key."
   ]
  },
  {
   "cell_type": "code",
   "execution_count": 20,
   "metadata": {},
   "outputs": [
    {
     "data": {
      "text/html": [
       "<div>\n",
       "<style scoped>\n",
       "    .dataframe tbody tr th:only-of-type {\n",
       "        vertical-align: middle;\n",
       "    }\n",
       "\n",
       "    .dataframe tbody tr th {\n",
       "        vertical-align: top;\n",
       "    }\n",
       "\n",
       "    .dataframe thead th {\n",
       "        text-align: right;\n",
       "    }\n",
       "</style>\n",
       "<table border=\"1\" class=\"dataframe\">\n",
       "  <thead>\n",
       "    <tr style=\"text-align: right;\">\n",
       "      <th></th>\n",
       "      <th>tweet_id</th>\n",
       "      <th>created_at</th>\n",
       "      <th>user_id</th>\n",
       "      <th>text</th>\n",
       "      <th>id</th>\n",
       "      <th>name</th>\n",
       "      <th>screen_name</th>\n",
       "      <th>followers_count</th>\n",
       "    </tr>\n",
       "  </thead>\n",
       "  <tbody>\n",
       "    <tr>\n",
       "      <th>0</th>\n",
       "      <td>956547739344449024</td>\n",
       "      <td>2018-01-25 15:22:07</td>\n",
       "      <td>923525633036001024</td>\n",
       "      <td>Cant be able to stream awhile ago I m rushing ...</td>\n",
       "      <td>923525633036001024</td>\n",
       "      <td>jeni #RETURN</td>\n",
       "      <td>beimylove</td>\n",
       "      <td>40</td>\n",
       "    </tr>\n",
       "    <tr>\n",
       "      <th>1</th>\n",
       "      <td>956548439587938048</td>\n",
       "      <td>2018-01-25 15:24:54</td>\n",
       "      <td>936985398391208960</td>\n",
       "      <td>RT @afaidd: Im in 40K+ debt... you think Im ju...</td>\n",
       "      <td>936985398391208960</td>\n",
       "      <td>Golovkin</td>\n",
       "      <td>Golovkin0</td>\n",
       "      <td>14</td>\n",
       "    </tr>\n",
       "    <tr>\n",
       "      <th>2</th>\n",
       "      <td>956548440372203008</td>\n",
       "      <td>2018-01-25 15:24:54</td>\n",
       "      <td>374464187</td>\n",
       "      <td>Delighted to have graduated from column to ful...</td>\n",
       "      <td>374464187</td>\n",
       "      <td>Daniel Murray</td>\n",
       "      <td>murraymuzz</td>\n",
       "      <td>5038</td>\n",
       "    </tr>\n",
       "    <tr>\n",
       "      <th>3</th>\n",
       "      <td>956548447393389952</td>\n",
       "      <td>2018-01-25 15:24:56</td>\n",
       "      <td>2866235550</td>\n",
       "      <td>RT @tbhOffice: Scotts Tots: We graduated! Can ...</td>\n",
       "      <td>2866235550</td>\n",
       "      <td>em</td>\n",
       "      <td>garciaemily903</td>\n",
       "      <td>347</td>\n",
       "    </tr>\n",
       "    <tr>\n",
       "      <th>4</th>\n",
       "      <td>956548504327015936</td>\n",
       "      <td>2018-01-25 15:25:09</td>\n",
       "      <td>2723199724</td>\n",
       "      <td>RT @jellsoval: realizing i m gonna graduate wi...</td>\n",
       "      <td>2723199724</td>\n",
       "      <td>dav</td>\n",
       "      <td>damnit_dav</td>\n",
       "      <td>578</td>\n",
       "    </tr>\n",
       "  </tbody>\n",
       "</table>\n",
       "</div>"
      ],
      "text/plain": [
       "             tweet_id          created_at             user_id  \\\n",
       "0  956547739344449024 2018-01-25 15:22:07  923525633036001024   \n",
       "1  956548439587938048 2018-01-25 15:24:54  936985398391208960   \n",
       "2  956548440372203008 2018-01-25 15:24:54           374464187   \n",
       "3  956548447393389952 2018-01-25 15:24:56          2866235550   \n",
       "4  956548504327015936 2018-01-25 15:25:09          2723199724   \n",
       "\n",
       "                                                text                  id  \\\n",
       "0  Cant be able to stream awhile ago I m rushing ...  923525633036001024   \n",
       "1  RT @afaidd: Im in 40K+ debt... you think Im ju...  936985398391208960   \n",
       "2  Delighted to have graduated from column to ful...           374464187   \n",
       "3  RT @tbhOffice: Scotts Tots: We graduated! Can ...          2866235550   \n",
       "4  RT @jellsoval: realizing i m gonna graduate wi...          2723199724   \n",
       "\n",
       "            name     screen_name  followers_count  \n",
       "0   jeni #RETURN       beimylove               40  \n",
       "1       Golovkin       Golovkin0               14  \n",
       "2  Daniel Murray      murraymuzz             5038  \n",
       "3             em  garciaemily903              347  \n",
       "4            dav      damnit_dav              578  "
      ]
     },
     "execution_count": 20,
     "metadata": {},
     "output_type": "execute_result"
    }
   ],
   "source": [
    "merged_tweets = tweet_df[['tweet_id', 'created_at', 'user_id', 'text']].merge(\n",
    "    user_df[['id', 'name','screen_name', 'followers_count']],\n",
    "    left_on='user_id',\n",
    "    right_on='id',\n",
    "    how='left')\n",
    "\n",
    "merged_tweets.head()"
   ]
  },
  {
   "cell_type": "markdown",
   "metadata": {},
   "source": [
    "### 3. Bin a continuous variable into a new variable.\n",
    "Since we have a bunch of users, let's bin their followers_count into equal width bins. This was a new one for me, but there is a handy pandas function for it, similar to R, called [pandas.cut](https://pandas.pydata.org/pandas-docs/stable/generated/pandas.cut.html)"
   ]
  },
  {
   "cell_type": "code",
   "execution_count": 21,
   "metadata": {},
   "outputs": [
    {
     "data": {
      "text/plain": [
       "very_low     198\n",
       "very_high      1\n",
       "high           1\n",
       "medium         0\n",
       "low            0\n",
       "Name: binned_followers, dtype: int64"
      ]
     },
     "execution_count": 21,
     "metadata": {},
     "output_type": "execute_result"
    }
   ],
   "source": [
    "merged_tweets['binned_followers'] = pd.cut(merged_tweets['followers_count'], bins=5, labels = ['very_low',\n",
    "                                                                                               'low',\n",
    "                                                                                               'medium',\n",
    "                                                                                               'high',\n",
    "                                                                                              'very_high'])\n",
    "merged_tweets['binned_followers'].value_counts()"
   ]
  },
  {
   "cell_type": "markdown",
   "metadata": {},
   "source": [
    "### 4. Binning with an equal number of members\n",
    "Cutting the followers_count into equal sized bins wasn't very helpful, since there are two users with so many followers that the ranges become unuseful.  \n",
    "\n",
    "More useful may be to use quartiles. For that, we'll have to calculate the quartiles ahead of time, then pass them into the `cut` function as the `squence of scalars`."
   ]
  },
  {
   "cell_type": "code",
   "execution_count": 22,
   "metadata": {},
   "outputs": [
    {
     "data": {
      "text/plain": [
       "Q1    41\n",
       "Q5    40\n",
       "Q4    40\n",
       "Q3    40\n",
       "Q2    38\n",
       "Name: quartile_followers, dtype: int64"
      ]
     },
     "execution_count": 22,
     "metadata": {},
     "output_type": "execute_result"
    }
   ],
   "source": [
    "bins = 5\n",
    "# use pandas.quantile function and np.linspace to generate the cutoff values for the cut-function.\n",
    "cutoffs = list(merged_tweets['followers_count'].quantile(np.linspace(0,1,bins+1)))\n",
    "\n",
    "# create some labels for our new, binned column\n",
    "labels = ['Q'+str(x) for x in range(1,bins+1)]\n",
    "\n",
    "# cut the data based on the cutoffs\n",
    "merged_tweets['quartile_followers'] = pd.cut(merged_tweets['followers_count'], cutoffs, labels = labels)\n",
    "\n",
    "# check if it worked\n",
    "merged_tweets['quartile_followers'].value_counts()"
   ]
  },
  {
   "cell_type": "markdown",
   "metadata": {},
   "source": [
    "Let's see how that worked out. We'll look at the mean, median and median and standard deviation for each quartile of follower_counts. We can use the groupby function in pandas to get these aggregates."
   ]
  },
  {
   "cell_type": "code",
   "execution_count": 23,
   "metadata": {},
   "outputs": [
    {
     "data": {
      "text/html": [
       "<div>\n",
       "<style scoped>\n",
       "    .dataframe tbody tr th:only-of-type {\n",
       "        vertical-align: middle;\n",
       "    }\n",
       "\n",
       "    .dataframe tbody tr th {\n",
       "        vertical-align: top;\n",
       "    }\n",
       "\n",
       "    .dataframe thead th {\n",
       "        text-align: right;\n",
       "    }\n",
       "</style>\n",
       "<table border=\"1\" class=\"dataframe\">\n",
       "  <thead>\n",
       "    <tr style=\"text-align: right;\">\n",
       "      <th></th>\n",
       "      <th>mean</th>\n",
       "      <th>median</th>\n",
       "      <th>std</th>\n",
       "    </tr>\n",
       "    <tr>\n",
       "      <th>quartile_followers</th>\n",
       "      <th></th>\n",
       "      <th></th>\n",
       "      <th></th>\n",
       "    </tr>\n",
       "  </thead>\n",
       "  <tbody>\n",
       "    <tr>\n",
       "      <th>Q1</th>\n",
       "      <td>113.756098</td>\n",
       "      <td>126.0</td>\n",
       "      <td>65.506404</td>\n",
       "    </tr>\n",
       "    <tr>\n",
       "      <th>Q2</th>\n",
       "      <td>285.315789</td>\n",
       "      <td>291.5</td>\n",
       "      <td>49.215525</td>\n",
       "    </tr>\n",
       "    <tr>\n",
       "      <th>Q3</th>\n",
       "      <td>495.750000</td>\n",
       "      <td>489.5</td>\n",
       "      <td>75.643479</td>\n",
       "    </tr>\n",
       "    <tr>\n",
       "      <th>Q4</th>\n",
       "      <td>810.775000</td>\n",
       "      <td>801.0</td>\n",
       "      <td>135.940501</td>\n",
       "    </tr>\n",
       "    <tr>\n",
       "      <th>Q5</th>\n",
       "      <td>4024.450000</td>\n",
       "      <td>2040.5</td>\n",
       "      <td>7469.608241</td>\n",
       "    </tr>\n",
       "  </tbody>\n",
       "</table>\n",
       "</div>"
      ],
      "text/plain": [
       "                           mean  median          std\n",
       "quartile_followers                                  \n",
       "Q1                   113.756098   126.0    65.506404\n",
       "Q2                   285.315789   291.5    49.215525\n",
       "Q3                   495.750000   489.5    75.643479\n",
       "Q4                   810.775000   801.0   135.940501\n",
       "Q5                  4024.450000  2040.5  7469.608241"
      ]
     },
     "execution_count": 23,
     "metadata": {},
     "output_type": "execute_result"
    }
   ],
   "source": [
    "merged_tweets.groupby('quartile_followers')['followers_count'].agg(['mean', 'median', 'std'])"
   ]
  },
  {
   "cell_type": "markdown",
   "metadata": {},
   "source": [
    "### 5. Create a two way frequency table\n",
    "Back to our classified tweet data, we have different topics (multiple) and we have classification (binary). We can create a two-way frequency table showing the number of each class in each topic. We can use panads.crosstab to get to this result."
   ]
  },
  {
   "cell_type": "code",
   "execution_count": 24,
   "metadata": {},
   "outputs": [
    {
     "data": {
      "text/html": [
       "<div>\n",
       "<style scoped>\n",
       "    .dataframe tbody tr th:only-of-type {\n",
       "        vertical-align: middle;\n",
       "    }\n",
       "\n",
       "    .dataframe tbody tr th {\n",
       "        vertical-align: top;\n",
       "    }\n",
       "\n",
       "    .dataframe thead th {\n",
       "        text-align: right;\n",
       "    }\n",
       "</style>\n",
       "<table border=\"1\" class=\"dataframe\">\n",
       "  <thead>\n",
       "    <tr style=\"text-align: right;\">\n",
       "      <th>class</th>\n",
       "      <th>0</th>\n",
       "      <th>1</th>\n",
       "    </tr>\n",
       "    <tr>\n",
       "      <th>topic</th>\n",
       "      <th></th>\n",
       "      <th></th>\n",
       "    </tr>\n",
       "  </thead>\n",
       "  <tbody>\n",
       "    <tr>\n",
       "      <th>Birth</th>\n",
       "      <td>172</td>\n",
       "      <td>27</td>\n",
       "    </tr>\n",
       "    <tr>\n",
       "      <th>Divorce</th>\n",
       "      <td>213</td>\n",
       "      <td>13</td>\n",
       "    </tr>\n",
       "    <tr>\n",
       "      <th>Graduation</th>\n",
       "      <td>149</td>\n",
       "      <td>77</td>\n",
       "    </tr>\n",
       "    <tr>\n",
       "      <th>Marriage</th>\n",
       "      <td>196</td>\n",
       "      <td>45</td>\n",
       "    </tr>\n",
       "    <tr>\n",
       "      <th>Moving</th>\n",
       "      <td>196</td>\n",
       "      <td>44</td>\n",
       "    </tr>\n",
       "  </tbody>\n",
       "</table>\n",
       "</div>"
      ],
      "text/plain": [
       "class         0   1\n",
       "topic              \n",
       "Birth       172  27\n",
       "Divorce     213  13\n",
       "Graduation  149  77\n",
       "Marriage    196  45\n",
       "Moving      196  44"
      ]
     },
     "execution_count": 24,
     "metadata": {},
     "output_type": "execute_result"
    }
   ],
   "source": [
    "two_way = pd.crosstab(t_data['topic'],t_data['class'])\n",
    "two_way"
   ]
  },
  {
   "cell_type": "markdown",
   "metadata": {},
   "source": [
    "You can also use the pivot_table function to get to the same results."
   ]
  },
  {
   "cell_type": "code",
   "execution_count": 25,
   "metadata": {},
   "outputs": [],
   "source": [
    "two_way_pivot = t_data.pivot_table(index='topic', columns = 'class', aggfunc=len)"
   ]
  },
  {
   "cell_type": "markdown",
   "metadata": {},
   "source": [
    "Both of these results have a multi-part index, making it a little complicated to subset the results. Since it has a multiple index, you have to pass values or criteria for both components of the index."
   ]
  },
  {
   "cell_type": "code",
   "execution_count": 26,
   "metadata": {},
   "outputs": [
    {
     "data": {
      "text/html": [
       "<div>\n",
       "<style scoped>\n",
       "    .dataframe tbody tr th:only-of-type {\n",
       "        vertical-align: middle;\n",
       "    }\n",
       "\n",
       "    .dataframe tbody tr th {\n",
       "        vertical-align: top;\n",
       "    }\n",
       "\n",
       "    .dataframe thead th {\n",
       "        text-align: right;\n",
       "    }\n",
       "</style>\n",
       "<table border=\"1\" class=\"dataframe\">\n",
       "  <thead>\n",
       "    <tr style=\"text-align: right;\">\n",
       "      <th>class</th>\n",
       "      <th>0</th>\n",
       "      <th>1</th>\n",
       "    </tr>\n",
       "    <tr>\n",
       "      <th>topic</th>\n",
       "      <th></th>\n",
       "      <th></th>\n",
       "    </tr>\n",
       "  </thead>\n",
       "  <tbody>\n",
       "    <tr>\n",
       "      <th>Marriage</th>\n",
       "      <td>196</td>\n",
       "      <td>45</td>\n",
       "    </tr>\n",
       "    <tr>\n",
       "      <th>Moving</th>\n",
       "      <td>196</td>\n",
       "      <td>44</td>\n",
       "    </tr>\n",
       "  </tbody>\n",
       "</table>\n",
       "</div>"
      ],
      "text/plain": [
       "class       0   1\n",
       "topic            \n",
       "Marriage  196  45\n",
       "Moving    196  44"
      ]
     },
     "execution_count": 26,
     "metadata": {},
     "output_type": "execute_result"
    }
   ],
   "source": [
    "two_way.loc[(['Marriage','Moving'],[0,1])]"
   ]
  },
  {
   "cell_type": "code",
   "execution_count": 27,
   "metadata": {},
   "outputs": [
    {
     "data": {
      "text/html": [
       "<div>\n",
       "<style scoped>\n",
       "    .dataframe tbody tr th:only-of-type {\n",
       "        vertical-align: middle;\n",
       "    }\n",
       "\n",
       "    .dataframe tbody tr th {\n",
       "        vertical-align: top;\n",
       "    }\n",
       "\n",
       "    .dataframe thead tr th {\n",
       "        text-align: left;\n",
       "    }\n",
       "\n",
       "    .dataframe thead tr:last-of-type th {\n",
       "        text-align: right;\n",
       "    }\n",
       "</style>\n",
       "<table border=\"1\" class=\"dataframe\">\n",
       "  <thead>\n",
       "    <tr>\n",
       "      <th></th>\n",
       "      <th colspan=\"2\" halign=\"left\">text</th>\n",
       "    </tr>\n",
       "    <tr>\n",
       "      <th>class</th>\n",
       "      <th>0</th>\n",
       "      <th>1</th>\n",
       "    </tr>\n",
       "    <tr>\n",
       "      <th>topic</th>\n",
       "      <th></th>\n",
       "      <th></th>\n",
       "    </tr>\n",
       "  </thead>\n",
       "  <tbody>\n",
       "    <tr>\n",
       "      <th>Marriage</th>\n",
       "      <td>196</td>\n",
       "      <td>45</td>\n",
       "    </tr>\n",
       "    <tr>\n",
       "      <th>Moving</th>\n",
       "      <td>196</td>\n",
       "      <td>44</td>\n",
       "    </tr>\n",
       "  </tbody>\n",
       "</table>\n",
       "</div>"
      ],
      "text/plain": [
       "         text    \n",
       "class       0   1\n",
       "topic            \n",
       "Marriage  196  45\n",
       "Moving    196  44"
      ]
     },
     "execution_count": 27,
     "metadata": {},
     "output_type": "execute_result"
    }
   ],
   "source": [
    "two_way_pivot.loc[['Marriage','Moving']]"
   ]
  },
  {
   "cell_type": "markdown",
   "metadata": {},
   "source": [
    "This pivot approach seems to be more difficult to subset, as doesn't like my second part of the index."
   ]
  },
  {
   "cell_type": "markdown",
   "metadata": {},
   "source": [
    "### Chi-Squared independence test, statistic and p-value\n",
    "[Scipy](https://docs.scipy.org/doc/scipy-0.15.1/reference/generated/scipy.stats.chi2_contingency.html) has a good function for this. We can subset the crosstab to only grab the 0 and 1 columns and use that as our contingency table. The results from this function are, in order:\n",
    "* chi2 : float, The test statistic.\n",
    "* p : float, The p-value of the test\n",
    "* dof : int, Degrees of freedom\n",
    "* expected : ndarray, same shape as observed, The expected frequencies, based on the marginal sums of the table."
   ]
  },
  {
   "cell_type": "code",
   "execution_count": 28,
   "metadata": {},
   "outputs": [],
   "source": [
    "chi2 = chi2_contingency(two_way[[0,1]])"
   ]
  },
  {
   "cell_type": "code",
   "execution_count": 29,
   "metadata": {},
   "outputs": [
    {
     "data": {
      "text/plain": [
       "(64.6713594960832,\n",
       " 3.0178804528059226e-13,\n",
       " 4,\n",
       " array([[162.78621908,  36.21378092],\n",
       "        [184.87279152,  41.12720848],\n",
       "        [184.87279152,  41.12720848],\n",
       "        [197.14310954,  43.85689046],\n",
       "        [196.32508834,  43.67491166]]))"
      ]
     },
     "execution_count": 29,
     "metadata": {},
     "output_type": "execute_result"
    }
   ],
   "source": [
    "chi2"
   ]
  },
  {
   "cell_type": "markdown",
   "metadata": {},
   "source": [
    "### 6. How to generate a summary of interval/continuous/numeric variables including\n",
    "* Basic statistics like the mean, median, percentiles, standard deviation, etc.\n",
    "* Confidence intervals around the mean\n",
    "\n",
    "A quick way to get to some of this information is with the `describe` function on a dataframe. By default, this will only describe numeric variables:"
   ]
  },
  {
   "cell_type": "code",
   "execution_count": 30,
   "metadata": {},
   "outputs": [
    {
     "data": {
      "text/html": [
       "<div>\n",
       "<style scoped>\n",
       "    .dataframe tbody tr th:only-of-type {\n",
       "        vertical-align: middle;\n",
       "    }\n",
       "\n",
       "    .dataframe tbody tr th {\n",
       "        vertical-align: top;\n",
       "    }\n",
       "\n",
       "    .dataframe thead th {\n",
       "        text-align: right;\n",
       "    }\n",
       "</style>\n",
       "<table border=\"1\" class=\"dataframe\">\n",
       "  <thead>\n",
       "    <tr style=\"text-align: right;\">\n",
       "      <th></th>\n",
       "      <th>tweet_id</th>\n",
       "      <th>user_id</th>\n",
       "      <th>id</th>\n",
       "      <th>followers_count</th>\n",
       "    </tr>\n",
       "  </thead>\n",
       "  <tbody>\n",
       "    <tr>\n",
       "      <th>count</th>\n",
       "      <td>2.000000e+02</td>\n",
       "      <td>2.000000e+02</td>\n",
       "      <td>2.000000e+02</td>\n",
       "      <td>200.00000</td>\n",
       "    </tr>\n",
       "    <tr>\n",
       "      <th>mean</th>\n",
       "      <td>9.565760e+17</td>\n",
       "      <td>1.261988e+17</td>\n",
       "      <td>1.261988e+17</td>\n",
       "      <td>1143.74000</td>\n",
       "    </tr>\n",
       "    <tr>\n",
       "      <th>std</th>\n",
       "      <td>1.091912e+14</td>\n",
       "      <td>3.026004e+17</td>\n",
       "      <td>3.026004e+17</td>\n",
       "      <td>3616.80929</td>\n",
       "    </tr>\n",
       "    <tr>\n",
       "      <th>min</th>\n",
       "      <td>9.565477e+17</td>\n",
       "      <td>1.620208e+07</td>\n",
       "      <td>1.620208e+07</td>\n",
       "      <td>3.00000</td>\n",
       "    </tr>\n",
       "    <tr>\n",
       "      <th>25%</th>\n",
       "      <td>9.565582e+17</td>\n",
       "      <td>3.915452e+08</td>\n",
       "      <td>3.915452e+08</td>\n",
       "      <td>231.75000</td>\n",
       "    </tr>\n",
       "    <tr>\n",
       "      <th>50%</th>\n",
       "      <td>9.565735e+17</td>\n",
       "      <td>1.599265e+09</td>\n",
       "      <td>1.599265e+09</td>\n",
       "      <td>489.50000</td>\n",
       "    </tr>\n",
       "    <tr>\n",
       "      <th>75%</th>\n",
       "      <td>9.565759e+17</td>\n",
       "      <td>3.177317e+09</td>\n",
       "      <td>3.177317e+09</td>\n",
       "      <td>911.25000</td>\n",
       "    </tr>\n",
       "    <tr>\n",
       "      <th>max</th>\n",
       "      <td>9.581059e+17</td>\n",
       "      <td>9.560236e+17</td>\n",
       "      <td>9.560236e+17</td>\n",
       "      <td>40275.00000</td>\n",
       "    </tr>\n",
       "  </tbody>\n",
       "</table>\n",
       "</div>"
      ],
      "text/plain": [
       "           tweet_id       user_id            id  followers_count\n",
       "count  2.000000e+02  2.000000e+02  2.000000e+02        200.00000\n",
       "mean   9.565760e+17  1.261988e+17  1.261988e+17       1143.74000\n",
       "std    1.091912e+14  3.026004e+17  3.026004e+17       3616.80929\n",
       "min    9.565477e+17  1.620208e+07  1.620208e+07          3.00000\n",
       "25%    9.565582e+17  3.915452e+08  3.915452e+08        231.75000\n",
       "50%    9.565735e+17  1.599265e+09  1.599265e+09        489.50000\n",
       "75%    9.565759e+17  3.177317e+09  3.177317e+09        911.25000\n",
       "max    9.581059e+17  9.560236e+17  9.560236e+17      40275.00000"
      ]
     },
     "execution_count": 30,
     "metadata": {},
     "output_type": "execute_result"
    }
   ],
   "source": [
    "merged_tweets.describe()"
   ]
  },
  {
   "cell_type": "markdown",
   "metadata": {},
   "source": [
    "If we add `include='all'` we'll get descriptive date on the rest of the columns, with a bunch of 'NaN' for irrelevant statistics."
   ]
  },
  {
   "cell_type": "code",
   "execution_count": 31,
   "metadata": {},
   "outputs": [
    {
     "data": {
      "text/html": [
       "<div>\n",
       "<style scoped>\n",
       "    .dataframe tbody tr th:only-of-type {\n",
       "        vertical-align: middle;\n",
       "    }\n",
       "\n",
       "    .dataframe tbody tr th {\n",
       "        vertical-align: top;\n",
       "    }\n",
       "\n",
       "    .dataframe thead th {\n",
       "        text-align: right;\n",
       "    }\n",
       "</style>\n",
       "<table border=\"1\" class=\"dataframe\">\n",
       "  <thead>\n",
       "    <tr style=\"text-align: right;\">\n",
       "      <th></th>\n",
       "      <th>tweet_id</th>\n",
       "      <th>created_at</th>\n",
       "      <th>user_id</th>\n",
       "      <th>text</th>\n",
       "      <th>id</th>\n",
       "      <th>name</th>\n",
       "      <th>screen_name</th>\n",
       "      <th>followers_count</th>\n",
       "      <th>binned_followers</th>\n",
       "      <th>quartile_followers</th>\n",
       "    </tr>\n",
       "  </thead>\n",
       "  <tbody>\n",
       "    <tr>\n",
       "      <th>count</th>\n",
       "      <td>2.000000e+02</td>\n",
       "      <td>200</td>\n",
       "      <td>2.000000e+02</td>\n",
       "      <td>200</td>\n",
       "      <td>2.000000e+02</td>\n",
       "      <td>196</td>\n",
       "      <td>200</td>\n",
       "      <td>200.00000</td>\n",
       "      <td>200</td>\n",
       "      <td>199</td>\n",
       "    </tr>\n",
       "    <tr>\n",
       "      <th>unique</th>\n",
       "      <td>NaN</td>\n",
       "      <td>191</td>\n",
       "      <td>NaN</td>\n",
       "      <td>100</td>\n",
       "      <td>NaN</td>\n",
       "      <td>194</td>\n",
       "      <td>200</td>\n",
       "      <td>NaN</td>\n",
       "      <td>3</td>\n",
       "      <td>5</td>\n",
       "    </tr>\n",
       "    <tr>\n",
       "      <th>top</th>\n",
       "      <td>NaN</td>\n",
       "      <td>2018-01-25 15:24:54</td>\n",
       "      <td>NaN</td>\n",
       "      <td>RT @tbhOffice: Scotts Tots: We graduated! Can ...</td>\n",
       "      <td>NaN</td>\n",
       "      <td>.</td>\n",
       "      <td>nowayjose101</td>\n",
       "      <td>NaN</td>\n",
       "      <td>very_low</td>\n",
       "      <td>Q1</td>\n",
       "    </tr>\n",
       "    <tr>\n",
       "      <th>freq</th>\n",
       "      <td>NaN</td>\n",
       "      <td>2</td>\n",
       "      <td>NaN</td>\n",
       "      <td>56</td>\n",
       "      <td>NaN</td>\n",
       "      <td>2</td>\n",
       "      <td>1</td>\n",
       "      <td>NaN</td>\n",
       "      <td>198</td>\n",
       "      <td>41</td>\n",
       "    </tr>\n",
       "    <tr>\n",
       "      <th>first</th>\n",
       "      <td>NaN</td>\n",
       "      <td>2018-01-25 15:22:07</td>\n",
       "      <td>NaN</td>\n",
       "      <td>NaN</td>\n",
       "      <td>NaN</td>\n",
       "      <td>NaN</td>\n",
       "      <td>NaN</td>\n",
       "      <td>NaN</td>\n",
       "      <td>NaN</td>\n",
       "      <td>NaN</td>\n",
       "    </tr>\n",
       "    <tr>\n",
       "      <th>last</th>\n",
       "      <td>NaN</td>\n",
       "      <td>2018-01-29 22:33:53</td>\n",
       "      <td>NaN</td>\n",
       "      <td>NaN</td>\n",
       "      <td>NaN</td>\n",
       "      <td>NaN</td>\n",
       "      <td>NaN</td>\n",
       "      <td>NaN</td>\n",
       "      <td>NaN</td>\n",
       "      <td>NaN</td>\n",
       "    </tr>\n",
       "    <tr>\n",
       "      <th>mean</th>\n",
       "      <td>9.565760e+17</td>\n",
       "      <td>NaN</td>\n",
       "      <td>1.261988e+17</td>\n",
       "      <td>NaN</td>\n",
       "      <td>1.261988e+17</td>\n",
       "      <td>NaN</td>\n",
       "      <td>NaN</td>\n",
       "      <td>1143.74000</td>\n",
       "      <td>NaN</td>\n",
       "      <td>NaN</td>\n",
       "    </tr>\n",
       "    <tr>\n",
       "      <th>std</th>\n",
       "      <td>1.091912e+14</td>\n",
       "      <td>NaN</td>\n",
       "      <td>3.026004e+17</td>\n",
       "      <td>NaN</td>\n",
       "      <td>3.026004e+17</td>\n",
       "      <td>NaN</td>\n",
       "      <td>NaN</td>\n",
       "      <td>3616.80929</td>\n",
       "      <td>NaN</td>\n",
       "      <td>NaN</td>\n",
       "    </tr>\n",
       "    <tr>\n",
       "      <th>min</th>\n",
       "      <td>9.565477e+17</td>\n",
       "      <td>NaN</td>\n",
       "      <td>1.620208e+07</td>\n",
       "      <td>NaN</td>\n",
       "      <td>1.620208e+07</td>\n",
       "      <td>NaN</td>\n",
       "      <td>NaN</td>\n",
       "      <td>3.00000</td>\n",
       "      <td>NaN</td>\n",
       "      <td>NaN</td>\n",
       "    </tr>\n",
       "    <tr>\n",
       "      <th>25%</th>\n",
       "      <td>9.565582e+17</td>\n",
       "      <td>NaN</td>\n",
       "      <td>3.915452e+08</td>\n",
       "      <td>NaN</td>\n",
       "      <td>3.915452e+08</td>\n",
       "      <td>NaN</td>\n",
       "      <td>NaN</td>\n",
       "      <td>231.75000</td>\n",
       "      <td>NaN</td>\n",
       "      <td>NaN</td>\n",
       "    </tr>\n",
       "    <tr>\n",
       "      <th>50%</th>\n",
       "      <td>9.565735e+17</td>\n",
       "      <td>NaN</td>\n",
       "      <td>1.599265e+09</td>\n",
       "      <td>NaN</td>\n",
       "      <td>1.599265e+09</td>\n",
       "      <td>NaN</td>\n",
       "      <td>NaN</td>\n",
       "      <td>489.50000</td>\n",
       "      <td>NaN</td>\n",
       "      <td>NaN</td>\n",
       "    </tr>\n",
       "    <tr>\n",
       "      <th>75%</th>\n",
       "      <td>9.565759e+17</td>\n",
       "      <td>NaN</td>\n",
       "      <td>3.177317e+09</td>\n",
       "      <td>NaN</td>\n",
       "      <td>3.177317e+09</td>\n",
       "      <td>NaN</td>\n",
       "      <td>NaN</td>\n",
       "      <td>911.25000</td>\n",
       "      <td>NaN</td>\n",
       "      <td>NaN</td>\n",
       "    </tr>\n",
       "    <tr>\n",
       "      <th>max</th>\n",
       "      <td>9.581059e+17</td>\n",
       "      <td>NaN</td>\n",
       "      <td>9.560236e+17</td>\n",
       "      <td>NaN</td>\n",
       "      <td>9.560236e+17</td>\n",
       "      <td>NaN</td>\n",
       "      <td>NaN</td>\n",
       "      <td>40275.00000</td>\n",
       "      <td>NaN</td>\n",
       "      <td>NaN</td>\n",
       "    </tr>\n",
       "  </tbody>\n",
       "</table>\n",
       "</div>"
      ],
      "text/plain": [
       "            tweet_id           created_at       user_id  \\\n",
       "count   2.000000e+02                  200  2.000000e+02   \n",
       "unique           NaN                  191           NaN   \n",
       "top              NaN  2018-01-25 15:24:54           NaN   \n",
       "freq             NaN                    2           NaN   \n",
       "first            NaN  2018-01-25 15:22:07           NaN   \n",
       "last             NaN  2018-01-29 22:33:53           NaN   \n",
       "mean    9.565760e+17                  NaN  1.261988e+17   \n",
       "std     1.091912e+14                  NaN  3.026004e+17   \n",
       "min     9.565477e+17                  NaN  1.620208e+07   \n",
       "25%     9.565582e+17                  NaN  3.915452e+08   \n",
       "50%     9.565735e+17                  NaN  1.599265e+09   \n",
       "75%     9.565759e+17                  NaN  3.177317e+09   \n",
       "max     9.581059e+17                  NaN  9.560236e+17   \n",
       "\n",
       "                                                     text            id name  \\\n",
       "count                                                 200  2.000000e+02  196   \n",
       "unique                                                100           NaN  194   \n",
       "top     RT @tbhOffice: Scotts Tots: We graduated! Can ...           NaN    .   \n",
       "freq                                                   56           NaN    2   \n",
       "first                                                 NaN           NaN  NaN   \n",
       "last                                                  NaN           NaN  NaN   \n",
       "mean                                                  NaN  1.261988e+17  NaN   \n",
       "std                                                   NaN  3.026004e+17  NaN   \n",
       "min                                                   NaN  1.620208e+07  NaN   \n",
       "25%                                                   NaN  3.915452e+08  NaN   \n",
       "50%                                                   NaN  1.599265e+09  NaN   \n",
       "75%                                                   NaN  3.177317e+09  NaN   \n",
       "max                                                   NaN  9.560236e+17  NaN   \n",
       "\n",
       "         screen_name  followers_count binned_followers quartile_followers  \n",
       "count            200        200.00000              200                199  \n",
       "unique           200              NaN                3                  5  \n",
       "top     nowayjose101              NaN         very_low                 Q1  \n",
       "freq               1              NaN              198                 41  \n",
       "first            NaN              NaN              NaN                NaN  \n",
       "last             NaN              NaN              NaN                NaN  \n",
       "mean             NaN       1143.74000              NaN                NaN  \n",
       "std              NaN       3616.80929              NaN                NaN  \n",
       "min              NaN          3.00000              NaN                NaN  \n",
       "25%              NaN        231.75000              NaN                NaN  \n",
       "50%              NaN        489.50000              NaN                NaN  \n",
       "75%              NaN        911.25000              NaN                NaN  \n",
       "max              NaN      40275.00000              NaN                NaN  "
      ]
     },
     "execution_count": 31,
     "metadata": {},
     "output_type": "execute_result"
    }
   ],
   "source": [
    "merged_tweets.describe(include='all')"
   ]
  },
  {
   "cell_type": "markdown",
   "metadata": {},
   "source": [
    "Since this gives you the standard deviation for numeric fields, you can use that to create confidence intervals as needed. Here's how you can pull values out of this function - let's say we want the standard deviation for the followers_count:"
   ]
  },
  {
   "cell_type": "code",
   "execution_count": 32,
   "metadata": {},
   "outputs": [
    {
     "data": {
      "text/plain": [
       "3616.809289912587"
      ]
     },
     "execution_count": 32,
     "metadata": {},
     "output_type": "execute_result"
    }
   ],
   "source": [
    "# set the description to a data frame variable, then pull the value as a subset\n",
    "desc = merged_tweets.describe(include='all')\n",
    "desc.loc['std','followers_count']"
   ]
  },
  {
   "cell_type": "code",
   "execution_count": 33,
   "metadata": {},
   "outputs": [
    {
     "data": {
      "text/plain": [
       "3616.809289912587"
      ]
     },
     "execution_count": 33,
     "metadata": {},
     "output_type": "execute_result"
    }
   ],
   "source": [
    "# or call the function and pull the value directly from the results, if there's no other need for that data.\n",
    "merged_tweets.describe().loc['std','followers_count']"
   ]
  },
  {
   "cell_type": "code",
   "execution_count": 34,
   "metadata": {},
   "outputs": [
    {
     "data": {
      "text/plain": [
       "3616.809289912587"
      ]
     },
     "execution_count": 34,
     "metadata": {},
     "output_type": "execute_result"
    }
   ],
   "source": [
    "# Double checking that it's right using the standard deviation function (std)\n",
    "merged_tweets['followers_count'].std()"
   ]
  },
  {
   "cell_type": "code",
   "execution_count": null,
   "metadata": {},
   "outputs": [],
   "source": []
  }
 ],
 "metadata": {
  "kernelspec": {
   "display_name": "Python 3",
   "language": "python",
   "name": "python3"
  },
  "language_info": {
   "codemirror_mode": {
    "name": "ipython",
    "version": 3
   },
   "file_extension": ".py",
   "mimetype": "text/x-python",
   "name": "python",
   "nbconvert_exporter": "python",
   "pygments_lexer": "ipython3",
   "version": "3.6.4"
  }
 },
 "nbformat": 4,
 "nbformat_minor": 2
}
