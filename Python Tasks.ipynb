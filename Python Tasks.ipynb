{
 "cells": [
  {
   "cell_type": "markdown",
   "metadata": {},
   "source": [
    "# Python Tasks\n",
    "This notebook will demonstrate how to accomplish each of the tasks that Bob sent over as a starting point for working in the new Thrivent environment. They cover the following areas:\n",
    "* Reading/Writing files - xlsx, csv\n",
    "* Subsetting and merging data frames\n",
    "* Adding calculated columns\n",
    "* Basic statistics\n",
    "* Plotting\n",
    "* Modeling\n",
    "\n",
    "### Load Packages"
   ]
  },
  {
   "cell_type": "code",
   "execution_count": 1,
   "metadata": {},
   "outputs": [],
   "source": [
    "import pandas as pd # for data frames, reading and writing data\n",
    "from matplotlib import pyplot as plt\n",
    "from sklearn.decomposition import PCA\n",
    "import psycopg2 # for connecting to a postgres database\n",
    "import numpy as np # using this to create a range of floats\n",
    "from math import sqrt\n",
    "\n",
    "from scipy.stats import chi2_contingency, ks_2samp\n",
    "\n",
    "\n",
    "# the next line is so that the matplot lib plots show up in the notebook cell\n",
    "%matplotlib inline"
   ]
  },
  {
   "cell_type": "markdown",
   "metadata": {},
   "source": [
    "## Load Data from a Database\n",
    "We'll use some data from the Twitter work we've been doing for most of the analysis. I'll start by pulling data from our Postgres database on AWS. You cannot connect to this database without someone adding your IP address to the security group on AWS, but this will show you how to pull data from a database.\n",
    "\n",
    "I'll pull 200 tweets from each topic to get a good mix. I'll pull each into a pandas DataFrame and merge them all together. Finally, I'll save them to Excel for the sample data for you to use. \n",
    "\n",
    "BEWARE - when pulling twitter ids (or any very large integers) into Excel, Excel tends to round them ton 15 places, losing 3 digits and making joins and merges break.\n",
    "\n",
    "NOTE: I'm commenting all of this database stuff out, since you won't be able to connect anyway. Leaving the cells for my reference and yours, so you can see how database connections work with pandas."
   ]
  },
  {
   "cell_type": "code",
   "execution_count": 2,
   "metadata": {},
   "outputs": [],
   "source": [
    "# # Database Connection parapeters\n",
    "# hostname = 'ditwitter.c6rgtnn1vfuu.us-east-1.rds.amazonaws.com'\n",
    "# username = 'ditwitter_sa'\n",
    "# pwd = 'ThriventTwitter'\n",
    "# database = 'ditwitter'\n",
    "\n",
    "# # Connect\n",
    "# conn = psycopg2.connect( host=hostname, user=username, password=pwd, dbname=database )"
   ]
  },
  {
   "cell_type": "code",
   "execution_count": 3,
   "metadata": {},
   "outputs": [],
   "source": [
    "# # First let's get a list of topics:\n",
    "# SQL = \"\"\"SELECT DISTINCT topics.* \n",
    "#         FROM topics\n",
    "#         INNER JOIN models ON md_tp_id = tp_id\"\"\"\n",
    "\n",
    "# topics_df = pd.read_sql(SQL, con=conn)\n",
    "# topics_df"
   ]
  },
  {
   "cell_type": "markdown",
   "metadata": {},
   "source": [
    "### Tweet Data"
   ]
  },
  {
   "cell_type": "code",
   "execution_count": 4,
   "metadata": {},
   "outputs": [],
   "source": [
    "# # Create an empty data frame too hold the tweets we're going to collect\n",
    "# tweets_df = pd.DataFrame()\n",
    "\n",
    "# # Loop through all the active topics and grab a block of tweets, then merge with the tweets_df\n",
    "# block_size = 200\n",
    "\n",
    "# for tp_id in topics_df['tp_id']:\n",
    "#     SQL = \"\"\"SELECT t.*, tp_name \n",
    "#     FROM tweets t\n",
    "#     INNER JOIN tweet_scores ts ON ts.ts_tweet_id = t.tweet_id\n",
    "#     INNER JOIN models m ON m.md_id = ts.ts_md_id\n",
    "#     INNER JOIN topics tp ON tp.tp_id = m.md_tp_id\n",
    "#     WHERE tp_id = {}\n",
    "#     LIMIT {}\"\"\".format(tp_id, block_size)\n",
    "    \n",
    "#     tweet_block = pd.read_sql(SQL, conn)\n",
    "# #     print(\"pulled {} for topic_id: {}.\".format(len(tweet_block), tp_id))\n",
    "#     tweets_df = tweets_df.append(tweet_block)\n",
    "\n",
    "# tweets_df.head()"
   ]
  },
  {
   "cell_type": "markdown",
   "metadata": {},
   "source": [
    "### User Data\n",
    "Let's pull the user data for all of these records. To do that, we'll need to build a \"WHERE\" clause that has all the unique user_ids from our tweets dataframe. We'll need to convert the values to strings, then separate them by commas. "
   ]
  },
  {
   "cell_type": "code",
   "execution_count": 5,
   "metadata": {},
   "outputs": [],
   "source": [
    "# # Build the list of user_ids\n",
    "# sep = ','\n",
    "# users_string = sep.join(tweets_df['user_id'].astype(str))\n",
    "\n",
    "# SQL = \"SELECT * FROM users WHERE id in ({})\".format(users_string)\n",
    "# users_df = pd.read_sql(SQL, conn)\n",
    "# print(len(users_df))\n",
    "# users_df.head()"
   ]
  },
  {
   "cell_type": "markdown",
   "metadata": {},
   "source": [
    "## Save to Excel\n",
    "Now that I've pulled the data for the examples, I'll save it to Excel for easy distribution. This is where we have to do something to get around the Excel string conversion issue. We don't care about tweet_ids, but we DO care about user_ids, since that's the field that we'll later join these two datasets on. To avoid the conversion issue, we'll add a column to the tweets_data that converts the user_id to string. We already have this column in the user data as `id_str`.\n",
    "\n",
    "*NOTE: I've commented out the save-to-excel code, since I've since added other data to the sample_data.xlsx file that I don't want overwritten. Leaving it in here for reference.*"
   ]
  },
  {
   "cell_type": "code",
   "execution_count": 6,
   "metadata": {},
   "outputs": [],
   "source": [
    "# tweets_df['user_id_str'] = tweets_df['user_id'].astype(str)"
   ]
  },
  {
   "cell_type": "code",
   "execution_count": 7,
   "metadata": {},
   "outputs": [],
   "source": [
    "# Create a Pandas Excel writer using XlsxWriter as the engine.\n",
    "# writer = pd.ExcelWriter('sample_data.xlsx', engine='xlsxwriter')\n",
    "\n",
    "# # Write each dataframe to a different worksheet.\n",
    "# tweets_df.to_excel(writer, sheet_name='tweet_data', index=False)\n",
    "# users_df.to_excel(writer, sheet_name='user_data', index=False)\n",
    "# writer.save()"
   ]
  },
  {
   "cell_type": "markdown",
   "metadata": {},
   "source": [
    "\n",
    "### 0. Read Data from Excel\n",
    "I'm using pandas to read in the data file from excel. If the file is located in the same directory as the notebook, this will work. Otherwise, add the path to the file to the filename. Pandas will automatically infer data types, column numbers and rownumbers from the data. There are quite a few different arguments that you can pass to this function to control what is loaded and how. The following cell will bring up the docstring for this function that has explanations for all of the options."
   ]
  },
  {
   "cell_type": "code",
   "execution_count": 8,
   "metadata": {},
   "outputs": [
    {
     "data": {
      "text/html": [
       "<div>\n",
       "<style scoped>\n",
       "    .dataframe tbody tr th:only-of-type {\n",
       "        vertical-align: middle;\n",
       "    }\n",
       "\n",
       "    .dataframe tbody tr th {\n",
       "        vertical-align: top;\n",
       "    }\n",
       "\n",
       "    .dataframe thead th {\n",
       "        text-align: right;\n",
       "    }\n",
       "</style>\n",
       "<table border=\"1\" class=\"dataframe\">\n",
       "  <thead>\n",
       "    <tr style=\"text-align: right;\">\n",
       "      <th></th>\n",
       "      <th>text</th>\n",
       "      <th>class</th>\n",
       "      <th>topic</th>\n",
       "    </tr>\n",
       "  </thead>\n",
       "  <tbody>\n",
       "    <tr>\n",
       "      <th>0</th>\n",
       "      <td>You remind me of my BimmerSee your ignition  b...</td>\n",
       "      <td>0</td>\n",
       "      <td>Birth</td>\n",
       "    </tr>\n",
       "    <tr>\n",
       "      <th>1</th>\n",
       "      <td>RT @JaDineNATION: Were so excited for our dese...</td>\n",
       "      <td>0</td>\n",
       "      <td>Birth</td>\n",
       "    </tr>\n",
       "    <tr>\n",
       "      <th>2</th>\n",
       "      <td>i always get super self conscious about keepin...</td>\n",
       "      <td>0</td>\n",
       "      <td>Birth</td>\n",
       "    </tr>\n",
       "    <tr>\n",
       "      <th>3</th>\n",
       "      <td>@Juhhhhhhnelle Weird ass bitch lucky Im pregna...</td>\n",
       "      <td>1</td>\n",
       "      <td>Birth</td>\n",
       "    </tr>\n",
       "    <tr>\n",
       "      <th>4</th>\n",
       "      <td>RT @thdmichaelbell: New Signage above our Fron...</td>\n",
       "      <td>0</td>\n",
       "      <td>Birth</td>\n",
       "    </tr>\n",
       "  </tbody>\n",
       "</table>\n",
       "</div>"
      ],
      "text/plain": [
       "                                                text  class  topic\n",
       "0  You remind me of my BimmerSee your ignition  b...      0  Birth\n",
       "1  RT @JaDineNATION: Were so excited for our dese...      0  Birth\n",
       "2  i always get super self conscious about keepin...      0  Birth\n",
       "3  @Juhhhhhhnelle Weird ass bitch lucky Im pregna...      1  Birth\n",
       "4  RT @thdmichaelbell: New Signage above our Fron...      0  Birth"
      ]
     },
     "execution_count": 8,
     "metadata": {},
     "output_type": "execute_result"
    }
   ],
   "source": [
    "filename = 'sample_data.xlsx'\n",
    "t_data = pd.read_excel(filename, sheet_name='tweets_classified')\n",
    "t_data.head()"
   ]
  },
  {
   "cell_type": "markdown",
   "metadata": {},
   "source": [
    "### 1. Export dataframe to tab delimited file\n",
    "Now that we have some data to work with, we can export it to a tab-delimited file. After exporting, we'll remove the data frame and reload it from the csv file.\n",
    "* setting the sep argument to '\\t' makes it tab separated. Default is comma separated\n",
    "* setting the index=False prevents it from writing out the row numbers as a column, creating an exraneous column."
   ]
  },
  {
   "cell_type": "code",
   "execution_count": 9,
   "metadata": {},
   "outputs": [],
   "source": [
    "export_filename = 'sample_data.csv'\n",
    "t_data.to_csv(export_filename, sep='\\t', index=False)\n",
    "t_data = None"
   ]
  },
  {
   "cell_type": "code",
   "execution_count": 10,
   "metadata": {},
   "outputs": [
    {
     "data": {
      "text/html": [
       "<div>\n",
       "<style scoped>\n",
       "    .dataframe tbody tr th:only-of-type {\n",
       "        vertical-align: middle;\n",
       "    }\n",
       "\n",
       "    .dataframe tbody tr th {\n",
       "        vertical-align: top;\n",
       "    }\n",
       "\n",
       "    .dataframe thead th {\n",
       "        text-align: right;\n",
       "    }\n",
       "</style>\n",
       "<table border=\"1\" class=\"dataframe\">\n",
       "  <thead>\n",
       "    <tr style=\"text-align: right;\">\n",
       "      <th></th>\n",
       "      <th>text</th>\n",
       "      <th>class</th>\n",
       "      <th>topic</th>\n",
       "    </tr>\n",
       "  </thead>\n",
       "  <tbody>\n",
       "    <tr>\n",
       "      <th>0</th>\n",
       "      <td>You remind me of my BimmerSee your ignition  b...</td>\n",
       "      <td>0</td>\n",
       "      <td>Birth</td>\n",
       "    </tr>\n",
       "    <tr>\n",
       "      <th>1</th>\n",
       "      <td>RT @JaDineNATION: Were so excited for our dese...</td>\n",
       "      <td>0</td>\n",
       "      <td>Birth</td>\n",
       "    </tr>\n",
       "    <tr>\n",
       "      <th>2</th>\n",
       "      <td>i always get super self conscious about keepin...</td>\n",
       "      <td>0</td>\n",
       "      <td>Birth</td>\n",
       "    </tr>\n",
       "    <tr>\n",
       "      <th>3</th>\n",
       "      <td>@Juhhhhhhnelle Weird ass bitch lucky Im pregna...</td>\n",
       "      <td>1</td>\n",
       "      <td>Birth</td>\n",
       "    </tr>\n",
       "    <tr>\n",
       "      <th>4</th>\n",
       "      <td>RT @thdmichaelbell: New Signage above our Fron...</td>\n",
       "      <td>0</td>\n",
       "      <td>Birth</td>\n",
       "    </tr>\n",
       "  </tbody>\n",
       "</table>\n",
       "</div>"
      ],
      "text/plain": [
       "                                                text  class  topic\n",
       "0  You remind me of my BimmerSee your ignition  b...      0  Birth\n",
       "1  RT @JaDineNATION: Were so excited for our dese...      0  Birth\n",
       "2  i always get super self conscious about keepin...      0  Birth\n",
       "3  @Juhhhhhhnelle Weird ass bitch lucky Im pregna...      1  Birth\n",
       "4  RT @thdmichaelbell: New Signage above our Fron...      0  Birth"
      ]
     },
     "execution_count": 10,
     "metadata": {},
     "output_type": "execute_result"
    }
   ],
   "source": [
    "t_data = pd.read_csv(export_filename, sep='\\t')\n",
    "t_data.head()"
   ]
  },
  {
   "cell_type": "markdown",
   "metadata": {},
   "source": [
    "Let's get an idea of what's in this dataframe - I know it has texts from different topics. Let's see how many from each are in there:"
   ]
  },
  {
   "cell_type": "code",
   "execution_count": 11,
   "metadata": {},
   "outputs": [
    {
     "data": {
      "text/plain": [
       "Marriage      241\n",
       "Moving        240\n",
       "Divorce       226\n",
       "Graduation    226\n",
       "Birth         199\n",
       "Name: topic, dtype: int64"
      ]
     },
     "execution_count": 11,
     "metadata": {},
     "output_type": "execute_result"
    }
   ],
   "source": [
    "t_data['topic'].value_counts()"
   ]
  },
  {
   "cell_type": "code",
   "execution_count": 12,
   "metadata": {},
   "outputs": [
    {
     "data": {
      "text/plain": [
       "0    883\n",
       "1    206\n",
       "2     43\n",
       "Name: class, dtype: int64"
      ]
     },
     "execution_count": 12,
     "metadata": {},
     "output_type": "execute_result"
    }
   ],
   "source": [
    "t_data['class'].value_counts()"
   ]
  },
  {
   "cell_type": "markdown",
   "metadata": {},
   "source": [
    "Since we want the `class` variable to be binary, we have some data clean-up to do here. At some point I started using 2 for negatives, since it was easier on the keyboard than 0! Let's replace all of those 2s with 0 to make class truly binary."
   ]
  },
  {
   "cell_type": "code",
   "execution_count": 13,
   "metadata": {},
   "outputs": [
    {
     "data": {
      "text/plain": [
       "0    926\n",
       "1    206\n",
       "Name: class, dtype: int64"
      ]
     },
     "execution_count": 13,
     "metadata": {},
     "output_type": "execute_result"
    }
   ],
   "source": [
    "t_data.loc[t_data['class']==2,'class'] = 0 \n",
    "t_data['class'].value_counts()"
   ]
  },
  {
   "cell_type": "code",
   "execution_count": 14,
   "metadata": {},
   "outputs": [
    {
     "data": {
      "text/plain": [
       "text     object\n",
       "class     int64\n",
       "topic    object\n",
       "dtype: object"
      ]
     },
     "execution_count": 14,
     "metadata": {},
     "output_type": "execute_result"
    }
   ],
   "source": [
    "# Check data types\n",
    "t_data.dtypes"
   ]
  },
  {
   "cell_type": "code",
   "execution_count": 15,
   "metadata": {},
   "outputs": [
    {
     "data": {
      "text/html": [
       "<div>\n",
       "<style scoped>\n",
       "    .dataframe tbody tr th:only-of-type {\n",
       "        vertical-align: middle;\n",
       "    }\n",
       "\n",
       "    .dataframe tbody tr th {\n",
       "        vertical-align: top;\n",
       "    }\n",
       "\n",
       "    .dataframe thead th {\n",
       "        text-align: right;\n",
       "    }\n",
       "</style>\n",
       "<table border=\"1\" class=\"dataframe\">\n",
       "  <thead>\n",
       "    <tr style=\"text-align: right;\">\n",
       "      <th></th>\n",
       "      <th>text</th>\n",
       "      <th>class</th>\n",
       "      <th>topic</th>\n",
       "    </tr>\n",
       "  </thead>\n",
       "  <tbody>\n",
       "    <tr>\n",
       "      <th>count</th>\n",
       "      <td>1132</td>\n",
       "      <td>1132.000000</td>\n",
       "      <td>1132</td>\n",
       "    </tr>\n",
       "    <tr>\n",
       "      <th>unique</th>\n",
       "      <td>1122</td>\n",
       "      <td>NaN</td>\n",
       "      <td>5</td>\n",
       "    </tr>\n",
       "    <tr>\n",
       "      <th>top</th>\n",
       "      <td>Two weeks exactly until Spring!! 😍🎉✨ We start ...</td>\n",
       "      <td>NaN</td>\n",
       "      <td>Marriage</td>\n",
       "    </tr>\n",
       "    <tr>\n",
       "      <th>freq</th>\n",
       "      <td>2</td>\n",
       "      <td>NaN</td>\n",
       "      <td>241</td>\n",
       "    </tr>\n",
       "    <tr>\n",
       "      <th>mean</th>\n",
       "      <td>NaN</td>\n",
       "      <td>0.181979</td>\n",
       "      <td>NaN</td>\n",
       "    </tr>\n",
       "    <tr>\n",
       "      <th>std</th>\n",
       "      <td>NaN</td>\n",
       "      <td>0.385998</td>\n",
       "      <td>NaN</td>\n",
       "    </tr>\n",
       "    <tr>\n",
       "      <th>min</th>\n",
       "      <td>NaN</td>\n",
       "      <td>0.000000</td>\n",
       "      <td>NaN</td>\n",
       "    </tr>\n",
       "    <tr>\n",
       "      <th>25%</th>\n",
       "      <td>NaN</td>\n",
       "      <td>0.000000</td>\n",
       "      <td>NaN</td>\n",
       "    </tr>\n",
       "    <tr>\n",
       "      <th>50%</th>\n",
       "      <td>NaN</td>\n",
       "      <td>0.000000</td>\n",
       "      <td>NaN</td>\n",
       "    </tr>\n",
       "    <tr>\n",
       "      <th>75%</th>\n",
       "      <td>NaN</td>\n",
       "      <td>0.000000</td>\n",
       "      <td>NaN</td>\n",
       "    </tr>\n",
       "    <tr>\n",
       "      <th>max</th>\n",
       "      <td>NaN</td>\n",
       "      <td>1.000000</td>\n",
       "      <td>NaN</td>\n",
       "    </tr>\n",
       "  </tbody>\n",
       "</table>\n",
       "</div>"
      ],
      "text/plain": [
       "                                                     text        class  \\\n",
       "count                                                1132  1132.000000   \n",
       "unique                                               1122          NaN   \n",
       "top     Two weeks exactly until Spring!! 😍🎉✨ We start ...          NaN   \n",
       "freq                                                    2          NaN   \n",
       "mean                                                  NaN     0.181979   \n",
       "std                                                   NaN     0.385998   \n",
       "min                                                   NaN     0.000000   \n",
       "25%                                                   NaN     0.000000   \n",
       "50%                                                   NaN     0.000000   \n",
       "75%                                                   NaN     0.000000   \n",
       "max                                                   NaN     1.000000   \n",
       "\n",
       "           topic  \n",
       "count       1132  \n",
       "unique         5  \n",
       "top     Marriage  \n",
       "freq         241  \n",
       "mean         NaN  \n",
       "std          NaN  \n",
       "min          NaN  \n",
       "25%          NaN  \n",
       "50%          NaN  \n",
       "75%          NaN  \n",
       "max          NaN  "
      ]
     },
     "execution_count": 15,
     "metadata": {},
     "output_type": "execute_result"
    }
   ],
   "source": [
    "# Get some descriptive data from this dataframe\n",
    "t_data.describe(include='all')"
   ]
  },
  {
   "cell_type": "markdown",
   "metadata": {},
   "source": [
    "### Subsetting\n",
    "Subsetting dataframes with Pandas is very similar to subsetting in R. Since the sample data has data from 5 different topics, let's pull out two topics and make them separate data frames.\n",
    "\n",
    "Unlike R, when subsetting with Pandas you have to use `loc` or `iloc` before adding in the subset parameters. \n",
    "* `loc` is used when you have a criteria based on the values in a column or multiple columns\n",
    "* `iloc` will give you the values from a numeric position in the dataframe. For example, if you wanted the first 10 rows of the data frame, you'd do the following:\n",
    "\n",
    "*NOTE: Unlike R, Python is zero-based, so lists and indexes start at zero, rather than one.* \n",
    "#### Subsetting with `iloc`"
   ]
  },
  {
   "cell_type": "code",
   "execution_count": 16,
   "metadata": {},
   "outputs": [
    {
     "data": {
      "text/html": [
       "<div>\n",
       "<style scoped>\n",
       "    .dataframe tbody tr th:only-of-type {\n",
       "        vertical-align: middle;\n",
       "    }\n",
       "\n",
       "    .dataframe tbody tr th {\n",
       "        vertical-align: top;\n",
       "    }\n",
       "\n",
       "    .dataframe thead th {\n",
       "        text-align: right;\n",
       "    }\n",
       "</style>\n",
       "<table border=\"1\" class=\"dataframe\">\n",
       "  <thead>\n",
       "    <tr style=\"text-align: right;\">\n",
       "      <th></th>\n",
       "      <th>text</th>\n",
       "      <th>class</th>\n",
       "      <th>topic</th>\n",
       "    </tr>\n",
       "  </thead>\n",
       "  <tbody>\n",
       "    <tr>\n",
       "      <th>0</th>\n",
       "      <td>You remind me of my BimmerSee your ignition  b...</td>\n",
       "      <td>0</td>\n",
       "      <td>Birth</td>\n",
       "    </tr>\n",
       "    <tr>\n",
       "      <th>1</th>\n",
       "      <td>RT @JaDineNATION: Were so excited for our dese...</td>\n",
       "      <td>0</td>\n",
       "      <td>Birth</td>\n",
       "    </tr>\n",
       "    <tr>\n",
       "      <th>2</th>\n",
       "      <td>i always get super self conscious about keepin...</td>\n",
       "      <td>0</td>\n",
       "      <td>Birth</td>\n",
       "    </tr>\n",
       "    <tr>\n",
       "      <th>3</th>\n",
       "      <td>@Juhhhhhhnelle Weird ass bitch lucky Im pregna...</td>\n",
       "      <td>1</td>\n",
       "      <td>Birth</td>\n",
       "    </tr>\n",
       "    <tr>\n",
       "      <th>4</th>\n",
       "      <td>RT @thdmichaelbell: New Signage above our Fron...</td>\n",
       "      <td>0</td>\n",
       "      <td>Birth</td>\n",
       "    </tr>\n",
       "    <tr>\n",
       "      <th>5</th>\n",
       "      <td>NEW SUPER BABY 2 SCAN AND TRANSLATION AND NEW ...</td>\n",
       "      <td>0</td>\n",
       "      <td>Birth</td>\n",
       "    </tr>\n",
       "    <tr>\n",
       "      <th>6</th>\n",
       "      <td>RT @Prof_Hariom: @OmarAbdullah Throw out of Bh...</td>\n",
       "      <td>0</td>\n",
       "      <td>Birth</td>\n",
       "    </tr>\n",
       "    <tr>\n",
       "      <th>7</th>\n",
       "      <td>RT @dre85567034: Mmm...Busty Preggos Yummy! Pa...</td>\n",
       "      <td>0</td>\n",
       "      <td>Birth</td>\n",
       "    </tr>\n",
       "    <tr>\n",
       "      <th>8</th>\n",
       "      <td>baby girl you re a star</td>\n",
       "      <td>0</td>\n",
       "      <td>Birth</td>\n",
       "    </tr>\n",
       "    <tr>\n",
       "      <th>9</th>\n",
       "      <td>RT @DDuaneOfficial: Glad I was able to speak w...</td>\n",
       "      <td>0</td>\n",
       "      <td>Birth</td>\n",
       "    </tr>\n",
       "  </tbody>\n",
       "</table>\n",
       "</div>"
      ],
      "text/plain": [
       "                                                text  class  topic\n",
       "0  You remind me of my BimmerSee your ignition  b...      0  Birth\n",
       "1  RT @JaDineNATION: Were so excited for our dese...      0  Birth\n",
       "2  i always get super self conscious about keepin...      0  Birth\n",
       "3  @Juhhhhhhnelle Weird ass bitch lucky Im pregna...      1  Birth\n",
       "4  RT @thdmichaelbell: New Signage above our Fron...      0  Birth\n",
       "5  NEW SUPER BABY 2 SCAN AND TRANSLATION AND NEW ...      0  Birth\n",
       "6  RT @Prof_Hariom: @OmarAbdullah Throw out of Bh...      0  Birth\n",
       "7  RT @dre85567034: Mmm...Busty Preggos Yummy! Pa...      0  Birth\n",
       "8                            baby girl you re a star      0  Birth\n",
       "9  RT @DDuaneOfficial: Glad I was able to speak w...      0  Birth"
      ]
     },
     "execution_count": 16,
     "metadata": {},
     "output_type": "execute_result"
    }
   ],
   "source": [
    "# First 10 rows\n",
    "t_data.iloc[0:10]"
   ]
  },
  {
   "cell_type": "markdown",
   "metadata": {},
   "source": [
    "#### Subsetting with `loc`\n",
    "When referencing columns in pandas, you can use either dataframe.column_name or dataframe['column name']. They should work the same way. Sometimes, maybe based on the column name itself, the .column_name doesn't work. ['column_name'] seems to be more reliable. In this dataframe, I had this issue with the 'class' column."
   ]
  },
  {
   "cell_type": "code",
   "execution_count": 17,
   "metadata": {
    "slideshow": {
     "slide_type": "-"
    }
   },
   "outputs": [
    {
     "data": {
      "text/html": [
       "<div>\n",
       "<style scoped>\n",
       "    .dataframe tbody tr th:only-of-type {\n",
       "        vertical-align: middle;\n",
       "    }\n",
       "\n",
       "    .dataframe tbody tr th {\n",
       "        vertical-align: top;\n",
       "    }\n",
       "\n",
       "    .dataframe thead th {\n",
       "        text-align: right;\n",
       "    }\n",
       "</style>\n",
       "<table border=\"1\" class=\"dataframe\">\n",
       "  <thead>\n",
       "    <tr style=\"text-align: right;\">\n",
       "      <th></th>\n",
       "      <th>text</th>\n",
       "      <th>class</th>\n",
       "      <th>topic</th>\n",
       "    </tr>\n",
       "  </thead>\n",
       "  <tbody>\n",
       "    <tr>\n",
       "      <th>892</th>\n",
       "      <td>Peaches is moving to the City where lots of ex...</td>\n",
       "      <td>0</td>\n",
       "      <td>Moving</td>\n",
       "    </tr>\n",
       "    <tr>\n",
       "      <th>893</th>\n",
       "      <td>The best thing we can realistically hope for i...</td>\n",
       "      <td>0</td>\n",
       "      <td>Moving</td>\n",
       "    </tr>\n",
       "    <tr>\n",
       "      <th>894</th>\n",
       "      <td>@Iam100Savage A Fund was moving out and hence ...</td>\n",
       "      <td>0</td>\n",
       "      <td>Moving</td>\n",
       "    </tr>\n",
       "    <tr>\n",
       "      <th>895</th>\n",
       "      <td>You could win $4,000 towards a new home theate...</td>\n",
       "      <td>0</td>\n",
       "      <td>Moving</td>\n",
       "    </tr>\n",
       "    <tr>\n",
       "      <th>896</th>\n",
       "      <td>If I wasn’t in a relationship, after graduatio...</td>\n",
       "      <td>0</td>\n",
       "      <td>Moving</td>\n",
       "    </tr>\n",
       "  </tbody>\n",
       "</table>\n",
       "</div>"
      ],
      "text/plain": [
       "                                                  text  class   topic\n",
       "892  Peaches is moving to the City where lots of ex...      0  Moving\n",
       "893  The best thing we can realistically hope for i...      0  Moving\n",
       "894  @Iam100Savage A Fund was moving out and hence ...      0  Moving\n",
       "895  You could win $4,000 towards a new home theate...      0  Moving\n",
       "896  If I wasn’t in a relationship, after graduatio...      0  Moving"
      ]
     },
     "execution_count": 17,
     "metadata": {},
     "output_type": "execute_result"
    }
   ],
   "source": [
    "moving_df = t_data.loc[t_data.topic=='Moving']\n",
    "moving_df.head()"
   ]
  },
  {
   "cell_type": "code",
   "execution_count": 18,
   "metadata": {},
   "outputs": [
    {
     "data": {
      "text/html": [
       "<div>\n",
       "<style scoped>\n",
       "    .dataframe tbody tr th:only-of-type {\n",
       "        vertical-align: middle;\n",
       "    }\n",
       "\n",
       "    .dataframe tbody tr th {\n",
       "        vertical-align: top;\n",
       "    }\n",
       "\n",
       "    .dataframe thead th {\n",
       "        text-align: right;\n",
       "    }\n",
       "</style>\n",
       "<table border=\"1\" class=\"dataframe\">\n",
       "  <thead>\n",
       "    <tr style=\"text-align: right;\">\n",
       "      <th></th>\n",
       "      <th>text</th>\n",
       "      <th>class</th>\n",
       "      <th>topic</th>\n",
       "    </tr>\n",
       "  </thead>\n",
       "  <tbody>\n",
       "    <tr>\n",
       "      <th>651</th>\n",
       "      <td>2 years ago i casually pinned wedding ideas da...</td>\n",
       "      <td>0</td>\n",
       "      <td>Marriage</td>\n",
       "    </tr>\n",
       "    <tr>\n",
       "      <th>652</th>\n",
       "      <td>so completely honored to stand next to this ma...</td>\n",
       "      <td>0</td>\n",
       "      <td>Marriage</td>\n",
       "    </tr>\n",
       "    <tr>\n",
       "      <th>653</th>\n",
       "      <td>the wedding chapel http://t.co/xthvajo4</td>\n",
       "      <td>0</td>\n",
       "      <td>Marriage</td>\n",
       "    </tr>\n",
       "    <tr>\n",
       "      <th>654</th>\n",
       "      <td>i love that my modern-day beauty &amp;amp; the bea...</td>\n",
       "      <td>0</td>\n",
       "      <td>Marriage</td>\n",
       "    </tr>\n",
       "    <tr>\n",
       "      <th>655</th>\n",
       "      <td>on the train heading to pa for a friends weddi...</td>\n",
       "      <td>0</td>\n",
       "      <td>Marriage</td>\n",
       "    </tr>\n",
       "  </tbody>\n",
       "</table>\n",
       "</div>"
      ],
      "text/plain": [
       "                                                  text  class     topic\n",
       "651  2 years ago i casually pinned wedding ideas da...      0  Marriage\n",
       "652  so completely honored to stand next to this ma...      0  Marriage\n",
       "653            the wedding chapel http://t.co/xthvajo4      0  Marriage\n",
       "654  i love that my modern-day beauty &amp; the bea...      0  Marriage\n",
       "655  on the train heading to pa for a friends weddi...      0  Marriage"
      ]
     },
     "execution_count": 18,
     "metadata": {},
     "output_type": "execute_result"
    }
   ],
   "source": [
    "marriage_df = t_data.loc[t_data['topic']=='Marriage']\n",
    "marriage_df.head()"
   ]
  },
  {
   "cell_type": "markdown",
   "metadata": {},
   "source": [
    "#### Multiple subset criteria\n",
    "This works the same way that subsetting in R does. Let's find all of the Marriage and Moving tweets where the Class==1. A common error when subsetting is: `The truth value of a Series is ambiguous. Use a.empty, a.bool(), a.item(), a.any() or a.all().` If you get that, make sure you are using `&` and `|` for and/or operators. If it's still an issue, check parentheses - it seems like it needs more than necessary for the subset to work!"
   ]
  },
  {
   "cell_type": "code",
   "execution_count": 19,
   "metadata": {},
   "outputs": [
    {
     "data": {
      "text/html": [
       "<div>\n",
       "<style scoped>\n",
       "    .dataframe tbody tr th:only-of-type {\n",
       "        vertical-align: middle;\n",
       "    }\n",
       "\n",
       "    .dataframe tbody tr th {\n",
       "        vertical-align: top;\n",
       "    }\n",
       "\n",
       "    .dataframe thead th {\n",
       "        text-align: right;\n",
       "    }\n",
       "</style>\n",
       "<table border=\"1\" class=\"dataframe\">\n",
       "  <thead>\n",
       "    <tr style=\"text-align: right;\">\n",
       "      <th></th>\n",
       "      <th>text</th>\n",
       "      <th>class</th>\n",
       "      <th>topic</th>\n",
       "    </tr>\n",
       "  </thead>\n",
       "  <tbody>\n",
       "    <tr>\n",
       "      <th>656</th>\n",
       "      <td>houston...i love you and i hate you right now....</td>\n",
       "      <td>1</td>\n",
       "      <td>Marriage</td>\n",
       "    </tr>\n",
       "    <tr>\n",
       "      <th>663</th>\n",
       "      <td>chaelisa for we got married</td>\n",
       "      <td>1</td>\n",
       "      <td>Marriage</td>\n",
       "    </tr>\n",
       "    <tr>\n",
       "      <th>664</th>\n",
       "      <td>here is how i feel about wedding thank you car...</td>\n",
       "      <td>1</td>\n",
       "      <td>Marriage</td>\n",
       "    </tr>\n",
       "    <tr>\n",
       "      <th>670</th>\n",
       "      <td>for all interested  here is the video from our...</td>\n",
       "      <td>1</td>\n",
       "      <td>Marriage</td>\n",
       "    </tr>\n",
       "    <tr>\n",
       "      <th>682</th>\n",
       "      <td>thankful for an aunt who can do a few last min...</td>\n",
       "      <td>1</td>\n",
       "      <td>Marriage</td>\n",
       "    </tr>\n",
       "  </tbody>\n",
       "</table>\n",
       "</div>"
      ],
      "text/plain": [
       "                                                  text  class     topic\n",
       "656  houston...i love you and i hate you right now....      1  Marriage\n",
       "663                        chaelisa for we got married      1  Marriage\n",
       "664  here is how i feel about wedding thank you car...      1  Marriage\n",
       "670  for all interested  here is the video from our...      1  Marriage\n",
       "682  thankful for an aunt who can do a few last min...      1  Marriage"
      ]
     },
     "execution_count": 19,
     "metadata": {},
     "output_type": "execute_result"
    }
   ],
   "source": [
    "subset2 = t_data.loc[((t_data['topic']=='Marriage') & (t_data['class']==1)) |\n",
    "                     ((t_data['topic']=='Moving') & (t_data['class']==1))]\n",
    "subset2.head()"
   ]
  },
  {
   "cell_type": "markdown",
   "metadata": {},
   "source": [
    "### 2. Merging Data Frames\n",
    "Now that we have two separate data frames for Marriage and Moving, let's merge them together and see if the number of class==1 matches our subset above. There are a lot of options when merging data frames - similar to joins with data tables. The [documentation](https://pandas.pydata.org/pandas-docs/stable/generated/pandas.DataFrame.merge.html) is pretty helpful as is StackOverflow, of course.\n",
    "\n",
    "This first example is just a combination of two dataframes... no index to match on. "
   ]
  },
  {
   "cell_type": "code",
   "execution_count": 20,
   "metadata": {},
   "outputs": [
    {
     "name": "stdout",
     "output_type": "stream",
     "text": [
      "Marrige data frame: 241\n",
      "Moving data frame: 240\n",
      "Merged data frame: 481\n"
     ]
    }
   ],
   "source": [
    "merged_df = marriage_df.merge(moving_df, how='outer')\n",
    "print('Marrige data frame: {}'.format(len(marriage_df)))\n",
    "print('Moving data frame: {}'.format(len(moving_df)))\n",
    "print('Merged data frame: {}'.format(len(merged_df)))"
   ]
  },
  {
   "cell_type": "code",
   "execution_count": 21,
   "metadata": {},
   "outputs": [
    {
     "data": {
      "text/plain": [
       "True"
      ]
     },
     "execution_count": 21,
     "metadata": {},
     "output_type": "execute_result"
    }
   ],
   "source": [
    "# Does our count of positive tweets match between the subset and the merged data?\n",
    "len(subset2) == len(merged_df.loc[merged_df['class']==1])"
   ]
  },
  {
   "cell_type": "markdown",
   "metadata": {},
   "source": [
    "We need some different data to show how to merge on different keys. Our sample file has data for this too in the `tweet_data` and `user_data` sheets."
   ]
  },
  {
   "cell_type": "code",
   "execution_count": 22,
   "metadata": {},
   "outputs": [
    {
     "data": {
      "text/html": [
       "<div>\n",
       "<style scoped>\n",
       "    .dataframe tbody tr th:only-of-type {\n",
       "        vertical-align: middle;\n",
       "    }\n",
       "\n",
       "    .dataframe tbody tr th {\n",
       "        vertical-align: top;\n",
       "    }\n",
       "\n",
       "    .dataframe thead th {\n",
       "        text-align: right;\n",
       "    }\n",
       "</style>\n",
       "<table border=\"1\" class=\"dataframe\">\n",
       "  <thead>\n",
       "    <tr style=\"text-align: right;\">\n",
       "      <th></th>\n",
       "      <th>tweet_id</th>\n",
       "      <th>id_str</th>\n",
       "      <th>created_at</th>\n",
       "      <th>text</th>\n",
       "      <th>user_id</th>\n",
       "      <th>favorite_count</th>\n",
       "      <th>favorited</th>\n",
       "      <th>in_reply_to_status_id</th>\n",
       "      <th>in_reply_to_user_id</th>\n",
       "      <th>lang</th>\n",
       "      <th>place</th>\n",
       "      <th>retweet_count</th>\n",
       "      <th>retweeted</th>\n",
       "      <th>tp_name</th>\n",
       "      <th>user_id_str</th>\n",
       "    </tr>\n",
       "  </thead>\n",
       "  <tbody>\n",
       "    <tr>\n",
       "      <th>0</th>\n",
       "      <td>1025402184198967040</td>\n",
       "      <td>1025402184198967296</td>\n",
       "      <td>2018-08-03 15:25:06</td>\n",
       "      <td>RT @NdaliOzegbe: Imagine going to school  grad...</td>\n",
       "      <td>327673809</td>\n",
       "      <td>0</td>\n",
       "      <td>False</td>\n",
       "      <td>NaN</td>\n",
       "      <td>NaN</td>\n",
       "      <td>en</td>\n",
       "      <td>NaN</td>\n",
       "      <td>0</td>\n",
       "      <td>False</td>\n",
       "      <td>Graduation</td>\n",
       "      <td>327673809</td>\n",
       "    </tr>\n",
       "    <tr>\n",
       "      <th>1</th>\n",
       "      <td>1025402408992734976</td>\n",
       "      <td>1025402408992735233</td>\n",
       "      <td>2018-08-03 15:26:00</td>\n",
       "      <td>RT @unclenick_00: IM KEEPING THIS SAME ENERGY ...</td>\n",
       "      <td>578247241</td>\n",
       "      <td>0</td>\n",
       "      <td>False</td>\n",
       "      <td>NaN</td>\n",
       "      <td>NaN</td>\n",
       "      <td>en</td>\n",
       "      <td>NaN</td>\n",
       "      <td>0</td>\n",
       "      <td>False</td>\n",
       "      <td>Graduation</td>\n",
       "      <td>578247241</td>\n",
       "    </tr>\n",
       "    <tr>\n",
       "      <th>2</th>\n",
       "      <td>1025402986762256000</td>\n",
       "      <td>1025402986762256384</td>\n",
       "      <td>2018-08-03 15:28:17</td>\n",
       "      <td>RT @dollyslibrary: If your little one is gradu...</td>\n",
       "      <td>108829376</td>\n",
       "      <td>0</td>\n",
       "      <td>False</td>\n",
       "      <td>NaN</td>\n",
       "      <td>NaN</td>\n",
       "      <td>en</td>\n",
       "      <td>NaN</td>\n",
       "      <td>0</td>\n",
       "      <td>False</td>\n",
       "      <td>Graduation</td>\n",
       "      <td>108829376</td>\n",
       "    </tr>\n",
       "    <tr>\n",
       "      <th>3</th>\n",
       "      <td>1025403397468561024</td>\n",
       "      <td>1025403397468561410</td>\n",
       "      <td>2018-08-03 15:29:55</td>\n",
       "      <td>#IRememberATime when I thought graduating coll...</td>\n",
       "      <td>1016737236497457024</td>\n",
       "      <td>0</td>\n",
       "      <td>False</td>\n",
       "      <td>NaN</td>\n",
       "      <td>NaN</td>\n",
       "      <td>en</td>\n",
       "      <td>NaN</td>\n",
       "      <td>0</td>\n",
       "      <td>False</td>\n",
       "      <td>Graduation</td>\n",
       "      <td>1016737236497457152</td>\n",
       "    </tr>\n",
       "    <tr>\n",
       "      <th>4</th>\n",
       "      <td>1025403499750859008</td>\n",
       "      <td>1025403499750858757</td>\n",
       "      <td>2018-08-03 15:30:20</td>\n",
       "      <td>Class of 2017  have you secured your spot on y...</td>\n",
       "      <td>895222808707551232</td>\n",
       "      <td>0</td>\n",
       "      <td>False</td>\n",
       "      <td>NaN</td>\n",
       "      <td>NaN</td>\n",
       "      <td>en</td>\n",
       "      <td>NaN</td>\n",
       "      <td>0</td>\n",
       "      <td>False</td>\n",
       "      <td>Graduation</td>\n",
       "      <td>895222808707551232</td>\n",
       "    </tr>\n",
       "  </tbody>\n",
       "</table>\n",
       "</div>"
      ],
      "text/plain": [
       "              tweet_id               id_str          created_at  \\\n",
       "0  1025402184198967040  1025402184198967296 2018-08-03 15:25:06   \n",
       "1  1025402408992734976  1025402408992735233 2018-08-03 15:26:00   \n",
       "2  1025402986762256000  1025402986762256384 2018-08-03 15:28:17   \n",
       "3  1025403397468561024  1025403397468561410 2018-08-03 15:29:55   \n",
       "4  1025403499750859008  1025403499750858757 2018-08-03 15:30:20   \n",
       "\n",
       "                                                text              user_id  \\\n",
       "0  RT @NdaliOzegbe: Imagine going to school  grad...            327673809   \n",
       "1  RT @unclenick_00: IM KEEPING THIS SAME ENERGY ...            578247241   \n",
       "2  RT @dollyslibrary: If your little one is gradu...            108829376   \n",
       "3  #IRememberATime when I thought graduating coll...  1016737236497457024   \n",
       "4  Class of 2017  have you secured your spot on y...   895222808707551232   \n",
       "\n",
       "   favorite_count  favorited  in_reply_to_status_id  in_reply_to_user_id lang  \\\n",
       "0               0      False                    NaN                  NaN   en   \n",
       "1               0      False                    NaN                  NaN   en   \n",
       "2               0      False                    NaN                  NaN   en   \n",
       "3               0      False                    NaN                  NaN   en   \n",
       "4               0      False                    NaN                  NaN   en   \n",
       "\n",
       "   place  retweet_count  retweeted     tp_name          user_id_str  \n",
       "0    NaN              0      False  Graduation            327673809  \n",
       "1    NaN              0      False  Graduation            578247241  \n",
       "2    NaN              0      False  Graduation            108829376  \n",
       "3    NaN              0      False  Graduation  1016737236497457152  \n",
       "4    NaN              0      False  Graduation   895222808707551232  "
      ]
     },
     "execution_count": 22,
     "metadata": {},
     "output_type": "execute_result"
    }
   ],
   "source": [
    "tweet_df = pd.read_excel(filename, sheet_name='tweet_data')\n",
    "tweet_df.head()"
   ]
  },
  {
   "cell_type": "code",
   "execution_count": 23,
   "metadata": {},
   "outputs": [
    {
     "data": {
      "text/html": [
       "<div>\n",
       "<style scoped>\n",
       "    .dataframe tbody tr th:only-of-type {\n",
       "        vertical-align: middle;\n",
       "    }\n",
       "\n",
       "    .dataframe tbody tr th {\n",
       "        vertical-align: top;\n",
       "    }\n",
       "\n",
       "    .dataframe thead th {\n",
       "        text-align: right;\n",
       "    }\n",
       "</style>\n",
       "<table border=\"1\" class=\"dataframe\">\n",
       "  <thead>\n",
       "    <tr style=\"text-align: right;\">\n",
       "      <th></th>\n",
       "      <th>id</th>\n",
       "      <th>id_str</th>\n",
       "      <th>name</th>\n",
       "      <th>screen_name</th>\n",
       "      <th>location</th>\n",
       "      <th>followers_count</th>\n",
       "      <th>friends_count</th>\n",
       "      <th>favourites_count</th>\n",
       "      <th>description</th>\n",
       "      <th>geo_enabled</th>\n",
       "      <th>...</th>\n",
       "      <th>statuses_count</th>\n",
       "      <th>time_zone</th>\n",
       "      <th>created_at</th>\n",
       "      <th>verified</th>\n",
       "      <th>utc_offset</th>\n",
       "      <th>contributors_enabled</th>\n",
       "      <th>listed_count</th>\n",
       "      <th>protected</th>\n",
       "      <th>url</th>\n",
       "      <th>state</th>\n",
       "    </tr>\n",
       "  </thead>\n",
       "  <tbody>\n",
       "    <tr>\n",
       "      <th>0</th>\n",
       "      <td>8192222</td>\n",
       "      <td>8192222</td>\n",
       "      <td>Jezebel</td>\n",
       "      <td>Jezebel</td>\n",
       "      <td>NaN</td>\n",
       "      <td>318516</td>\n",
       "      <td>29</td>\n",
       "      <td>94</td>\n",
       "      <td>All the news you need. Without airbrushing.</td>\n",
       "      <td>0</td>\n",
       "      <td>...</td>\n",
       "      <td>81056</td>\n",
       "      <td>Eastern Time (US &amp; Canada)</td>\n",
       "      <td>2007-08-14 22:57:34</td>\n",
       "      <td>1</td>\n",
       "      <td>-14400.0</td>\n",
       "      <td>0</td>\n",
       "      <td>6709</td>\n",
       "      <td>0</td>\n",
       "      <td>http://jezebel.com</td>\n",
       "      <td>NaN</td>\n",
       "    </tr>\n",
       "    <tr>\n",
       "      <th>1</th>\n",
       "      <td>11801852</td>\n",
       "      <td>11801852</td>\n",
       "      <td>Jenna Hatfield</td>\n",
       "      <td>JennaHatfield</td>\n",
       "      <td>Cambridge  OH</td>\n",
       "      <td>10024</td>\n",
       "      <td>6808</td>\n",
       "      <td>21156</td>\n",
       "      <td>Award winning writer. Editor. Wife. Mom. Dog l...</td>\n",
       "      <td>0</td>\n",
       "      <td>...</td>\n",
       "      <td>106425</td>\n",
       "      <td>Eastern Time (US &amp; Canada)</td>\n",
       "      <td>2008-01-03 15:51:49</td>\n",
       "      <td>0</td>\n",
       "      <td>-14400.0</td>\n",
       "      <td>0</td>\n",
       "      <td>577</td>\n",
       "      <td>0</td>\n",
       "      <td>http://stopdropandblog.com</td>\n",
       "      <td>Ohio</td>\n",
       "    </tr>\n",
       "    <tr>\n",
       "      <th>2</th>\n",
       "      <td>12366342</td>\n",
       "      <td>12366342</td>\n",
       "      <td>King County Library</td>\n",
       "      <td>KCLS</td>\n",
       "      <td>King County  WA</td>\n",
       "      <td>10442</td>\n",
       "      <td>235</td>\n",
       "      <td>4417</td>\n",
       "      <td>King County Library System (KCLS) is your comm...</td>\n",
       "      <td>1</td>\n",
       "      <td>...</td>\n",
       "      <td>17786</td>\n",
       "      <td>Pacific Time (US &amp; Canada)</td>\n",
       "      <td>2008-01-17 17:51:28</td>\n",
       "      <td>0</td>\n",
       "      <td>-28800.0</td>\n",
       "      <td>0</td>\n",
       "      <td>548</td>\n",
       "      <td>0</td>\n",
       "      <td>http://www.kcls.org</td>\n",
       "      <td>Washington</td>\n",
       "    </tr>\n",
       "    <tr>\n",
       "      <th>3</th>\n",
       "      <td>14362996</td>\n",
       "      <td>14362996</td>\n",
       "      <td>Alanna Banks</td>\n",
       "      <td>fridaysoffshop</td>\n",
       "      <td>Toronto</td>\n",
       "      <td>765</td>\n",
       "      <td>850</td>\n",
       "      <td>32</td>\n",
       "      <td>Shop Owner at fridaysoff.ca an online source o...</td>\n",
       "      <td>0</td>\n",
       "      <td>...</td>\n",
       "      <td>1946</td>\n",
       "      <td>Quito</td>\n",
       "      <td>2008-04-11 17:49:07</td>\n",
       "      <td>0</td>\n",
       "      <td>-18000.0</td>\n",
       "      <td>0</td>\n",
       "      <td>48</td>\n",
       "      <td>0</td>\n",
       "      <td>http://fridaysoff.ca</td>\n",
       "      <td>NaN</td>\n",
       "    </tr>\n",
       "    <tr>\n",
       "      <th>4</th>\n",
       "      <td>15430687</td>\n",
       "      <td>15430687</td>\n",
       "      <td>C.B. Cebulski</td>\n",
       "      <td>CBCebulski</td>\n",
       "      <td>Shanghai  China</td>\n",
       "      <td>55961</td>\n",
       "      <td>869</td>\n",
       "      <td>11642</td>\n",
       "      <td>Just a guy lucky enough to work for Marvel. Tr...</td>\n",
       "      <td>0</td>\n",
       "      <td>...</td>\n",
       "      <td>22157</td>\n",
       "      <td>Eastern Time (US &amp; Canada)</td>\n",
       "      <td>2008-07-14 19:04:35</td>\n",
       "      <td>1</td>\n",
       "      <td>-14400.0</td>\n",
       "      <td>0</td>\n",
       "      <td>1889</td>\n",
       "      <td>0</td>\n",
       "      <td>http://www.eataku.tumblr.com</td>\n",
       "      <td>NaN</td>\n",
       "    </tr>\n",
       "  </tbody>\n",
       "</table>\n",
       "<p>5 rows × 21 columns</p>\n",
       "</div>"
      ],
      "text/plain": [
       "         id    id_str                 name     screen_name         location  \\\n",
       "0   8192222   8192222              Jezebel         Jezebel              NaN   \n",
       "1  11801852  11801852       Jenna Hatfield   JennaHatfield    Cambridge  OH   \n",
       "2  12366342  12366342  King County Library            KCLS  King County  WA   \n",
       "3  14362996  14362996         Alanna Banks  fridaysoffshop          Toronto   \n",
       "4  15430687  15430687        C.B. Cebulski      CBCebulski  Shanghai  China   \n",
       "\n",
       "   followers_count  friends_count  favourites_count  \\\n",
       "0           318516             29                94   \n",
       "1            10024           6808             21156   \n",
       "2            10442            235              4417   \n",
       "3              765            850                32   \n",
       "4            55961            869             11642   \n",
       "\n",
       "                                         description  geo_enabled     ...      \\\n",
       "0        All the news you need. Without airbrushing.            0     ...       \n",
       "1  Award winning writer. Editor. Wife. Mom. Dog l...            0     ...       \n",
       "2  King County Library System (KCLS) is your comm...            1     ...       \n",
       "3  Shop Owner at fridaysoff.ca an online source o...            0     ...       \n",
       "4  Just a guy lucky enough to work for Marvel. Tr...            0     ...       \n",
       "\n",
       "  statuses_count                   time_zone          created_at verified  \\\n",
       "0          81056  Eastern Time (US & Canada) 2007-08-14 22:57:34        1   \n",
       "1         106425  Eastern Time (US & Canada) 2008-01-03 15:51:49        0   \n",
       "2          17786  Pacific Time (US & Canada) 2008-01-17 17:51:28        0   \n",
       "3           1946                       Quito 2008-04-11 17:49:07        0   \n",
       "4          22157  Eastern Time (US & Canada) 2008-07-14 19:04:35        1   \n",
       "\n",
       "   utc_offset  contributors_enabled  listed_count  protected  \\\n",
       "0    -14400.0                     0          6709          0   \n",
       "1    -14400.0                     0           577          0   \n",
       "2    -28800.0                     0           548          0   \n",
       "3    -18000.0                     0            48          0   \n",
       "4    -14400.0                     0          1889          0   \n",
       "\n",
       "                            url       state  \n",
       "0            http://jezebel.com         NaN  \n",
       "1    http://stopdropandblog.com        Ohio  \n",
       "2           http://www.kcls.org  Washington  \n",
       "3          http://fridaysoff.ca         NaN  \n",
       "4  http://www.eataku.tumblr.com         NaN  \n",
       "\n",
       "[5 rows x 21 columns]"
      ]
     },
     "execution_count": 23,
     "metadata": {},
     "output_type": "execute_result"
    }
   ],
   "source": [
    "user_df = pd.read_excel(filename, sheet_name='user_data')\n",
    "user_df.head()"
   ]
  },
  {
   "cell_type": "markdown",
   "metadata": {},
   "source": [
    "Now that we have a handful of tweets, we want to merge the tweet data with the user data to append specific user columns to the tweet data. Let's only grab a few columns from each data frame to keep it easy to read. We can select a subset of columns with no other criteria with `dataframe[[list of columns]]`.\n",
    "\n",
    "The `how` parameter of the merge works like a join, defining what rows to keep when there isn't a match in both dataframes. It defaults to an inner join. In this case I want to keep all of the tweets, even if we don't have a user record, so I'm using `how=left` since the first table in the merge (the left one) is the tweet_df.\n",
    "\n",
    "NOTE: join on tweet_df.user_id_str = user_df.id_str, to avoid any truncation of the long integers that may have happend in exporting to Excel!\n",
    "\n",
    "### 2. (cont): Merge using a unique match key."
   ]
  },
  {
   "cell_type": "code",
   "execution_count": 24,
   "metadata": {},
   "outputs": [
    {
     "data": {
      "text/html": [
       "<div>\n",
       "<style scoped>\n",
       "    .dataframe tbody tr th:only-of-type {\n",
       "        vertical-align: middle;\n",
       "    }\n",
       "\n",
       "    .dataframe tbody tr th {\n",
       "        vertical-align: top;\n",
       "    }\n",
       "\n",
       "    .dataframe thead th {\n",
       "        text-align: right;\n",
       "    }\n",
       "</style>\n",
       "<table border=\"1\" class=\"dataframe\">\n",
       "  <thead>\n",
       "    <tr style=\"text-align: right;\">\n",
       "      <th></th>\n",
       "      <th>tweet_id</th>\n",
       "      <th>created_at</th>\n",
       "      <th>user_id_str</th>\n",
       "      <th>text</th>\n",
       "      <th>id_str</th>\n",
       "      <th>name</th>\n",
       "      <th>screen_name</th>\n",
       "      <th>followers_count</th>\n",
       "    </tr>\n",
       "  </thead>\n",
       "  <tbody>\n",
       "    <tr>\n",
       "      <th>0</th>\n",
       "      <td>1025402184198967040</td>\n",
       "      <td>2018-08-03 15:25:06</td>\n",
       "      <td>327673809</td>\n",
       "      <td>RT @NdaliOzegbe: Imagine going to school  grad...</td>\n",
       "      <td>327673809</td>\n",
       "      <td>Ya Girl</td>\n",
       "      <td>bellabiceps</td>\n",
       "      <td>1019</td>\n",
       "    </tr>\n",
       "    <tr>\n",
       "      <th>1</th>\n",
       "      <td>1025402408992734976</td>\n",
       "      <td>2018-08-03 15:26:00</td>\n",
       "      <td>578247241</td>\n",
       "      <td>RT @unclenick_00: IM KEEPING THIS SAME ENERGY ...</td>\n",
       "      <td>578247241</td>\n",
       "      <td>Big Tit Energy</td>\n",
       "      <td>theCoolestLame3</td>\n",
       "      <td>6889</td>\n",
       "    </tr>\n",
       "    <tr>\n",
       "      <th>2</th>\n",
       "      <td>1025402986762256000</td>\n",
       "      <td>2018-08-03 15:28:17</td>\n",
       "      <td>108829376</td>\n",
       "      <td>RT @dollyslibrary: If your little one is gradu...</td>\n",
       "      <td>108829376</td>\n",
       "      <td>Kat Dickinson</td>\n",
       "      <td>DickinsonKat</td>\n",
       "      <td>76</td>\n",
       "    </tr>\n",
       "    <tr>\n",
       "      <th>3</th>\n",
       "      <td>1025403397468561024</td>\n",
       "      <td>2018-08-03 15:29:55</td>\n",
       "      <td>1016737236497457152</td>\n",
       "      <td>#IRememberATime when I thought graduating coll...</td>\n",
       "      <td>1016737236497457152</td>\n",
       "      <td>kandidklerity</td>\n",
       "      <td>kandidklerity</td>\n",
       "      <td>2</td>\n",
       "    </tr>\n",
       "    <tr>\n",
       "      <th>4</th>\n",
       "      <td>1025403499750859008</td>\n",
       "      <td>2018-08-03 15:30:20</td>\n",
       "      <td>895222808707551232</td>\n",
       "      <td>Class of 2017  have you secured your spot on y...</td>\n",
       "      <td>895222808707551232</td>\n",
       "      <td>VDS Training</td>\n",
       "      <td>trainingVDS</td>\n",
       "      <td>639</td>\n",
       "    </tr>\n",
       "  </tbody>\n",
       "</table>\n",
       "</div>"
      ],
      "text/plain": [
       "              tweet_id          created_at          user_id_str  \\\n",
       "0  1025402184198967040 2018-08-03 15:25:06            327673809   \n",
       "1  1025402408992734976 2018-08-03 15:26:00            578247241   \n",
       "2  1025402986762256000 2018-08-03 15:28:17            108829376   \n",
       "3  1025403397468561024 2018-08-03 15:29:55  1016737236497457152   \n",
       "4  1025403499750859008 2018-08-03 15:30:20   895222808707551232   \n",
       "\n",
       "                                                text               id_str  \\\n",
       "0  RT @NdaliOzegbe: Imagine going to school  grad...            327673809   \n",
       "1  RT @unclenick_00: IM KEEPING THIS SAME ENERGY ...            578247241   \n",
       "2  RT @dollyslibrary: If your little one is gradu...            108829376   \n",
       "3  #IRememberATime when I thought graduating coll...  1016737236497457152   \n",
       "4  Class of 2017  have you secured your spot on y...   895222808707551232   \n",
       "\n",
       "             name      screen_name  followers_count  \n",
       "0         Ya Girl      bellabiceps             1019  \n",
       "1  Big Tit Energy  theCoolestLame3             6889  \n",
       "2   Kat Dickinson     DickinsonKat               76  \n",
       "3   kandidklerity    kandidklerity                2  \n",
       "4    VDS Training      trainingVDS              639  "
      ]
     },
     "execution_count": 24,
     "metadata": {},
     "output_type": "execute_result"
    }
   ],
   "source": [
    "merged_tweets = tweet_df[['tweet_id', 'created_at', 'user_id_str', 'text']].merge(\n",
    "    user_df[['id_str', 'name','screen_name', 'followers_count']],\n",
    "    left_on='user_id_str',\n",
    "    right_on='id_str',\n",
    "    how='left')\n",
    "\n",
    "merged_tweets.head()"
   ]
  },
  {
   "cell_type": "markdown",
   "metadata": {},
   "source": [
    "### 3. Bin a continuous variable into a new variable.\n",
    "Since we have a bunch of users, let's bin their followers_count into equal width bins. This was a new one for me, but there is a handy pandas function for it, similar to R, called [pandas.cut](https://pandas.pydata.org/pandas-docs/stable/generated/pandas.cut.html)"
   ]
  },
  {
   "cell_type": "code",
   "execution_count": 25,
   "metadata": {},
   "outputs": [
    {
     "data": {
      "text/plain": [
       "very_low     794\n",
       "very_high      2\n",
       "high           2\n",
       "low            2\n",
       "medium         0\n",
       "Name: binned_followers, dtype: int64"
      ]
     },
     "execution_count": 25,
     "metadata": {},
     "output_type": "execute_result"
    }
   ],
   "source": [
    "merged_tweets['binned_followers'] = pd.cut(merged_tweets['followers_count'], bins=5, labels = ['very_low',\n",
    "                                                                                               'low',\n",
    "                                                                                               'medium',\n",
    "                                                                                               'high',\n",
    "                                                                                              'very_high'])\n",
    "merged_tweets['binned_followers'].value_counts()"
   ]
  },
  {
   "cell_type": "markdown",
   "metadata": {},
   "source": [
    "### 4. Binning with an equal number of members\n",
    "Cutting the followers_count into equal sized bins wasn't very helpful, since there are two users with so many followers that the ranges become unuseful.  \n",
    "\n",
    "More useful may be to use quartiles. For that, we'll have to calculate the quartiles ahead of time, then pass them into the `cut` function as the `squence of scalars`."
   ]
  },
  {
   "cell_type": "code",
   "execution_count": 26,
   "metadata": {},
   "outputs": [
    {
     "data": {
      "text/plain": [
       "Q5    160\n",
       "Q4    160\n",
       "Q3    160\n",
       "Q2    159\n",
       "Q1    157\n",
       "Name: quartile_followers, dtype: int64"
      ]
     },
     "execution_count": 26,
     "metadata": {},
     "output_type": "execute_result"
    }
   ],
   "source": [
    "bins = 5\n",
    "# use pandas.quantile function and np.linspace to generate the cutoff values for the cut-function.\n",
    "cutoffs = list(merged_tweets['followers_count'].quantile(np.linspace(0,1,bins+1)))\n",
    "\n",
    "# create some labels for our new, binned column\n",
    "labels = ['Q'+str(x) for x in range(1,bins+1)]\n",
    "\n",
    "# cut the data based on the cutoffs\n",
    "merged_tweets['quartile_followers'] = pd.cut(merged_tweets['followers_count'], cutoffs, labels = labels)\n",
    "\n",
    "# check if it worked\n",
    "merged_tweets['quartile_followers'].value_counts()"
   ]
  },
  {
   "cell_type": "markdown",
   "metadata": {},
   "source": [
    "Let's see how that worked out. We'll look at the mean, median and median and standard deviation for each quartile of follower_counts. We can use the groupby function in pandas to get these aggregates."
   ]
  },
  {
   "cell_type": "code",
   "execution_count": 27,
   "metadata": {},
   "outputs": [
    {
     "data": {
      "text/html": [
       "<div>\n",
       "<style scoped>\n",
       "    .dataframe tbody tr th:only-of-type {\n",
       "        vertical-align: middle;\n",
       "    }\n",
       "\n",
       "    .dataframe tbody tr th {\n",
       "        vertical-align: top;\n",
       "    }\n",
       "\n",
       "    .dataframe thead th {\n",
       "        text-align: right;\n",
       "    }\n",
       "</style>\n",
       "<table border=\"1\" class=\"dataframe\">\n",
       "  <thead>\n",
       "    <tr style=\"text-align: right;\">\n",
       "      <th></th>\n",
       "      <th>mean</th>\n",
       "      <th>median</th>\n",
       "      <th>std</th>\n",
       "    </tr>\n",
       "    <tr>\n",
       "      <th>quartile_followers</th>\n",
       "      <th></th>\n",
       "      <th></th>\n",
       "      <th></th>\n",
       "    </tr>\n",
       "  </thead>\n",
       "  <tbody>\n",
       "    <tr>\n",
       "      <th>Q1</th>\n",
       "      <td>48.624204</td>\n",
       "      <td>46.0</td>\n",
       "      <td>31.561380</td>\n",
       "    </tr>\n",
       "    <tr>\n",
       "      <th>Q2</th>\n",
       "      <td>213.628931</td>\n",
       "      <td>206.0</td>\n",
       "      <td>67.487416</td>\n",
       "    </tr>\n",
       "    <tr>\n",
       "      <th>Q3</th>\n",
       "      <td>499.087500</td>\n",
       "      <td>491.5</td>\n",
       "      <td>99.045786</td>\n",
       "    </tr>\n",
       "    <tr>\n",
       "      <th>Q4</th>\n",
       "      <td>978.850000</td>\n",
       "      <td>924.5</td>\n",
       "      <td>232.875225</td>\n",
       "    </tr>\n",
       "    <tr>\n",
       "      <th>Q5</th>\n",
       "      <td>15506.737500</td>\n",
       "      <td>2819.0</td>\n",
       "      <td>45246.019754</td>\n",
       "    </tr>\n",
       "  </tbody>\n",
       "</table>\n",
       "</div>"
      ],
      "text/plain": [
       "                            mean  median           std\n",
       "quartile_followers                                    \n",
       "Q1                     48.624204    46.0     31.561380\n",
       "Q2                    213.628931   206.0     67.487416\n",
       "Q3                    499.087500   491.5     99.045786\n",
       "Q4                    978.850000   924.5    232.875225\n",
       "Q5                  15506.737500  2819.0  45246.019754"
      ]
     },
     "execution_count": 27,
     "metadata": {},
     "output_type": "execute_result"
    }
   ],
   "source": [
    "merged_tweets.groupby('quartile_followers')['followers_count'].agg(['mean', 'median', 'std'])"
   ]
  },
  {
   "cell_type": "markdown",
   "metadata": {},
   "source": [
    "### Macro variable for data selection\n",
    "From Corinne: *In SAS we frequently create a list of variables by putting them in a macro variable that we use for data exploration and variable selection so that we can perform the necessary tasks for all variables easily.*\n",
    "\n",
    "Using the user_df data frame, let's pick a subset of data for our macro variable. The macro variable will be a list with the column names we want."
   ]
  },
  {
   "cell_type": "code",
   "execution_count": 28,
   "metadata": {},
   "outputs": [
    {
     "data": {
      "text/plain": [
       "['id',\n",
       " 'id_str',\n",
       " 'name',\n",
       " 'screen_name',\n",
       " 'location',\n",
       " 'followers_count',\n",
       " 'friends_count',\n",
       " 'favourites_count',\n",
       " 'description',\n",
       " 'geo_enabled',\n",
       " 'lang',\n",
       " 'statuses_count',\n",
       " 'time_zone',\n",
       " 'created_at',\n",
       " 'verified',\n",
       " 'utc_offset',\n",
       " 'contributors_enabled',\n",
       " 'listed_count',\n",
       " 'protected',\n",
       " 'url',\n",
       " 'state']"
      ]
     },
     "execution_count": 28,
     "metadata": {},
     "output_type": "execute_result"
    }
   ],
   "source": [
    "# Show the list of all columns\n",
    "list(user_df.columns)"
   ]
  },
  {
   "cell_type": "code",
   "execution_count": 29,
   "metadata": {},
   "outputs": [
    {
     "data": {
      "text/html": [
       "<div>\n",
       "<style scoped>\n",
       "    .dataframe tbody tr th:only-of-type {\n",
       "        vertical-align: middle;\n",
       "    }\n",
       "\n",
       "    .dataframe tbody tr th {\n",
       "        vertical-align: top;\n",
       "    }\n",
       "\n",
       "    .dataframe thead th {\n",
       "        text-align: right;\n",
       "    }\n",
       "</style>\n",
       "<table border=\"1\" class=\"dataframe\">\n",
       "  <thead>\n",
       "    <tr style=\"text-align: right;\">\n",
       "      <th></th>\n",
       "      <th>followers_count</th>\n",
       "      <th>friends_count</th>\n",
       "      <th>favourites_count</th>\n",
       "      <th>statuses_count</th>\n",
       "      <th>listed_count</th>\n",
       "    </tr>\n",
       "  </thead>\n",
       "  <tbody>\n",
       "    <tr>\n",
       "      <th>0</th>\n",
       "      <td>318516</td>\n",
       "      <td>29</td>\n",
       "      <td>94</td>\n",
       "      <td>81056</td>\n",
       "      <td>6709</td>\n",
       "    </tr>\n",
       "    <tr>\n",
       "      <th>1</th>\n",
       "      <td>10024</td>\n",
       "      <td>6808</td>\n",
       "      <td>21156</td>\n",
       "      <td>106425</td>\n",
       "      <td>577</td>\n",
       "    </tr>\n",
       "    <tr>\n",
       "      <th>2</th>\n",
       "      <td>10442</td>\n",
       "      <td>235</td>\n",
       "      <td>4417</td>\n",
       "      <td>17786</td>\n",
       "      <td>548</td>\n",
       "    </tr>\n",
       "    <tr>\n",
       "      <th>3</th>\n",
       "      <td>765</td>\n",
       "      <td>850</td>\n",
       "      <td>32</td>\n",
       "      <td>1946</td>\n",
       "      <td>48</td>\n",
       "    </tr>\n",
       "    <tr>\n",
       "      <th>4</th>\n",
       "      <td>55961</td>\n",
       "      <td>869</td>\n",
       "      <td>11642</td>\n",
       "      <td>22157</td>\n",
       "      <td>1889</td>\n",
       "    </tr>\n",
       "  </tbody>\n",
       "</table>\n",
       "</div>"
      ],
      "text/plain": [
       "   followers_count  friends_count  favourites_count  statuses_count  \\\n",
       "0           318516             29                94           81056   \n",
       "1            10024           6808             21156          106425   \n",
       "2            10442            235              4417           17786   \n",
       "3              765            850                32            1946   \n",
       "4            55961            869             11642           22157   \n",
       "\n",
       "   listed_count  \n",
       "0          6709  \n",
       "1           577  \n",
       "2           548  \n",
       "3            48  \n",
       "4          1889  "
      ]
     },
     "execution_count": 29,
     "metadata": {},
     "output_type": "execute_result"
    }
   ],
   "source": [
    "# Create our subset variable - let's pick all the numerical fields\n",
    "col_subset = [\n",
    "    'followers_count',\n",
    "    'friends_count',\n",
    "    'favourites_count',\n",
    "    'statuses_count',\n",
    "    'listed_count']\n",
    "\n",
    "# Now we can use this variable to select from the data:\n",
    "user_df[col_subset].head()"
   ]
  },
  {
   "cell_type": "markdown",
   "metadata": {},
   "source": [
    "### 5. Create a two way frequency table\n",
    "Back to our classified tweet data, we have different topics (multiple) and we have classification (binary). We can create a two-way frequency table showing the number of each class in each topic. We can use panads.crosstab to get to this result."
   ]
  },
  {
   "cell_type": "code",
   "execution_count": 30,
   "metadata": {},
   "outputs": [
    {
     "data": {
      "text/html": [
       "<div>\n",
       "<style scoped>\n",
       "    .dataframe tbody tr th:only-of-type {\n",
       "        vertical-align: middle;\n",
       "    }\n",
       "\n",
       "    .dataframe tbody tr th {\n",
       "        vertical-align: top;\n",
       "    }\n",
       "\n",
       "    .dataframe thead th {\n",
       "        text-align: right;\n",
       "    }\n",
       "</style>\n",
       "<table border=\"1\" class=\"dataframe\">\n",
       "  <thead>\n",
       "    <tr style=\"text-align: right;\">\n",
       "      <th>class</th>\n",
       "      <th>0</th>\n",
       "      <th>1</th>\n",
       "    </tr>\n",
       "    <tr>\n",
       "      <th>topic</th>\n",
       "      <th></th>\n",
       "      <th></th>\n",
       "    </tr>\n",
       "  </thead>\n",
       "  <tbody>\n",
       "    <tr>\n",
       "      <th>Birth</th>\n",
       "      <td>172</td>\n",
       "      <td>27</td>\n",
       "    </tr>\n",
       "    <tr>\n",
       "      <th>Divorce</th>\n",
       "      <td>213</td>\n",
       "      <td>13</td>\n",
       "    </tr>\n",
       "    <tr>\n",
       "      <th>Graduation</th>\n",
       "      <td>149</td>\n",
       "      <td>77</td>\n",
       "    </tr>\n",
       "    <tr>\n",
       "      <th>Marriage</th>\n",
       "      <td>196</td>\n",
       "      <td>45</td>\n",
       "    </tr>\n",
       "    <tr>\n",
       "      <th>Moving</th>\n",
       "      <td>196</td>\n",
       "      <td>44</td>\n",
       "    </tr>\n",
       "  </tbody>\n",
       "</table>\n",
       "</div>"
      ],
      "text/plain": [
       "class         0   1\n",
       "topic              \n",
       "Birth       172  27\n",
       "Divorce     213  13\n",
       "Graduation  149  77\n",
       "Marriage    196  45\n",
       "Moving      196  44"
      ]
     },
     "execution_count": 30,
     "metadata": {},
     "output_type": "execute_result"
    }
   ],
   "source": [
    "two_way = pd.crosstab(t_data['topic'],t_data['class'])\n",
    "two_way"
   ]
  },
  {
   "cell_type": "markdown",
   "metadata": {},
   "source": [
    "You can also use the pivot_table function to get to the same results."
   ]
  },
  {
   "cell_type": "code",
   "execution_count": 31,
   "metadata": {},
   "outputs": [],
   "source": [
    "two_way_pivot = t_data.pivot_table(index='topic', columns = 'class', aggfunc=len)"
   ]
  },
  {
   "cell_type": "markdown",
   "metadata": {},
   "source": [
    "Both of these results have a multi-part index, making it a little complicated to subset the results. Since it has a multiple index, you have to pass values or criteria for both components of the index."
   ]
  },
  {
   "cell_type": "code",
   "execution_count": 32,
   "metadata": {},
   "outputs": [
    {
     "data": {
      "text/html": [
       "<div>\n",
       "<style scoped>\n",
       "    .dataframe tbody tr th:only-of-type {\n",
       "        vertical-align: middle;\n",
       "    }\n",
       "\n",
       "    .dataframe tbody tr th {\n",
       "        vertical-align: top;\n",
       "    }\n",
       "\n",
       "    .dataframe thead th {\n",
       "        text-align: right;\n",
       "    }\n",
       "</style>\n",
       "<table border=\"1\" class=\"dataframe\">\n",
       "  <thead>\n",
       "    <tr style=\"text-align: right;\">\n",
       "      <th>class</th>\n",
       "      <th>0</th>\n",
       "      <th>1</th>\n",
       "    </tr>\n",
       "    <tr>\n",
       "      <th>topic</th>\n",
       "      <th></th>\n",
       "      <th></th>\n",
       "    </tr>\n",
       "  </thead>\n",
       "  <tbody>\n",
       "    <tr>\n",
       "      <th>Marriage</th>\n",
       "      <td>196</td>\n",
       "      <td>45</td>\n",
       "    </tr>\n",
       "    <tr>\n",
       "      <th>Moving</th>\n",
       "      <td>196</td>\n",
       "      <td>44</td>\n",
       "    </tr>\n",
       "  </tbody>\n",
       "</table>\n",
       "</div>"
      ],
      "text/plain": [
       "class       0   1\n",
       "topic            \n",
       "Marriage  196  45\n",
       "Moving    196  44"
      ]
     },
     "execution_count": 32,
     "metadata": {},
     "output_type": "execute_result"
    }
   ],
   "source": [
    "two_way.loc[(['Marriage','Moving'],[0,1])]"
   ]
  },
  {
   "cell_type": "code",
   "execution_count": 33,
   "metadata": {},
   "outputs": [
    {
     "data": {
      "text/html": [
       "<div>\n",
       "<style scoped>\n",
       "    .dataframe tbody tr th:only-of-type {\n",
       "        vertical-align: middle;\n",
       "    }\n",
       "\n",
       "    .dataframe tbody tr th {\n",
       "        vertical-align: top;\n",
       "    }\n",
       "\n",
       "    .dataframe thead tr th {\n",
       "        text-align: left;\n",
       "    }\n",
       "\n",
       "    .dataframe thead tr:last-of-type th {\n",
       "        text-align: right;\n",
       "    }\n",
       "</style>\n",
       "<table border=\"1\" class=\"dataframe\">\n",
       "  <thead>\n",
       "    <tr>\n",
       "      <th></th>\n",
       "      <th colspan=\"2\" halign=\"left\">text</th>\n",
       "    </tr>\n",
       "    <tr>\n",
       "      <th>class</th>\n",
       "      <th>0</th>\n",
       "      <th>1</th>\n",
       "    </tr>\n",
       "    <tr>\n",
       "      <th>topic</th>\n",
       "      <th></th>\n",
       "      <th></th>\n",
       "    </tr>\n",
       "  </thead>\n",
       "  <tbody>\n",
       "    <tr>\n",
       "      <th>Marriage</th>\n",
       "      <td>196</td>\n",
       "      <td>45</td>\n",
       "    </tr>\n",
       "    <tr>\n",
       "      <th>Moving</th>\n",
       "      <td>196</td>\n",
       "      <td>44</td>\n",
       "    </tr>\n",
       "  </tbody>\n",
       "</table>\n",
       "</div>"
      ],
      "text/plain": [
       "         text    \n",
       "class       0   1\n",
       "topic            \n",
       "Marriage  196  45\n",
       "Moving    196  44"
      ]
     },
     "execution_count": 33,
     "metadata": {},
     "output_type": "execute_result"
    }
   ],
   "source": [
    "two_way_pivot.loc[['Marriage','Moving']]"
   ]
  },
  {
   "cell_type": "markdown",
   "metadata": {},
   "source": [
    "This pivot approach seems to be more difficult to subset, as doesn't like my second part of the index."
   ]
  },
  {
   "cell_type": "markdown",
   "metadata": {},
   "source": [
    "### Chi-Squared independence test, statistic and p-value\n",
    "[Scipy](https://docs.scipy.org/doc/scipy-0.15.1/reference/generated/scipy.stats.chi2_contingency.html) has a good function for this. We can subset the crosstab to only grab the 0 and 1 columns and use that as our contingency table. The results from this function are, in order:\n",
    "* chi2 : float, The test statistic.\n",
    "* p : float, The p-value of the test\n",
    "* dof : int, Degrees of freedom\n",
    "* expected : ndarray, same shape as observed, The expected frequencies, based on the marginal sums of the table."
   ]
  },
  {
   "cell_type": "code",
   "execution_count": 34,
   "metadata": {},
   "outputs": [],
   "source": [
    "chi2 = chi2_contingency(two_way[[0,1]])"
   ]
  },
  {
   "cell_type": "code",
   "execution_count": 35,
   "metadata": {},
   "outputs": [
    {
     "data": {
      "text/plain": [
       "(64.6713594960832,\n",
       " 3.0178804528059226e-13,\n",
       " 4,\n",
       " array([[162.78621908,  36.21378092],\n",
       "        [184.87279152,  41.12720848],\n",
       "        [184.87279152,  41.12720848],\n",
       "        [197.14310954,  43.85689046],\n",
       "        [196.32508834,  43.67491166]]))"
      ]
     },
     "execution_count": 35,
     "metadata": {},
     "output_type": "execute_result"
    }
   ],
   "source": [
    "chi2"
   ]
  },
  {
   "cell_type": "markdown",
   "metadata": {},
   "source": [
    "### 6. How to generate a summary of interval/continuous/numeric variables including\n",
    "* Basic statistics like the mean, median, percentiles, standard deviation, etc.\n",
    "* Confidence intervals around the mean\n",
    "\n",
    "A quick way to get to some of this information is with the `describe` function on a dataframe. By default, this will only describe numeric variables:"
   ]
  },
  {
   "cell_type": "code",
   "execution_count": 36,
   "metadata": {},
   "outputs": [
    {
     "data": {
      "text/html": [
       "<div>\n",
       "<style scoped>\n",
       "    .dataframe tbody tr th:only-of-type {\n",
       "        vertical-align: middle;\n",
       "    }\n",
       "\n",
       "    .dataframe tbody tr th {\n",
       "        vertical-align: top;\n",
       "    }\n",
       "\n",
       "    .dataframe thead th {\n",
       "        text-align: right;\n",
       "    }\n",
       "</style>\n",
       "<table border=\"1\" class=\"dataframe\">\n",
       "  <thead>\n",
       "    <tr style=\"text-align: right;\">\n",
       "      <th></th>\n",
       "      <th>tweet_id</th>\n",
       "      <th>user_id_str</th>\n",
       "      <th>id_str</th>\n",
       "      <th>followers_count</th>\n",
       "    </tr>\n",
       "  </thead>\n",
       "  <tbody>\n",
       "    <tr>\n",
       "      <th>count</th>\n",
       "      <td>8.000000e+02</td>\n",
       "      <td>8.000000e+02</td>\n",
       "      <td>8.000000e+02</td>\n",
       "      <td>800.000000</td>\n",
       "    </tr>\n",
       "    <tr>\n",
       "      <th>mean</th>\n",
       "      <td>1.002401e+18</td>\n",
       "      <td>2.188585e+17</td>\n",
       "      <td>2.188585e+17</td>\n",
       "      <td>3448.936250</td>\n",
       "    </tr>\n",
       "    <tr>\n",
       "      <th>std</th>\n",
       "      <td>2.526354e+16</td>\n",
       "      <td>3.834958e+17</td>\n",
       "      <td>3.834958e+17</td>\n",
       "      <td>21068.881171</td>\n",
       "    </tr>\n",
       "    <tr>\n",
       "      <th>min</th>\n",
       "      <td>9.712287e+17</td>\n",
       "      <td>8.192222e+06</td>\n",
       "      <td>8.192222e+06</td>\n",
       "      <td>0.000000</td>\n",
       "    </tr>\n",
       "    <tr>\n",
       "      <th>25%</th>\n",
       "      <td>9.721836e+17</td>\n",
       "      <td>3.141865e+08</td>\n",
       "      <td>3.141865e+08</td>\n",
       "      <td>156.250000</td>\n",
       "    </tr>\n",
       "    <tr>\n",
       "      <th>50%</th>\n",
       "      <td>1.015113e+18</td>\n",
       "      <td>1.467469e+09</td>\n",
       "      <td>1.467469e+09</td>\n",
       "      <td>491.500000</td>\n",
       "    </tr>\n",
       "    <tr>\n",
       "      <th>75%</th>\n",
       "      <td>1.025432e+18</td>\n",
       "      <td>4.914693e+09</td>\n",
       "      <td>4.914693e+09</td>\n",
       "      <td>1134.500000</td>\n",
       "    </tr>\n",
       "    <tr>\n",
       "      <th>max</th>\n",
       "      <td>1.026743e+18</td>\n",
       "      <td>1.026092e+18</td>\n",
       "      <td>1.026092e+18</td>\n",
       "      <td>318516.000000</td>\n",
       "    </tr>\n",
       "  </tbody>\n",
       "</table>\n",
       "</div>"
      ],
      "text/plain": [
       "           tweet_id   user_id_str        id_str  followers_count\n",
       "count  8.000000e+02  8.000000e+02  8.000000e+02       800.000000\n",
       "mean   1.002401e+18  2.188585e+17  2.188585e+17      3448.936250\n",
       "std    2.526354e+16  3.834958e+17  3.834958e+17     21068.881171\n",
       "min    9.712287e+17  8.192222e+06  8.192222e+06         0.000000\n",
       "25%    9.721836e+17  3.141865e+08  3.141865e+08       156.250000\n",
       "50%    1.015113e+18  1.467469e+09  1.467469e+09       491.500000\n",
       "75%    1.025432e+18  4.914693e+09  4.914693e+09      1134.500000\n",
       "max    1.026743e+18  1.026092e+18  1.026092e+18    318516.000000"
      ]
     },
     "execution_count": 36,
     "metadata": {},
     "output_type": "execute_result"
    }
   ],
   "source": [
    "merged_tweets.describe()"
   ]
  },
  {
   "cell_type": "markdown",
   "metadata": {},
   "source": [
    "If we add `include='all'` we'll get descriptive date on the rest of the columns, with a bunch of 'NaN' for irrelevant statistics."
   ]
  },
  {
   "cell_type": "code",
   "execution_count": 37,
   "metadata": {},
   "outputs": [
    {
     "data": {
      "text/html": [
       "<div>\n",
       "<style scoped>\n",
       "    .dataframe tbody tr th:only-of-type {\n",
       "        vertical-align: middle;\n",
       "    }\n",
       "\n",
       "    .dataframe tbody tr th {\n",
       "        vertical-align: top;\n",
       "    }\n",
       "\n",
       "    .dataframe thead th {\n",
       "        text-align: right;\n",
       "    }\n",
       "</style>\n",
       "<table border=\"1\" class=\"dataframe\">\n",
       "  <thead>\n",
       "    <tr style=\"text-align: right;\">\n",
       "      <th></th>\n",
       "      <th>tweet_id</th>\n",
       "      <th>created_at</th>\n",
       "      <th>user_id_str</th>\n",
       "      <th>text</th>\n",
       "      <th>id_str</th>\n",
       "      <th>name</th>\n",
       "      <th>screen_name</th>\n",
       "      <th>followers_count</th>\n",
       "      <th>binned_followers</th>\n",
       "      <th>quartile_followers</th>\n",
       "    </tr>\n",
       "  </thead>\n",
       "  <tbody>\n",
       "    <tr>\n",
       "      <th>count</th>\n",
       "      <td>8.000000e+02</td>\n",
       "      <td>800</td>\n",
       "      <td>8.000000e+02</td>\n",
       "      <td>800</td>\n",
       "      <td>8.000000e+02</td>\n",
       "      <td>782</td>\n",
       "      <td>800</td>\n",
       "      <td>800.000000</td>\n",
       "      <td>800</td>\n",
       "      <td>796</td>\n",
       "    </tr>\n",
       "    <tr>\n",
       "      <th>unique</th>\n",
       "      <td>NaN</td>\n",
       "      <td>704</td>\n",
       "      <td>NaN</td>\n",
       "      <td>699</td>\n",
       "      <td>NaN</td>\n",
       "      <td>689</td>\n",
       "      <td>724</td>\n",
       "      <td>NaN</td>\n",
       "      <td>4</td>\n",
       "      <td>5</td>\n",
       "    </tr>\n",
       "    <tr>\n",
       "      <th>top</th>\n",
       "      <td>NaN</td>\n",
       "      <td>2018-08-03 15:52:45</td>\n",
       "      <td>NaN</td>\n",
       "      <td>RT @MooseWD: Quick update from me: I found the...</td>\n",
       "      <td>NaN</td>\n",
       "      <td></td>\n",
       "      <td>trinityhercules</td>\n",
       "      <td>NaN</td>\n",
       "      <td>very_low</td>\n",
       "      <td>Q5</td>\n",
       "    </tr>\n",
       "    <tr>\n",
       "      <th>freq</th>\n",
       "      <td>NaN</td>\n",
       "      <td>4</td>\n",
       "      <td>NaN</td>\n",
       "      <td>8</td>\n",
       "      <td>NaN</td>\n",
       "      <td>7</td>\n",
       "      <td>2</td>\n",
       "      <td>NaN</td>\n",
       "      <td>794</td>\n",
       "      <td>160</td>\n",
       "    </tr>\n",
       "    <tr>\n",
       "      <th>first</th>\n",
       "      <td>NaN</td>\n",
       "      <td>2018-03-07 03:39:12</td>\n",
       "      <td>NaN</td>\n",
       "      <td>NaN</td>\n",
       "      <td>NaN</td>\n",
       "      <td>NaN</td>\n",
       "      <td>NaN</td>\n",
       "      <td>NaN</td>\n",
       "      <td>NaN</td>\n",
       "      <td>NaN</td>\n",
       "    </tr>\n",
       "    <tr>\n",
       "      <th>last</th>\n",
       "      <td>NaN</td>\n",
       "      <td>2018-08-07 08:13:59</td>\n",
       "      <td>NaN</td>\n",
       "      <td>NaN</td>\n",
       "      <td>NaN</td>\n",
       "      <td>NaN</td>\n",
       "      <td>NaN</td>\n",
       "      <td>NaN</td>\n",
       "      <td>NaN</td>\n",
       "      <td>NaN</td>\n",
       "    </tr>\n",
       "    <tr>\n",
       "      <th>mean</th>\n",
       "      <td>1.002401e+18</td>\n",
       "      <td>NaN</td>\n",
       "      <td>2.188585e+17</td>\n",
       "      <td>NaN</td>\n",
       "      <td>2.188585e+17</td>\n",
       "      <td>NaN</td>\n",
       "      <td>NaN</td>\n",
       "      <td>3448.936250</td>\n",
       "      <td>NaN</td>\n",
       "      <td>NaN</td>\n",
       "    </tr>\n",
       "    <tr>\n",
       "      <th>std</th>\n",
       "      <td>2.526354e+16</td>\n",
       "      <td>NaN</td>\n",
       "      <td>3.834958e+17</td>\n",
       "      <td>NaN</td>\n",
       "      <td>3.834958e+17</td>\n",
       "      <td>NaN</td>\n",
       "      <td>NaN</td>\n",
       "      <td>21068.881171</td>\n",
       "      <td>NaN</td>\n",
       "      <td>NaN</td>\n",
       "    </tr>\n",
       "    <tr>\n",
       "      <th>min</th>\n",
       "      <td>9.712287e+17</td>\n",
       "      <td>NaN</td>\n",
       "      <td>8.192222e+06</td>\n",
       "      <td>NaN</td>\n",
       "      <td>8.192222e+06</td>\n",
       "      <td>NaN</td>\n",
       "      <td>NaN</td>\n",
       "      <td>0.000000</td>\n",
       "      <td>NaN</td>\n",
       "      <td>NaN</td>\n",
       "    </tr>\n",
       "    <tr>\n",
       "      <th>25%</th>\n",
       "      <td>9.721836e+17</td>\n",
       "      <td>NaN</td>\n",
       "      <td>3.141865e+08</td>\n",
       "      <td>NaN</td>\n",
       "      <td>3.141865e+08</td>\n",
       "      <td>NaN</td>\n",
       "      <td>NaN</td>\n",
       "      <td>156.250000</td>\n",
       "      <td>NaN</td>\n",
       "      <td>NaN</td>\n",
       "    </tr>\n",
       "    <tr>\n",
       "      <th>50%</th>\n",
       "      <td>1.015113e+18</td>\n",
       "      <td>NaN</td>\n",
       "      <td>1.467469e+09</td>\n",
       "      <td>NaN</td>\n",
       "      <td>1.467469e+09</td>\n",
       "      <td>NaN</td>\n",
       "      <td>NaN</td>\n",
       "      <td>491.500000</td>\n",
       "      <td>NaN</td>\n",
       "      <td>NaN</td>\n",
       "    </tr>\n",
       "    <tr>\n",
       "      <th>75%</th>\n",
       "      <td>1.025432e+18</td>\n",
       "      <td>NaN</td>\n",
       "      <td>4.914693e+09</td>\n",
       "      <td>NaN</td>\n",
       "      <td>4.914693e+09</td>\n",
       "      <td>NaN</td>\n",
       "      <td>NaN</td>\n",
       "      <td>1134.500000</td>\n",
       "      <td>NaN</td>\n",
       "      <td>NaN</td>\n",
       "    </tr>\n",
       "    <tr>\n",
       "      <th>max</th>\n",
       "      <td>1.026743e+18</td>\n",
       "      <td>NaN</td>\n",
       "      <td>1.026092e+18</td>\n",
       "      <td>NaN</td>\n",
       "      <td>1.026092e+18</td>\n",
       "      <td>NaN</td>\n",
       "      <td>NaN</td>\n",
       "      <td>318516.000000</td>\n",
       "      <td>NaN</td>\n",
       "      <td>NaN</td>\n",
       "    </tr>\n",
       "  </tbody>\n",
       "</table>\n",
       "</div>"
      ],
      "text/plain": [
       "            tweet_id           created_at   user_id_str  \\\n",
       "count   8.000000e+02                  800  8.000000e+02   \n",
       "unique           NaN                  704           NaN   \n",
       "top              NaN  2018-08-03 15:52:45           NaN   \n",
       "freq             NaN                    4           NaN   \n",
       "first            NaN  2018-03-07 03:39:12           NaN   \n",
       "last             NaN  2018-08-07 08:13:59           NaN   \n",
       "mean    1.002401e+18                  NaN  2.188585e+17   \n",
       "std     2.526354e+16                  NaN  3.834958e+17   \n",
       "min     9.712287e+17                  NaN  8.192222e+06   \n",
       "25%     9.721836e+17                  NaN  3.141865e+08   \n",
       "50%     1.015113e+18                  NaN  1.467469e+09   \n",
       "75%     1.025432e+18                  NaN  4.914693e+09   \n",
       "max     1.026743e+18                  NaN  1.026092e+18   \n",
       "\n",
       "                                                     text        id_str name  \\\n",
       "count                                                 800  8.000000e+02  782   \n",
       "unique                                                699           NaN  689   \n",
       "top     RT @MooseWD: Quick update from me: I found the...           NaN        \n",
       "freq                                                    8           NaN    7   \n",
       "first                                                 NaN           NaN  NaN   \n",
       "last                                                  NaN           NaN  NaN   \n",
       "mean                                                  NaN  2.188585e+17  NaN   \n",
       "std                                                   NaN  3.834958e+17  NaN   \n",
       "min                                                   NaN  8.192222e+06  NaN   \n",
       "25%                                                   NaN  3.141865e+08  NaN   \n",
       "50%                                                   NaN  1.467469e+09  NaN   \n",
       "75%                                                   NaN  4.914693e+09  NaN   \n",
       "max                                                   NaN  1.026092e+18  NaN   \n",
       "\n",
       "            screen_name  followers_count binned_followers quartile_followers  \n",
       "count               800       800.000000              800                796  \n",
       "unique              724              NaN                4                  5  \n",
       "top     trinityhercules              NaN         very_low                 Q5  \n",
       "freq                  2              NaN              794                160  \n",
       "first               NaN              NaN              NaN                NaN  \n",
       "last                NaN              NaN              NaN                NaN  \n",
       "mean                NaN      3448.936250              NaN                NaN  \n",
       "std                 NaN     21068.881171              NaN                NaN  \n",
       "min                 NaN         0.000000              NaN                NaN  \n",
       "25%                 NaN       156.250000              NaN                NaN  \n",
       "50%                 NaN       491.500000              NaN                NaN  \n",
       "75%                 NaN      1134.500000              NaN                NaN  \n",
       "max                 NaN    318516.000000              NaN                NaN  "
      ]
     },
     "execution_count": 37,
     "metadata": {},
     "output_type": "execute_result"
    }
   ],
   "source": [
    "merged_tweets.describe(include='all')"
   ]
  },
  {
   "cell_type": "markdown",
   "metadata": {},
   "source": [
    "Since this gives you the standard deviation for numeric fields, you can use that to create confidence intervals as needed. Here's how you can pull values out of this function - let's say we want the standard deviation for the followers_count:"
   ]
  },
  {
   "cell_type": "code",
   "execution_count": 38,
   "metadata": {},
   "outputs": [
    {
     "data": {
      "text/plain": [
       "21068.88117115957"
      ]
     },
     "execution_count": 38,
     "metadata": {},
     "output_type": "execute_result"
    }
   ],
   "source": [
    "# set the description to a data frame variable, then pull the value as a subset\n",
    "desc = merged_tweets.describe(include='all')\n",
    "desc.loc['std','followers_count']"
   ]
  },
  {
   "cell_type": "code",
   "execution_count": 39,
   "metadata": {},
   "outputs": [
    {
     "data": {
      "text/plain": [
       "21068.88117115957"
      ]
     },
     "execution_count": 39,
     "metadata": {},
     "output_type": "execute_result"
    }
   ],
   "source": [
    "# or call the function and pull the value directly from the results, if there's no other need for that data.\n",
    "merged_tweets.describe().loc['std','followers_count']"
   ]
  },
  {
   "cell_type": "code",
   "execution_count": 40,
   "metadata": {},
   "outputs": [
    {
     "data": {
      "text/plain": [
       "21068.88117115957"
      ]
     },
     "execution_count": 40,
     "metadata": {},
     "output_type": "execute_result"
    }
   ],
   "source": [
    "# Double checking that it's right using the standard deviation function (std)\n",
    "merged_tweets['followers_count'].std()"
   ]
  },
  {
   "cell_type": "markdown",
   "metadata": {},
   "source": [
    "### 7. How to generate a Kolmogorov-Smirnov test for difference between cumulative distribution functions\n",
    "* Given an interval/continuous/numeric variable and a binary (target) variable \n",
    "* Compare the empirical cumulative distributions between the two values of the binary variable\n",
    "* Including the K-S maximum separation, and p-value\n",
    "\n",
    "Here is the [scipy](https://docs.scipy.org/doc/scipy-0.14.0/reference/generated/scipy.stats.ks_2samp.html) documentation for their 2-sample KS test."
   ]
  },
  {
   "cell_type": "markdown",
   "metadata": {},
   "source": [
    "#### Binary Variable\n",
    "For our binary variable, let's create a variable in our user data that's US (yes or no) by gathering up all of the US timezones. Then we'll look at the KS test comparing followers counts to see if East Coasters have more followers than non-East Coasters."
   ]
  },
  {
   "cell_type": "code",
   "execution_count": 41,
   "metadata": {},
   "outputs": [
    {
     "name": "stdout",
     "output_type": "stream",
     "text": [
      "N1 = 89 \n",
      "N2 = 635\n"
     ]
    }
   ],
   "source": [
    "# Gathering US timezones from the data:\n",
    "us_timezones = ['Pacific Time (US & Canada)',\n",
    "                'Central Time (US & Canada)',\n",
    "                'Eastern Time (US & Canada)',\n",
    "                'Mountain Time (US & Canada)',\n",
    "               'Arizona',\n",
    "               'America/Los_Angeles',\n",
    "               'Indiana (East)',\n",
    "               'Alaska',\n",
    "                'America/New_York']\n",
    "\n",
    "# Split the data into two samples\n",
    "sample_1 = user_df.loc[user_df.time_zone.isin(us_timezones), 'followers_count']\n",
    "sample_2 = user_df.loc[~user_df.time_zone.isin(us_timezones), 'followers_count']\n",
    "\n",
    "#Check the sizes of the two samples:\n",
    "print('N1 = {} \\nN2 = {}'.format(len(sample_1), len(sample_2)))"
   ]
  },
  {
   "cell_type": "code",
   "execution_count": 42,
   "metadata": {},
   "outputs": [
    {
     "data": {
      "text/plain": [
       "Ks_2sampResult(statistic=0.09441741130673276, pvalue=0.47035384741490055)"
      ]
     },
     "execution_count": 42,
     "metadata": {},
     "output_type": "execute_result"
    }
   ],
   "source": [
    "ks_2samp(sample_1, sample_2)"
   ]
  },
  {
   "cell_type": "markdown",
   "metadata": {},
   "source": [
    "Since the null-hypothesis of this test is that they from the same distribution. With this large p-value, we cannot reject the null-hypothesis and the differences between the two distributions are not statistically significant.\n",
    "\n",
    "### 2-Sample KS Plot\n",
    "Let's make the typical cumulative distribution plot for these two samples to see if the KS results seem reasonable."
   ]
  },
  {
   "cell_type": "code",
   "execution_count": 43,
   "metadata": {},
   "outputs": [],
   "source": [
    "n1 = len(sample_1)\n",
    "n2 = len(sample_2)\n",
    "\n",
    "cdf1 = [x/n1 for x in range(0,n1)]\n",
    "cdf2 = [x/n2 for x in range(0,n2)]"
   ]
  },
  {
   "cell_type": "code",
   "execution_count": 44,
   "metadata": {},
   "outputs": [
    {
     "data": {
      "text/plain": [
       "Text(0.5,1,'2-Sample KS Plot')"
      ]
     },
     "execution_count": 44,
     "metadata": {},
     "output_type": "execute_result"
    },
    {
     "data": {
      "image/png": "[encoded data removed]",
      "text/plain": [
       "<Figure size 432x288 with 1 Axes>"
      ]
     },
     "metadata": {},
     "output_type": "display_data"
    }
   ],
   "source": [
    "# plt.figure(figsize = (10,5))\n",
    "plt.plot(sample_1.sort_values().tolist(), cdf1, lw=1.5, label = 'US', color='blue')\n",
    "plt.plot(sample_2.sort_values().tolist(), cdf2, lw=1.5, label = 'Non-US', color='red')\n",
    "\n",
    "plt.legend( loc = 8) \n",
    "plt.axis('tight') \n",
    "plt.xlabel('Followers Count') \n",
    "plt.ylabel('Cumulative Probability') \n",
    "plt.title('2-Sample KS Plot') "
   ]
  },
  {
   "cell_type": "markdown",
   "metadata": {},
   "source": [
    "This plot is a little ridiculous looking because of some large outliers. Let's look again for users under a cutoff value."
   ]
  },
  {
   "cell_type": "code",
   "execution_count": 45,
   "metadata": {},
   "outputs": [
    {
     "name": "stdout",
     "output_type": "stream",
     "text": [
      "N1a = 84 \n",
      "N2a = 597\n"
     ]
    }
   ],
   "source": [
    "cutoff = 5000\n",
    "\n",
    "# Split the data into two samples\n",
    "sample_1a = user_df.loc[(user_df.time_zone.isin(us_timezones)) & (user_df.followers_count < cutoff), 'followers_count']\n",
    "sample_2a = user_df.loc[(~user_df.time_zone.isin(us_timezones)) & (user_df.followers_count < cutoff), 'followers_count']\n",
    "\n",
    "#Check the sizes of the two samples:\n",
    "print('N1a = {} \\nN2a = {}'.format(len(sample_1a), len(sample_2a)))"
   ]
  },
  {
   "cell_type": "code",
   "execution_count": 46,
   "metadata": {},
   "outputs": [
    {
     "data": {
      "text/plain": [
       "Ks_2sampResult(statistic=0.1018186168939938, pvalue=0.41055957117237946)"
      ]
     },
     "execution_count": 46,
     "metadata": {},
     "output_type": "execute_result"
    }
   ],
   "source": [
    "ks_2samp(sample_1a, sample_2a)"
   ]
  },
  {
   "cell_type": "markdown",
   "metadata": {},
   "source": [
    "Still getting a very small test-statistic and large p-value, so we cannot conclude that they are from different distributions."
   ]
  },
  {
   "cell_type": "code",
   "execution_count": 47,
   "metadata": {},
   "outputs": [
    {
     "data": {
      "text/plain": [
       "Text(0.5,1,'2-Sample KS Plot - Under 5000 Followers')"
      ]
     },
     "execution_count": 47,
     "metadata": {},
     "output_type": "execute_result"
    },
    {
     "data": {
      "image/png": "[encoded data removed]",
      "text/plain": [
       "<Figure size 504x288 with 1 Axes>"
      ]
     },
     "metadata": {},
     "output_type": "display_data"
    }
   ],
   "source": [
    "n1a = len(sample_1a)\n",
    "n2a = len(sample_2a)\n",
    "\n",
    "cdf1a = [x/n1a for x in range(0,n1a)]\n",
    "cdf2a = [x/n2a for x in range(0,n2a)]\n",
    "\n",
    "# Remake the plot\n",
    "plt.figure(figsize = (7,4))\n",
    "plt.plot(sample_1a.sort_values().tolist(), cdf1a, lw=1.5, label = 'US', color='blue')\n",
    "plt.plot(sample_2a.sort_values().tolist(), cdf2a, lw=1.5, label = 'Non-US', color='red')\n",
    "\n",
    "plt.legend( loc = 8) \n",
    "plt.axis('tight') \n",
    "plt.xlabel('Followers Count') \n",
    "plt.ylabel('Cumulative Probability') \n",
    "plt.title('2-Sample KS Plot - Under {} Followers'.format(cutoff)) "
   ]
  },
  {
   "cell_type": "markdown",
   "metadata": {},
   "source": [
    "### 8. How to create a bar chart for a categorical variable versus a binary variable\n",
    "* The categories of the categorical variable along the vertical axis\n",
    "* The mean/percentage of the binary variable (1 values) along the horizontal axis\n",
    "* Confidence intervals at the ends of the bars\n",
    "\n",
    "### General plotting\n",
    "We can use matplotlib for all of our plotting needs. It is pretty much the Python counterpart to ggplot2. We showed the hooks from pandas into matplotlib above. Here's how plots can be built and customized using matplotlib directly.\n",
    "\n",
    "We'll use the tweet data (`t_data`) with all topics and classes for starters."
   ]
  },
  {
   "cell_type": "code",
   "execution_count": 48,
   "metadata": {},
   "outputs": [
    {
     "data": {
      "text/html": [
       "<div>\n",
       "<style scoped>\n",
       "    .dataframe tbody tr th:only-of-type {\n",
       "        vertical-align: middle;\n",
       "    }\n",
       "\n",
       "    .dataframe tbody tr th {\n",
       "        vertical-align: top;\n",
       "    }\n",
       "\n",
       "    .dataframe thead th {\n",
       "        text-align: right;\n",
       "    }\n",
       "</style>\n",
       "<table border=\"1\" class=\"dataframe\">\n",
       "  <thead>\n",
       "    <tr style=\"text-align: right;\">\n",
       "      <th></th>\n",
       "      <th>mean</th>\n",
       "      <th>std</th>\n",
       "      <th>count</th>\n",
       "      <th>SE</th>\n",
       "    </tr>\n",
       "    <tr>\n",
       "      <th>topic</th>\n",
       "      <th></th>\n",
       "      <th></th>\n",
       "      <th></th>\n",
       "      <th></th>\n",
       "    </tr>\n",
       "  </thead>\n",
       "  <tbody>\n",
       "    <tr>\n",
       "      <th>Divorce</th>\n",
       "      <td>0.057522</td>\n",
       "      <td>0.233354</td>\n",
       "      <td>226</td>\n",
       "      <td>0.015523</td>\n",
       "    </tr>\n",
       "    <tr>\n",
       "      <th>Birth</th>\n",
       "      <td>0.135678</td>\n",
       "      <td>0.343310</td>\n",
       "      <td>199</td>\n",
       "      <td>0.024337</td>\n",
       "    </tr>\n",
       "    <tr>\n",
       "      <th>Moving</th>\n",
       "      <td>0.183333</td>\n",
       "      <td>0.387748</td>\n",
       "      <td>240</td>\n",
       "      <td>0.025029</td>\n",
       "    </tr>\n",
       "    <tr>\n",
       "      <th>Marriage</th>\n",
       "      <td>0.186722</td>\n",
       "      <td>0.390499</td>\n",
       "      <td>241</td>\n",
       "      <td>0.025154</td>\n",
       "    </tr>\n",
       "    <tr>\n",
       "      <th>Graduation</th>\n",
       "      <td>0.340708</td>\n",
       "      <td>0.474999</td>\n",
       "      <td>226</td>\n",
       "      <td>0.031596</td>\n",
       "    </tr>\n",
       "  </tbody>\n",
       "</table>\n",
       "</div>"
      ],
      "text/plain": [
       "                mean       std  count        SE\n",
       "topic                                          \n",
       "Divorce     0.057522  0.233354    226  0.015523\n",
       "Birth       0.135678  0.343310    199  0.024337\n",
       "Moving      0.183333  0.387748    240  0.025029\n",
       "Marriage    0.186722  0.390499    241  0.025154\n",
       "Graduation  0.340708  0.474999    226  0.031596"
      ]
     },
     "execution_count": 48,
     "metadata": {},
     "output_type": "execute_result"
    }
   ],
   "source": [
    "plot_data = t_data.groupby(['topic'])['class'].agg(['mean', 'std', 'count'])\n",
    "plot_data['sqr_count'] = [sqrt(x) for x in plot_data['count']]\n",
    "plot_data['SE'] = plot_data['std']/plot_data['sqr_count']\n",
    "del(plot_data['sqr_count'])\n",
    "plot_data.sort_values('mean', inplace=True)\n",
    "plot_data"
   ]
  },
  {
   "cell_type": "code",
   "execution_count": 49,
   "metadata": {},
   "outputs": [
    {
     "data": {
      "text/plain": [
       "<matplotlib.axes._subplots.AxesSubplot at 0x2ab18f961d0>"
      ]
     },
     "execution_count": 49,
     "metadata": {},
     "output_type": "execute_result"
    },
    {
     "data": {
      "image/png": "[encoded data removed]",
      "text/plain": [
       "<Figure size 648x360 with 1 Axes>"
      ]
     },
     "metadata": {},
     "output_type": "display_data"
    }
   ],
   "source": [
    "# Plot horizontal bar using pandas including error bars\n",
    "error = 2*plot_data['SE']\n",
    "plot_data[['mean']].plot.barh(width=.75, \n",
    "                              color='green', \n",
    "                              figsize=(9,5),\n",
    "                              xerr=error,\n",
    "                              capsize=6,\n",
    "                             title='Manual Tweet Classifications\\nError Bars = 2 Standard Errors of the Mean')"
   ]
  },
  {
   "cell_type": "markdown",
   "metadata": {},
   "source": [
    "Plotting again, but with points for the means and error bars."
   ]
  },
  {
   "cell_type": "code",
   "execution_count": 50,
   "metadata": {},
   "outputs": [
    {
     "data": {
      "image/png": "[encoded data removed]",
      "text/plain": [
       "<Figure size 648x360 with 1 Axes>"
      ]
     },
     "metadata": {},
     "output_type": "display_data"
    }
   ],
   "source": [
    "# Plot again using Matplotlib directly\n",
    "# define the location on the y axis - based on the number of topics\n",
    "fig, ax = plt.subplots(figsize=(9,5))\n",
    "y_pos = np.arange(len(plot_data))\n",
    "class_avg = plot_data['mean']\n",
    "error = 2*plot_data['SE']\n",
    "\n",
    "ax.errorbar(class_avg, \n",
    "            y_pos,\n",
    "            xerr=error, \n",
    "            capsize = 8,\n",
    "            fmt='o', \n",
    "            markersize=10, \n",
    "            linewidth=2, \n",
    "            color='green')\n",
    "ax.set_yticks(y_pos)\n",
    "ax.set_yticklabels(plot_data.index, size=12)\n",
    "# ax.invert_yaxis()  # labels read top-to-bottom\n",
    "ax.set_xlabel('Percent Positive Class')\n",
    "ax.set_title('Manual Tweet Classifications\\nError Bars = 2 Standard Errors of the Mean', size=14)\n",
    "\n",
    "plt.show()"
   ]
  },
  {
   "cell_type": "markdown",
   "metadata": {},
   "source": [
    "### 9. PCA on a collection of interval/continuous/numeric variables\n",
    "[Scikit-Learn PCA example](http://scikit-learn.org/stable/auto_examples/decomposition/plot_pca_iris.html)\n",
    "\n",
    "Since the Twitter data we've been working with so far doesn't have a good number of correlated covariates, we'll load some data from \"Statistical Sleuth\" for the PCA example. You'll find this data in the \"pca\" sheet of our sample data. These data are measurements related to the magnetic force on rods in printers. There are three factors, or variables:\n",
    "* electric current (0, 250, 500)\n",
    "* component configuration (0 or 1)\n",
    "* type of metal (1,2,3,4)"
   ]
  },
  {
   "cell_type": "code",
   "execution_count": 51,
   "metadata": {},
   "outputs": [
    {
     "data": {
      "text/html": [
       "<div>\n",
       "<style scoped>\n",
       "    .dataframe tbody tr th:only-of-type {\n",
       "        vertical-align: middle;\n",
       "    }\n",
       "\n",
       "    .dataframe tbody tr th {\n",
       "        vertical-align: top;\n",
       "    }\n",
       "\n",
       "    .dataframe thead th {\n",
       "        text-align: right;\n",
       "    }\n",
       "</style>\n",
       "<table border=\"1\" class=\"dataframe\">\n",
       "  <thead>\n",
       "    <tr style=\"text-align: right;\">\n",
       "      <th></th>\n",
       "      <th>L1</th>\n",
       "      <th>L2</th>\n",
       "      <th>L3</th>\n",
       "      <th>L4</th>\n",
       "      <th>L5</th>\n",
       "      <th>L6</th>\n",
       "      <th>L7</th>\n",
       "      <th>L8</th>\n",
       "      <th>L9</th>\n",
       "      <th>L10</th>\n",
       "      <th>L11</th>\n",
       "      <th>CURRENT</th>\n",
       "      <th>CONFIGUR</th>\n",
       "      <th>MATERIAL</th>\n",
       "    </tr>\n",
       "  </thead>\n",
       "  <tbody>\n",
       "    <tr>\n",
       "      <th>0</th>\n",
       "      <td>136</td>\n",
       "      <td>142</td>\n",
       "      <td>139</td>\n",
       "      <td>131</td>\n",
       "      <td>122</td>\n",
       "      <td>118</td>\n",
       "      <td>134</td>\n",
       "      <td>138</td>\n",
       "      <td>148</td>\n",
       "      <td>149</td>\n",
       "      <td>171</td>\n",
       "      <td>0</td>\n",
       "      <td>0</td>\n",
       "      <td>1</td>\n",
       "    </tr>\n",
       "    <tr>\n",
       "      <th>1</th>\n",
       "      <td>639</td>\n",
       "      <td>723</td>\n",
       "      <td>782</td>\n",
       "      <td>756</td>\n",
       "      <td>804</td>\n",
       "      <td>804</td>\n",
       "      <td>909</td>\n",
       "      <td>962</td>\n",
       "      <td>1042</td>\n",
       "      <td>1058</td>\n",
       "      <td>1022</td>\n",
       "      <td>250</td>\n",
       "      <td>0</td>\n",
       "      <td>1</td>\n",
       "    </tr>\n",
       "    <tr>\n",
       "      <th>2</th>\n",
       "      <td>673</td>\n",
       "      <td>709</td>\n",
       "      <td>709</td>\n",
       "      <td>719</td>\n",
       "      <td>682</td>\n",
       "      <td>681</td>\n",
       "      <td>759</td>\n",
       "      <td>912</td>\n",
       "      <td>1122</td>\n",
       "      <td>1121</td>\n",
       "      <td>900</td>\n",
       "      <td>500</td>\n",
       "      <td>0</td>\n",
       "      <td>1</td>\n",
       "    </tr>\n",
       "    <tr>\n",
       "      <th>3</th>\n",
       "      <td>471</td>\n",
       "      <td>501</td>\n",
       "      <td>521</td>\n",
       "      <td>519</td>\n",
       "      <td>528</td>\n",
       "      <td>521</td>\n",
       "      <td>540</td>\n",
       "      <td>523</td>\n",
       "      <td>548</td>\n",
       "      <td>525</td>\n",
       "      <td>513</td>\n",
       "      <td>0</td>\n",
       "      <td>1</td>\n",
       "      <td>2</td>\n",
       "    </tr>\n",
       "    <tr>\n",
       "      <th>4</th>\n",
       "      <td>578</td>\n",
       "      <td>617</td>\n",
       "      <td>650</td>\n",
       "      <td>625</td>\n",
       "      <td>632</td>\n",
       "      <td>634</td>\n",
       "      <td>677</td>\n",
       "      <td>695</td>\n",
       "      <td>733</td>\n",
       "      <td>735</td>\n",
       "      <td>747</td>\n",
       "      <td>250</td>\n",
       "      <td>1</td>\n",
       "      <td>2</td>\n",
       "    </tr>\n",
       "  </tbody>\n",
       "</table>\n",
       "</div>"
      ],
      "text/plain": [
       "    L1   L2   L3   L4   L5   L6   L7   L8    L9   L10   L11  CURRENT  \\\n",
       "0  136  142  139  131  122  118  134  138   148   149   171        0   \n",
       "1  639  723  782  756  804  804  909  962  1042  1058  1022      250   \n",
       "2  673  709  709  719  682  681  759  912  1122  1121   900      500   \n",
       "3  471  501  521  519  528  521  540  523   548   525   513        0   \n",
       "4  578  617  650  625  632  634  677  695   733   735   747      250   \n",
       "\n",
       "   CONFIGUR  MATERIAL  \n",
       "0         0         1  \n",
       "1         0         1  \n",
       "2         0         1  \n",
       "3         1         2  \n",
       "4         1         2  "
      ]
     },
     "execution_count": 51,
     "metadata": {},
     "output_type": "execute_result"
    }
   ],
   "source": [
    "pca_data = pd.read_excel(filename, sheet_name='pca')\n",
    "pca_data.head()"
   ]
  },
  {
   "cell_type": "markdown",
   "metadata": {},
   "source": [
    "Let's start by looking at the first five principal components with the 11 rod measurement locations. (note -using '.iloc' since we're picking columns by column number):"
   ]
  },
  {
   "cell_type": "code",
   "execution_count": 52,
   "metadata": {},
   "outputs": [
    {
     "data": {
      "text/plain": [
       "PCA(copy=True, iterated_power='auto', n_components=5, random_state=None,\n",
       "  svd_solver='auto', tol=0.0, whiten=False)"
      ]
     },
     "execution_count": 52,
     "metadata": {},
     "output_type": "execute_result"
    }
   ],
   "source": [
    "pca = PCA(n_components=5)\n",
    "pca.fit(pca_data.iloc[:,0:11])"
   ]
  },
  {
   "cell_type": "code",
   "execution_count": 53,
   "metadata": {},
   "outputs": [
    {
     "data": {
      "text/html": [
       "<div>\n",
       "<style scoped>\n",
       "    .dataframe tbody tr th:only-of-type {\n",
       "        vertical-align: middle;\n",
       "    }\n",
       "\n",
       "    .dataframe tbody tr th {\n",
       "        vertical-align: top;\n",
       "    }\n",
       "\n",
       "    .dataframe thead th {\n",
       "        text-align: right;\n",
       "    }\n",
       "</style>\n",
       "<table border=\"1\" class=\"dataframe\">\n",
       "  <thead>\n",
       "    <tr style=\"text-align: right;\">\n",
       "      <th></th>\n",
       "      <th>0</th>\n",
       "      <th>1</th>\n",
       "      <th>2</th>\n",
       "      <th>3</th>\n",
       "      <th>4</th>\n",
       "      <th>5</th>\n",
       "      <th>6</th>\n",
       "      <th>7</th>\n",
       "      <th>8</th>\n",
       "      <th>9</th>\n",
       "      <th>10</th>\n",
       "    </tr>\n",
       "  </thead>\n",
       "  <tbody>\n",
       "    <tr>\n",
       "      <th>0</th>\n",
       "      <td>-0.222751</td>\n",
       "      <td>-0.232678</td>\n",
       "      <td>-0.238950</td>\n",
       "      <td>-0.248596</td>\n",
       "      <td>-0.262664</td>\n",
       "      <td>-0.290082</td>\n",
       "      <td>-0.309476</td>\n",
       "      <td>-0.336031</td>\n",
       "      <td>-0.376914</td>\n",
       "      <td>-0.379191</td>\n",
       "      <td>-0.360089</td>\n",
       "    </tr>\n",
       "    <tr>\n",
       "      <th>1</th>\n",
       "      <td>0.303992</td>\n",
       "      <td>0.265199</td>\n",
       "      <td>0.259525</td>\n",
       "      <td>0.263796</td>\n",
       "      <td>0.306771</td>\n",
       "      <td>0.387665</td>\n",
       "      <td>0.083217</td>\n",
       "      <td>-0.178518</td>\n",
       "      <td>-0.369690</td>\n",
       "      <td>-0.404456</td>\n",
       "      <td>-0.341871</td>\n",
       "    </tr>\n",
       "    <tr>\n",
       "      <th>2</th>\n",
       "      <td>-0.258881</td>\n",
       "      <td>-0.269982</td>\n",
       "      <td>-0.291085</td>\n",
       "      <td>-0.292707</td>\n",
       "      <td>-0.067155</td>\n",
       "      <td>0.791077</td>\n",
       "      <td>0.200734</td>\n",
       "      <td>-0.078153</td>\n",
       "      <td>-0.054788</td>\n",
       "      <td>-0.000496</td>\n",
       "      <td>0.099825</td>\n",
       "    </tr>\n",
       "    <tr>\n",
       "      <th>3</th>\n",
       "      <td>0.092358</td>\n",
       "      <td>0.050182</td>\n",
       "      <td>0.008377</td>\n",
       "      <td>-0.021469</td>\n",
       "      <td>-0.127594</td>\n",
       "      <td>0.209102</td>\n",
       "      <td>-0.259608</td>\n",
       "      <td>-0.089107</td>\n",
       "      <td>0.430717</td>\n",
       "      <td>0.394391</td>\n",
       "      <td>-0.715555</td>\n",
       "    </tr>\n",
       "    <tr>\n",
       "      <th>4</th>\n",
       "      <td>-0.727500</td>\n",
       "      <td>-0.203342</td>\n",
       "      <td>0.333492</td>\n",
       "      <td>0.144541</td>\n",
       "      <td>0.366972</td>\n",
       "      <td>-0.102910</td>\n",
       "      <td>0.222125</td>\n",
       "      <td>0.134684</td>\n",
       "      <td>0.075304</td>\n",
       "      <td>-0.039724</td>\n",
       "      <td>-0.278029</td>\n",
       "    </tr>\n",
       "  </tbody>\n",
       "</table>\n",
       "</div>"
      ],
      "text/plain": [
       "         0         1         2         3         4         5         6   \\\n",
       "0 -0.222751 -0.232678 -0.238950 -0.248596 -0.262664 -0.290082 -0.309476   \n",
       "1  0.303992  0.265199  0.259525  0.263796  0.306771  0.387665  0.083217   \n",
       "2 -0.258881 -0.269982 -0.291085 -0.292707 -0.067155  0.791077  0.200734   \n",
       "3  0.092358  0.050182  0.008377 -0.021469 -0.127594  0.209102 -0.259608   \n",
       "4 -0.727500 -0.203342  0.333492  0.144541  0.366972 -0.102910  0.222125   \n",
       "\n",
       "         7         8         9         10  \n",
       "0 -0.336031 -0.376914 -0.379191 -0.360089  \n",
       "1 -0.178518 -0.369690 -0.404456 -0.341871  \n",
       "2 -0.078153 -0.054788 -0.000496  0.099825  \n",
       "3 -0.089107  0.430717  0.394391 -0.715555  \n",
       "4  0.134684  0.075304 -0.039724 -0.278029  "
      ]
     },
     "execution_count": 53,
     "metadata": {},
     "output_type": "execute_result"
    }
   ],
   "source": [
    "# Throwing the components into a dataframe for easier viewing:\n",
    "pd.DataFrame(pca.components_)"
   ]
  },
  {
   "cell_type": "code",
   "execution_count": 54,
   "metadata": {},
   "outputs": [
    {
     "data": {
      "text/plain": [
       "[0.9646030884971594,\n",
       " 0.02571518940850387,\n",
       " 0.006983807971060033,\n",
       " 0.001353086110446999,\n",
       " 0.0006707852055051018]"
      ]
     },
     "execution_count": 54,
     "metadata": {},
     "output_type": "execute_result"
    }
   ],
   "source": [
    "# This part of the outputs shows how much of the variance is captured in each principal component:\n",
    "list(pca.explained_variance_ratio_)"
   ]
  },
  {
   "cell_type": "code",
   "execution_count": 55,
   "metadata": {},
   "outputs": [
    {
     "data": {
      "text/plain": [
       "array([9.64603088e-01, 2.57151894e-02, 6.98380797e-03, 1.35308611e-03,\n",
       "       6.70785206e-04])"
      ]
     },
     "execution_count": 55,
     "metadata": {},
     "output_type": "execute_result"
    }
   ],
   "source": [
    "pca.explained_variance_ratio_"
   ]
  },
  {
   "cell_type": "code",
   "execution_count": null,
   "metadata": {},
   "outputs": [],
   "source": []
  }
 ],
 "metadata": {
  "kernelspec": {
   "display_name": "Python 3",
   "language": "python",
   "name": "python3"
  },
  "language_info": {
   "codemirror_mode": {
    "name": "ipython",
    "version": 3
   },
   "file_extension": ".py",
   "mimetype": "text/x-python",
   "name": "python",
   "nbconvert_exporter": "python",
   "pygments_lexer": "ipython3",
   "version": "3.6.5"
  }
 },
 "nbformat": 4,
 "nbformat_minor": 2
}
